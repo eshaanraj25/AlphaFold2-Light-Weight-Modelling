{
 "cells": [
  {
   "cell_type": "markdown",
   "id": "b14e56c1-8574-4bfc-963a-da1771d56421",
   "metadata": {},
   "source": [
    "## Data Cleaning + Evaluating Patterns in Alphafold Protein Prediction Confidence "
   ]
  },
  {
   "cell_type": "code",
   "execution_count": 3,
   "id": "744cd2c0-e7e2-4517-a4fb-dbfabfc72afa",
   "metadata": {},
   "outputs": [
    {
     "ename": "ValueError",
     "evalue": "Cannot run multiple SparkContexts at once; existing SparkContext(app=pyspark-shell, master=local[*]) created by __init__ at /tmp/ipykernel_1312/4264169132.py:8 ",
     "output_type": "error",
     "traceback": [
      "\u001b[0;31m---------------------------------------------------------------------------\u001b[0m",
      "\u001b[0;31mValueError\u001b[0m                                Traceback (most recent call last)",
      "Cell \u001b[0;32mIn[3], line 8\u001b[0m\n\u001b[1;32m      0\u001b[0m <Error retrieving source code with stack_data see ipython/ipython#13598>\n",
      "File \u001b[0;32m/opt/conda/envs/bigdata/lib/python3.10/site-packages/pyspark/context.py:201\u001b[0m, in \u001b[0;36mSparkContext.__init__\u001b[0;34m(self, master, appName, sparkHome, pyFiles, environment, batchSize, serializer, conf, gateway, jsc, profiler_cls, udf_profiler_cls, memory_profiler_cls)\u001b[0m\n\u001b[1;32m    195\u001b[0m \u001b[38;5;28;01mif\u001b[39;00m gateway \u001b[38;5;129;01mis\u001b[39;00m \u001b[38;5;129;01mnot\u001b[39;00m \u001b[38;5;28;01mNone\u001b[39;00m \u001b[38;5;129;01mand\u001b[39;00m gateway\u001b[38;5;241m.\u001b[39mgateway_parameters\u001b[38;5;241m.\u001b[39mauth_token \u001b[38;5;129;01mis\u001b[39;00m \u001b[38;5;28;01mNone\u001b[39;00m:\n\u001b[1;32m    196\u001b[0m     \u001b[38;5;28;01mraise\u001b[39;00m \u001b[38;5;167;01mValueError\u001b[39;00m(\n\u001b[1;32m    197\u001b[0m         \u001b[38;5;124m\"\u001b[39m\u001b[38;5;124mYou are trying to pass an insecure Py4j gateway to Spark. This\u001b[39m\u001b[38;5;124m\"\u001b[39m\n\u001b[1;32m    198\u001b[0m         \u001b[38;5;124m\"\u001b[39m\u001b[38;5;124m is not allowed as it is a security risk.\u001b[39m\u001b[38;5;124m\"\u001b[39m\n\u001b[1;32m    199\u001b[0m     )\n\u001b[0;32m--> 201\u001b[0m \u001b[43mSparkContext\u001b[49m\u001b[38;5;241;43m.\u001b[39;49m\u001b[43m_ensure_initialized\u001b[49m\u001b[43m(\u001b[49m\u001b[38;5;28;43mself\u001b[39;49m\u001b[43m,\u001b[49m\u001b[43m \u001b[49m\u001b[43mgateway\u001b[49m\u001b[38;5;241;43m=\u001b[39;49m\u001b[43mgateway\u001b[49m\u001b[43m,\u001b[49m\u001b[43m \u001b[49m\u001b[43mconf\u001b[49m\u001b[38;5;241;43m=\u001b[39;49m\u001b[43mconf\u001b[49m\u001b[43m)\u001b[49m\n\u001b[1;32m    202\u001b[0m \u001b[38;5;28;01mtry\u001b[39;00m:\n\u001b[1;32m    203\u001b[0m     \u001b[38;5;28mself\u001b[39m\u001b[38;5;241m.\u001b[39m_do_init(\n\u001b[1;32m    204\u001b[0m         master,\n\u001b[1;32m    205\u001b[0m         appName,\n\u001b[0;32m   (...)\u001b[0m\n\u001b[1;32m    215\u001b[0m         memory_profiler_cls,\n\u001b[1;32m    216\u001b[0m     )\n",
      "File \u001b[0;32m/opt/conda/envs/bigdata/lib/python3.10/site-packages/pyspark/context.py:449\u001b[0m, in \u001b[0;36mSparkContext._ensure_initialized\u001b[0;34m(cls, instance, gateway, conf)\u001b[0m\n\u001b[1;32m    446\u001b[0m     callsite \u001b[38;5;241m=\u001b[39m SparkContext\u001b[38;5;241m.\u001b[39m_active_spark_context\u001b[38;5;241m.\u001b[39m_callsite\n\u001b[1;32m    448\u001b[0m     \u001b[38;5;66;03m# Raise error if there is already a running Spark context\u001b[39;00m\n\u001b[0;32m--> 449\u001b[0m     \u001b[38;5;28;01mraise\u001b[39;00m \u001b[38;5;167;01mValueError\u001b[39;00m(\n\u001b[1;32m    450\u001b[0m         \u001b[38;5;124m\"\u001b[39m\u001b[38;5;124mCannot run multiple SparkContexts at once; \u001b[39m\u001b[38;5;124m\"\u001b[39m\n\u001b[1;32m    451\u001b[0m         \u001b[38;5;124m\"\u001b[39m\u001b[38;5;124mexisting SparkContext(app=\u001b[39m\u001b[38;5;132;01m%s\u001b[39;00m\u001b[38;5;124m, master=\u001b[39m\u001b[38;5;132;01m%s\u001b[39;00m\u001b[38;5;124m)\u001b[39m\u001b[38;5;124m\"\u001b[39m\n\u001b[1;32m    452\u001b[0m         \u001b[38;5;124m\"\u001b[39m\u001b[38;5;124m created by \u001b[39m\u001b[38;5;132;01m%s\u001b[39;00m\u001b[38;5;124m at \u001b[39m\u001b[38;5;132;01m%s\u001b[39;00m\u001b[38;5;124m:\u001b[39m\u001b[38;5;132;01m%s\u001b[39;00m\u001b[38;5;124m \u001b[39m\u001b[38;5;124m\"\u001b[39m\n\u001b[1;32m    453\u001b[0m         \u001b[38;5;241m%\u001b[39m (\n\u001b[1;32m    454\u001b[0m             currentAppName,\n\u001b[1;32m    455\u001b[0m             currentMaster,\n\u001b[1;32m    456\u001b[0m             callsite\u001b[38;5;241m.\u001b[39mfunction,\n\u001b[1;32m    457\u001b[0m             callsite\u001b[38;5;241m.\u001b[39mfile,\n\u001b[1;32m    458\u001b[0m             callsite\u001b[38;5;241m.\u001b[39mlinenum,\n\u001b[1;32m    459\u001b[0m         )\n\u001b[1;32m    460\u001b[0m     )\n\u001b[1;32m    461\u001b[0m \u001b[38;5;28;01melse\u001b[39;00m:\n\u001b[1;32m    462\u001b[0m     SparkContext\u001b[38;5;241m.\u001b[39m_active_spark_context \u001b[38;5;241m=\u001b[39m instance\n",
      "\u001b[0;31mValueError\u001b[0m: Cannot run multiple SparkContexts at once; existing SparkContext(app=pyspark-shell, master=local[*]) created by __init__ at /tmp/ipykernel_1312/4264169132.py:8 "
     ]
    }
   ],
   "source": [
    "import os\n",
    "import pyspark\n",
    "conf = pyspark.SparkConf()\n",
    "conf.set('spark.ui.proxyBase', '/user/' + os.environ['JUPYTERHUB_USER'] + '/proxy/4041')\n",
    "#conf.set('spark.sql.repl.eagerEval.enabled', True)\u000b",
    "\n",
    "conf.set('spark.driver.memory','64g')\n",
    "\n",
    "sc = pyspark.SparkContext(conf=conf)\n",
    "spark = pyspark.SQLContext.getOrCreate(sc)"
   ]
  },
  {
   "cell_type": "code",
   "execution_count": 4,
   "id": "9cd11452-7d5f-4503-9211-f005fa5cd8a8",
   "metadata": {},
   "outputs": [
    {
     "data": {
      "text/plain": [
       "'/home/jovyan/bd_final_project'"
      ]
     },
     "execution_count": 4,
     "metadata": {},
     "output_type": "execute_result"
    }
   ],
   "source": [
    "# imports\n",
    "import os\n",
    "from pyspark.sql.functions import col, lit, length\n",
    "from  pyspark.sql.functions import input_file_name\n",
    "from pyspark.sql.functions import split, substring_index, regexp_replace\n",
    "from pyspark.sql.functions import collect_list\n",
    "from pyspark.sql.window import Window\n",
    "from pyspark.sql.functions import mean, size, udf\n",
    "from pyspark.sql.types import FloatType, IntegerType, StringType\n",
    "from collections import Counter\n",
    "from pyspark.sql.functions import udf\n",
    "from pyspark.sql.types import ArrayType\n",
    "from pyspark.sql.functions import array\n",
    "import numpy as np\n",
    "from pyspark.sql.types import MapType, StringType, FloatType\n",
    "\n",
    "os.getcwd()"
   ]
  },
  {
   "cell_type": "markdown",
   "id": "6a84e851-a7d6-4455-a571-369356356214",
   "metadata": {},
   "source": [
    "### Load in .cif files to pyspark df and perform filtering "
   ]
  },
  {
   "cell_type": "code",
   "execution_count": 5,
   "id": "33d64612-6dfc-4941-8c33-1d3d1b407fdd",
   "metadata": {},
   "outputs": [],
   "source": [
    "# read the input text file\n",
    "input_file_paths = \"/home/jovyan/bd_final_project/AF_data1/\"\n",
    "\n",
    "# read the large text files with custom line separator\n",
    "df = spark.read.option(\"lineSep\", \"\\n\").text(input_file_paths)\n",
    "\n",
    "# add filename\n",
    "df = df.withColumn(\"filename\", input_file_name())\n",
    "\n",
    "# Use the `split()` function to split the \"filename\" column based on '/' and access the last element (the file name)\n",
    "# probably need a udf for this \n",
    "\n",
    "# Filter lines that start with the letter 'A'\n",
    "df_filtered = df.filter(df.value.startswith(\"A \"))\n",
    "\n",
    "# Filter rows based on the length of the line - this ensures we are only pulling amino acid and confidence scores\n",
    "max_length = 25 # potential param to adjust if bugs\n",
    "df_filtered = df_filtered.filter((length(df_filtered.value) <= max_length))\n",
    "\n",
    "# Use a regex pattern to split the \"value\" column based on one or more whitespace characters\n",
    "split_values = df_filtered.withColumn(\"split_value\", split(df_filtered.value, \"\\\\s+\"))\n",
    "\n",
    "# Create individual columns from the array\n",
    "df_final = split_values.withColumn(\"comp_id\", col(\"split_value\").getItem(1)) \\\n",
    "                       .withColumn(\"metric_value\", col(\"split_value\").getItem(4)) \\\n",
    "                       .withColumn(\"ordinal_id\", col(\"split_value\").getItem(6))\n",
    "\n",
    "# Drop the \"split_value\" array column since we don't need it anymore\n",
    "df_final = df_final.drop(\"split_value\")\n",
    "# Drop the \"value\" column from the DataFrame\n",
    "df_final = df_final.drop(\"value\")\n"
   ]
  },
  {
   "cell_type": "code",
   "execution_count": 6,
   "id": "7e8d1db2-31fb-4b7b-ac48-ff9b10a2429a",
   "metadata": {},
   "outputs": [
    {
     "name": "stderr",
     "output_type": "stream",
     "text": [
      "                                                                                \r"
     ]
    },
    {
     "name": "stdout",
     "output_type": "stream",
     "text": [
      "+--------------------+--------------------+\n",
      "|               value|            filename|\n",
      "+--------------------+--------------------+\n",
      "|A MET 1   2 43.25...|file:///home/jovy...|\n",
      "|A SER 2   2 57.30...|file:///home/jovy...|\n",
      "|A ALA 3   2 59.96...|file:///home/jovy...|\n",
      "|A ARG 4   2 60.22...|file:///home/jovy...|\n",
      "|A GLU 5   2 53.22...|file:///home/jovy...|\n",
      "|A VAL 6   2 59.43...|file:///home/jovy...|\n",
      "|A ALA 7   2 58.46...|file:///home/jovy...|\n",
      "|A VAL 8   2 57.16...|file:///home/jovy...|\n",
      "|A LEU 9   2 47.80...|file:///home/jovy...|\n",
      "|A LEU 10  2 44.60...|file:///home/jovy...|\n",
      "|A LEU 11  2 41.12...|file:///home/jovy...|\n",
      "|A TRP 12  2 34.89...|file:///home/jovy...|\n",
      "|A LEU 13  2 34.04...|file:///home/jovy...|\n",
      "|A SER 14  2 37.35...|file:///home/jovy...|\n",
      "|A CYS 15  2 34.99...|file:///home/jovy...|\n",
      "|A TYR 16  2 41.30...|file:///home/jovy...|\n",
      "|A GLY 17  2 46.60...|file:///home/jovy...|\n",
      "|A SER 18  2 56.73...|file:///home/jovy...|\n",
      "|A ALA 19  2 73.88...|file:///home/jovy...|\n",
      "|A LEU 20  2 86.69...|file:///home/jovy...|\n",
      "+--------------------+--------------------+\n",
      "only showing top 20 rows\n",
      "\n"
     ]
    }
   ],
   "source": [
    "df_filtered.show()"
   ]
  },
  {
   "cell_type": "code",
   "execution_count": 7,
   "id": "b34cffe3-13fc-4fb2-b3fd-ac09df62d70b",
   "metadata": {
    "scrolled": true
   },
   "outputs": [
    {
     "name": "stderr",
     "output_type": "stream",
     "text": [
      "                                                                                \r"
     ]
    },
    {
     "name": "stdout",
     "output_type": "stream",
     "text": [
      "+--------------------+-------+------------+----------+\n",
      "|            filename|comp_id|metric_value|ordinal_id|\n",
      "+--------------------+-------+------------+----------+\n",
      "|file:///home/jovy...|    MET|       43.25|         1|\n",
      "|file:///home/jovy...|    SER|       57.30|         2|\n",
      "|file:///home/jovy...|    ALA|       59.96|         3|\n",
      "|file:///home/jovy...|    ARG|       60.22|         4|\n",
      "|file:///home/jovy...|    GLU|       53.22|         5|\n",
      "|file:///home/jovy...|    VAL|       59.43|         6|\n",
      "|file:///home/jovy...|    ALA|       58.46|         7|\n",
      "|file:///home/jovy...|    VAL|       57.16|         8|\n",
      "|file:///home/jovy...|    LEU|       47.80|         9|\n",
      "|file:///home/jovy...|    LEU|       44.60|        10|\n",
      "|file:///home/jovy...|    LEU|       41.12|        11|\n",
      "|file:///home/jovy...|    TRP|       34.89|        12|\n",
      "|file:///home/jovy...|    LEU|       34.04|        13|\n",
      "|file:///home/jovy...|    SER|       37.35|        14|\n",
      "|file:///home/jovy...|    CYS|       34.99|        15|\n",
      "|file:///home/jovy...|    TYR|       41.30|        16|\n",
      "|file:///home/jovy...|    GLY|       46.60|        17|\n",
      "|file:///home/jovy...|    SER|       56.73|        18|\n",
      "|file:///home/jovy...|    ALA|       73.88|        19|\n",
      "|file:///home/jovy...|    LEU|       86.69|        20|\n",
      "+--------------------+-------+------------+----------+\n",
      "only showing top 20 rows\n",
      "\n"
     ]
    }
   ],
   "source": [
    "df_final.show()"
   ]
  },
  {
   "cell_type": "code",
   "execution_count": 8,
   "id": "f6786114-e501-4888-96c3-4410305ed850",
   "metadata": {},
   "outputs": [
    {
     "data": {
      "text/plain": [
       "[('filename', 'string'),\n",
       " ('comp_id', 'string'),\n",
       " ('metric_value', 'string'),\n",
       " ('ordinal_id', 'string')]"
      ]
     },
     "execution_count": 8,
     "metadata": {},
     "output_type": "execute_result"
    }
   ],
   "source": [
    "df_final.dtypes"
   ]
  },
  {
   "cell_type": "markdown",
   "id": "14a94b64-38a8-41e2-b2af-22571745efa3",
   "metadata": {},
   "source": [
    "Check to see if first and last proteins a are sequentially mapped in our database"
   ]
  },
  {
   "cell_type": "code",
   "execution_count": 9,
   "id": "10fb5c53-916b-447e-9a25-6756abb30d61",
   "metadata": {},
   "outputs": [
    {
     "name": "stderr",
     "output_type": "stream",
     "text": [
      "                                                                                \r"
     ]
    },
    {
     "data": {
      "text/plain": [
       "[Row(filename='file:///home/jovyan/bd_final_project/AF_data1/AF-Q5SY80-F1-model_v4.cif', comp_id='MET', metric_value='43.25', ordinal_id='1'),\n",
       " Row(filename='file:///home/jovyan/bd_final_project/AF_data1/AF-Q5SY80-F1-model_v4.cif', comp_id='SER', metric_value='57.30', ordinal_id='2'),\n",
       " Row(filename='file:///home/jovyan/bd_final_project/AF_data1/AF-Q5SY80-F1-model_v4.cif', comp_id='ALA', metric_value='59.96', ordinal_id='3'),\n",
       " Row(filename='file:///home/jovyan/bd_final_project/AF_data1/AF-Q5SY80-F1-model_v4.cif', comp_id='ARG', metric_value='60.22', ordinal_id='4'),\n",
       " Row(filename='file:///home/jovyan/bd_final_project/AF_data1/AF-Q5SY80-F1-model_v4.cif', comp_id='GLU', metric_value='53.22', ordinal_id='5'),\n",
       " Row(filename='file:///home/jovyan/bd_final_project/AF_data1/AF-Q5SY80-F1-model_v4.cif', comp_id='VAL', metric_value='59.43', ordinal_id='6'),\n",
       " Row(filename='file:///home/jovyan/bd_final_project/AF_data1/AF-Q5SY80-F1-model_v4.cif', comp_id='ALA', metric_value='58.46', ordinal_id='7'),\n",
       " Row(filename='file:///home/jovyan/bd_final_project/AF_data1/AF-Q5SY80-F1-model_v4.cif', comp_id='VAL', metric_value='57.16', ordinal_id='8'),\n",
       " Row(filename='file:///home/jovyan/bd_final_project/AF_data1/AF-Q5SY80-F1-model_v4.cif', comp_id='LEU', metric_value='47.80', ordinal_id='9'),\n",
       " Row(filename='file:///home/jovyan/bd_final_project/AF_data1/AF-Q5SY80-F1-model_v4.cif', comp_id='LEU', metric_value='44.60', ordinal_id='10')]"
      ]
     },
     "execution_count": 9,
     "metadata": {},
     "output_type": "execute_result"
    }
   ],
   "source": [
    "df_final.head(10)"
   ]
  },
  {
   "cell_type": "code",
   "execution_count": 10,
   "id": "3c9b22cb-0b21-4846-a45f-c9453c6dd0ec",
   "metadata": {},
   "outputs": [
    {
     "data": {
      "text/plain": [
       "[Row(filename='file:///home/jovyan/bd_final_project/AF_data1/AF-Q3LI62-F1-model_v4.cif', comp_id='HIS', metric_value='51.10', ordinal_id='35'),\n",
       " Row(filename='file:///home/jovyan/bd_final_project/AF_data1/AF-Q3LI62-F1-model_v4.cif', comp_id='GLY', metric_value='48.48', ordinal_id='36'),\n",
       " Row(filename='file:///home/jovyan/bd_final_project/AF_data1/AF-Q3LI62-F1-model_v4.cif', comp_id='CYS', metric_value='51.34', ordinal_id='37'),\n",
       " Row(filename='file:///home/jovyan/bd_final_project/AF_data1/AF-Q3LI62-F1-model_v4.cif', comp_id='HIS', metric_value='50.43', ordinal_id='38'),\n",
       " Row(filename='file:///home/jovyan/bd_final_project/AF_data1/AF-Q3LI62-F1-model_v4.cif', comp_id='SER', metric_value='50.87', ordinal_id='39'),\n",
       " Row(filename='file:///home/jovyan/bd_final_project/AF_data1/AF-Q3LI62-F1-model_v4.cif', comp_id='SER', metric_value='47.47', ordinal_id='40'),\n",
       " Row(filename='file:///home/jovyan/bd_final_project/AF_data1/AF-Q3LI62-F1-model_v4.cif', comp_id='TYR', metric_value='45.68', ordinal_id='41'),\n",
       " Row(filename='file:///home/jovyan/bd_final_project/AF_data1/AF-Q3LI62-F1-model_v4.cif', comp_id='SER', metric_value='41.27', ordinal_id='42'),\n",
       " Row(filename='file:///home/jovyan/bd_final_project/AF_data1/AF-Q3LI62-F1-model_v4.cif', comp_id='ALA', metric_value='41.80', ordinal_id='43'),\n",
       " Row(filename='file:///home/jovyan/bd_final_project/AF_data1/AF-Q3LI62-F1-model_v4.cif', comp_id='ARG', metric_value='42.89', ordinal_id='44')]"
      ]
     },
     "execution_count": 10,
     "metadata": {},
     "output_type": "execute_result"
    }
   ],
   "source": [
    "df_final.tail(10)"
   ]
  },
  {
   "cell_type": "markdown",
   "id": "9cf1d3cd-b1a7-4a97-a557-bb19933f55b3",
   "metadata": {},
   "source": [
    "Additional column processing"
   ]
  },
  {
   "cell_type": "code",
   "execution_count": 11,
   "id": "bbb7caa4-4263-4804-a4e4-ab316ceec57c",
   "metadata": {},
   "outputs": [
    {
     "name": "stderr",
     "output_type": "stream",
     "text": [
      "[Stage 10:======================================================> (50 + 1) / 51]\r"
     ]
    },
    {
     "name": "stdout",
     "output_type": "stream",
     "text": [
      "+----------+-------+------------+----------+\n",
      "|protein_id|comp_id|metric_value|ordinal_id|\n",
      "+----------+-------+------------+----------+\n",
      "|    P15144|    MET|       95.50|       212|\n",
      "|    Q2TAC6|    SER|       95.41|       324|\n",
      "|    Q5SY80|    TYR|       89.82|       536|\n",
      "|    P15144|    PHE|       98.54|       221|\n",
      "|    Q0P6D6|    VAL|       95.65|        91|\n",
      "|    P33176|    ASN|       81.56|       501|\n",
      "|    Q2TAC6|    ILE|       52.01|       650|\n",
      "|    P15144|    SER|       94.19|       307|\n",
      "|    P15144|    ASP|       94.21|       370|\n",
      "|    Q2TAC6|    GLU|       28.73|       704|\n",
      "|    Q2KHM9|    THR|       30.71|       135|\n",
      "|    Q2KHM9|    ALA|       91.50|       369|\n",
      "|    Q0P6D6|    LYS|       92.40|       105|\n",
      "|    P57679|    THR|       91.18|       542|\n",
      "|    P57679|    LEU|       96.07|       216|\n",
      "|    P15144|    VAL|       86.48|       822|\n",
      "|    Q2TAC6|    LEU|       38.52|       409|\n",
      "|    P54760|    ALA|       89.27|       371|\n",
      "|    P54760|    VAL|       98.36|       809|\n",
      "|    P54760|    PHE|       79.23|       909|\n",
      "+----------+-------+------------+----------+\n",
      "only showing top 20 rows\n",
      "\n"
     ]
    },
    {
     "name": "stderr",
     "output_type": "stream",
     "text": [
      "                                                                                \r"
     ]
    }
   ],
   "source": [
    "df_final = df_final.repartition(10)\n",
    "\n",
    "# Split the 'filename' column based on '/'\n",
    "df_final = df_final.withColumn(\"filename_split\", split(col(\"filename\"), \"/\"))\n",
    "df_final = df_final.withColumn(\"protein_id\", col(\"filename_split\").getItem(7))\n",
    "\n",
    "# Drop the \"split_value\" array column since we don't need it anymore\n",
    "df_final = df_final.drop(\"filename_split\")\n",
    "# Drop the \"value\" column from the DataFrame\n",
    "df_final = df_final.drop(\"filename\")\n",
    "\n",
    "# Clean the protein_id column to remove 'AF-' at the beginning and '-F1-model...' at the end\n",
    "df_final = df_final.withColumn(\"protein_id\", regexp_replace(col(\"protein_id\"), \"^AF-|-F1-model.*$\", \"\"))\n",
    "\n",
    "# Reorder columns to place 'protein_id' as the first column\n",
    "df_final = df_final.select(\"protein_id\", \"comp_id\", \"metric_value\", \"ordinal_id\")\n",
    "\n",
    "# Show the final DataFrame\n",
    "df_final.show(truncate=True)"
   ]
  },
  {
   "cell_type": "markdown",
   "id": "dce85760-4540-4b6b-892d-6dfdd3462d79",
   "metadata": {},
   "source": [
    "Collect amino acids and confidence scores on a protein-wise basis and transpose them into vectors. "
   ]
  },
  {
   "cell_type": "code",
   "execution_count": 12,
   "id": "f12ee559-8521-495e-84d4-abf9dc23a6d7",
   "metadata": {},
   "outputs": [
    {
     "name": "stderr",
     "output_type": "stream",
     "text": [
      "[Stage 15:=============================================>           (8 + 2) / 10]\r"
     ]
    },
    {
     "name": "stdout",
     "output_type": "stream",
     "text": [
      "+----------+--------------------+--------------------+--------------------+\n",
      "|protein_id|        comp_id_list|   metric_value_list|     ordinal_id_list|\n",
      "+----------+--------------------+--------------------+--------------------+\n",
      "|    P01764|[SER, GLY, GLY, A...|[96.44, 96.30, 97...|[44, 28, 27, 116,...|\n",
      "|    P01833|[THR, CYS, VAL, T...|[33.33, 93.66, 40...|[722, 441, 672, 3...|\n",
      "|    P02545|[TYR, PHE, TYR, A...|[35.80, 96.15, 96...|[626, 451, 81, 47...|\n",
      "|    P02656|[VAL, THR, VAL, A...|[86.55, 83.18, 62...|[8, 76, 55, 56, 1...|\n",
      "|    P02679|[ASP, LYS, ILE, A...|[98.37, 93.10, 98...|[314, 114, 182, 1...|\n",
      "|    P02765|[VAL, LYS, GLU, V...|[96.92, 93.04, 39...|[110, 106, 262, 2...|\n",
      "|    P02771|[LYS, GLN, SER, H...|[94.77, 92.10, 91...|[68, 394, 115, 12...|\n",
      "|    P03886|[SER, PHE, ALA, L...|[96.12, 89.71, 85...|[306, 220, 249, 2...|\n",
      "|    P03891|[SER, THR, LEU, L...|[91.17, 97.82, 97...|[148, 185, 130, 2...|\n",
      "|    P03951|[GLU, TYR, PHE, G...|[42.08, 29.43, 89...|[379, 5, 295, 453...|\n",
      "|    P04066|[ASN, CYS, TRP, G...|[98.56, 97.28, 98...|[244, 269, 64, 27...|\n",
      "|    P04156|[PRO, TRP, TYR, T...|[43.72, 38.50, 88...|[39, 73, 218, 149...|\n",
      "|    P04181|[HIS, LYS, GLU, L...|[95.73, 98.80, 98...|[56, 421, 359, 13...|\n",
      "|    P04196|[GLY, ARG, LEU, A...|[31.09, 88.39, 93...|[383, 111, 37, 20...|\n",
      "|    P04430|[LEU, SER, LYS, A...|[62.55, 98.51, 97...|[15, 29, 61, 53, ...|\n",
      "|    P04433|[THR, GLY, THR, S...|[98.79, 98.72, 98...|[92, 84, 40, 87, ...|\n",
      "|    P04629|[ARG, ARG, GLY, L...|[73.33, 92.65, 92...|[559, 744, 102, 2...|\n",
      "|    P04798|[ASP, ASP, ARG, P...|[97.85, 96.89, 98...|[126, 208, 65, 40...|\n",
      "|    P04843|[PRO, ASP, SER, P...|[37.53, 94.85, 92...|[19, 212, 68, 167...|\n",
      "|    P05067|[GLU, THR, LEU, V...|[89.25, 28.49, 27...|[445, 598, 618, 7...|\n",
      "+----------+--------------------+--------------------+--------------------+\n",
      "only showing top 20 rows\n",
      "\n"
     ]
    },
    {
     "name": "stderr",
     "output_type": "stream",
     "text": [
      "                                                                                \r"
     ]
    }
   ],
   "source": [
    "# Repartition the DataFrame based on 'protein_id' and sort within each partition\n",
    "#df_repartitioned = df_final.repartition(\"protein_id\").sortWithinPartitions(\"protein_id\", \"ordinal_id\")\n",
    "\n",
    "# Group by 'protein_id' and aggregate 'comp_id', 'metric_value', and 'ordinal_id' into lists\n",
    "df_grouped = df_final.groupBy(\"protein_id\").agg(\n",
    "    collect_list(\"comp_id\").alias(\"comp_id_list\"),\n",
    "    collect_list(\"metric_value\").alias(\"metric_value_list\"),\n",
    "    collect_list(\"ordinal_id\").alias(\"ordinal_id_list\")\n",
    ")\n",
    "\n",
    "df_grouped.show()"
   ]
  },
  {
   "cell_type": "markdown",
   "id": "ce988a02-b8f8-43c6-aed7-b0f020729381",
   "metadata": {},
   "source": [
    "Define a custom function to reorder comp_id_list and metric_value_list based on the order of ordinal_id_list"
   ]
  },
  {
   "cell_type": "code",
   "execution_count": 13,
   "id": "0d0709f7-3094-44ab-9071-53daa8a7d5a7",
   "metadata": {},
   "outputs": [],
   "source": [
    "def reorder_lists(comp_id_list, metric_value_list, ordinal_id_list):\n",
    "    # Create a list of tuples with comp_id, metric_value, and ordinal_id\n",
    "    combined_list = list(zip(comp_id_list, metric_value_list, ordinal_id_list))\n",
    "    \n",
    "    # Sort the combined list based on ordinal_id\n",
    "    combined_list.sort(key=lambda x: int(x[2]))\n",
    "    \n",
    "    # Unzip the sorted list back into separate lists\n",
    "    reordered_comp_id_list, reordered_metric_value_list, reordered_ordinal_id_list = zip(*combined_list)\n",
    "    \n",
    "    return list(reordered_comp_id_list), list(reordered_metric_value_list), list(reordered_ordinal_id_list)\n"
   ]
  },
  {
   "cell_type": "code",
   "execution_count": 14,
   "id": "09c166ae-43ef-448d-90e7-75c966a258d7",
   "metadata": {},
   "outputs": [
    {
     "name": "stderr",
     "output_type": "stream",
     "text": [
      "[Stage 24:>                                                         (0 + 1) / 1]\r"
     ]
    },
    {
     "name": "stdout",
     "output_type": "stream",
     "text": [
      "+----------+--------------------+--------------------+--------------------+\n",
      "|protein_id|        comp_id_list|   metric_value_list|     ordinal_id_list|\n",
      "+----------+--------------------+--------------------+--------------------+\n",
      "|    P01764|[MET, GLU, PHE, G...|[41.82, 45.26, 54...|[1, 2, 3, 4, 5, 6...|\n",
      "|    P01833|[MET, LEU, LEU, P...|[52.94, 50.97, 50...|[1, 2, 3, 4, 5, 6...|\n",
      "|    P02545|[MET, GLU, THR, P...|[35.94, 32.07, 36...|[1, 2, 3, 4, 5, 6...|\n",
      "|    P02656|[MET, GLN, PRO, A...|[53.90, 69.83, 77...|[1, 2, 3, 4, 5, 6...|\n",
      "|    P02679|[MET, SER, TRP, S...|[36.93, 34.45, 38...|[1, 2, 3, 4, 5, 6...|\n",
      "|    P02765|[MET, LYS, SER, L...|[59.39, 65.13, 70...|[1, 2, 3, 4, 5, 6...|\n",
      "|    P02771|[MET, LYS, TRP, V...|[33.35, 34.98, 34...|[1, 2, 3, 4, 5, 6...|\n",
      "|    P03886|[MET, PRO, MET, A...|[67.59, 82.83, 90...|[1, 2, 3, 4, 5, 6...|\n",
      "|    P03891|[MET, ASN, PRO, L...|[81.27, 90.75, 92...|[1, 2, 3, 4, 5, 6...|\n",
      "|    P03951|[MET, ILE, PHE, L...|[35.03, 31.60, 30...|[1, 2, 3, 4, 5, 6...|\n",
      "|    P04066|[MET, ARG, ALA, P...|[48.63, 41.14, 52...|[1, 2, 3, 4, 5, 6...|\n",
      "|    P04156|[MET, ALA, ASN, L...|[53.23, 57.65, 62...|[1, 2, 3, 4, 5, 6...|\n",
      "|    P04181|[MET, PHE, SER, L...|[44.58, 37.93, 42...|[1, 2, 3, 4, 5, 6...|\n",
      "|    P04196|[MET, LYS, ALA, L...|[61.59, 70.09, 72...|[1, 2, 3, 4, 5, 6...|\n",
      "|    P04430|[MET, ASP, MET, A...|[43.67, 41.79, 49...|[1, 2, 3, 4, 5, 6...|\n",
      "|    P04433|[MET, GLU, ALA, P...|[46.15, 46.15, 58...|[1, 2, 3, 4, 5, 6...|\n",
      "|    P04629|[MET, LEU, ARG, G...|[38.81, 34.21, 34...|[1, 2, 3, 4, 5, 6...|\n",
      "|    P04798|[MET, LEU, PHE, P...|[39.44, 40.84, 42...|[1, 2, 3, 4, 5, 6...|\n",
      "|    P04843|[MET, GLU, ALA, P...|[37.64, 36.31, 30...|[1, 2, 3, 4, 5, 6...|\n",
      "|    P05067|[MET, LEU, PRO, G...|[44.08, 37.56, 52...|[1, 2, 3, 4, 5, 6...|\n",
      "+----------+--------------------+--------------------+--------------------+\n",
      "only showing top 20 rows\n",
      "\n"
     ]
    },
    {
     "name": "stderr",
     "output_type": "stream",
     "text": [
      "                                                                                \r"
     ]
    }
   ],
   "source": [
    "# Convert the function to a UDF\n",
    "reorder_lists_udf = udf(reorder_lists, ArrayType(StringType()))\n",
    "\n",
    "# Apply the UDF to reorder comp_id_list and metric_value_list based on ordinal_id_list\n",
    "df_reordered = df_grouped.withColumn(\"reordered_lists\", reorder_lists_udf(\"comp_id_list\", \"metric_value_list\", \"ordinal_id_list\"))\n",
    "\n",
    "\n",
    "# Split the reordered_lists column into reordered_comp_id_list and reordered_metric_value_list\n",
    "df_final = df_reordered.withColumn(\"comp_id_list\", col(\"reordered_lists\")[0]) \\\n",
    "                       .withColumn(\"metric_value_list\", col(\"reordered_lists\")[1]) \\\n",
    "                       .withColumn(\"ordinal_id_list\", col(\"reordered_lists\")[2]) \\\n",
    "                       .drop(\"reordered_lists\")\n",
    "\n",
    "# Show the final DataFrame\n",
    "df_final.show()"
   ]
  },
  {
   "cell_type": "markdown",
   "id": "18c3d752-772b-4dc5-a616-dce0130755ca",
   "metadata": {},
   "source": [
    "Convert back to array dtypes for downstream processing. "
   ]
  },
  {
   "cell_type": "code",
   "execution_count": 15,
   "id": "3c5476f8-9d63-45cf-91d8-e9232c1e7a92",
   "metadata": {},
   "outputs": [
    {
     "data": {
      "text/plain": [
       "[('protein_id', 'string'),\n",
       " ('comp_id_list', 'string'),\n",
       " ('metric_value_list', 'string'),\n",
       " ('ordinal_id_list', 'string')]"
      ]
     },
     "execution_count": 15,
     "metadata": {},
     "output_type": "execute_result"
    }
   ],
   "source": [
    "df_final.dtypes"
   ]
  },
  {
   "cell_type": "code",
   "execution_count": 16,
   "id": "a2843b87-30b9-478f-ba94-58a6e90d7448",
   "metadata": {},
   "outputs": [
    {
     "name": "stdout",
     "output_type": "stream",
     "text": [
      "root\n",
      " |-- protein_id: string (nullable = true)\n",
      " |-- comp_id_list: string (nullable = true)\n",
      " |-- metric_value_list: string (nullable = true)\n",
      " |-- ordinal_id_list: string (nullable = true)\n",
      "\n"
     ]
    }
   ],
   "source": [
    "df_final.printSchema()\n"
   ]
  },
  {
   "cell_type": "code",
   "execution_count": 17,
   "id": "f6fc08bc-2ec4-43e3-9c2c-2511f8258ecf",
   "metadata": {},
   "outputs": [
    {
     "name": "stderr",
     "output_type": "stream",
     "text": [
      "[Stage 30:>                                                         (0 + 1) / 1]\r"
     ]
    },
    {
     "name": "stdout",
     "output_type": "stream",
     "text": [
      "+----------+--------------------+--------------------+--------------------+\n",
      "|protein_id|        comp_id_list|   metric_value_list|     ordinal_id_list|\n",
      "+----------+--------------------+--------------------+--------------------+\n",
      "|    P01764|[MET,  GLU,  PHE,...|[41.82, 45.26, 54...|[1, 2, 3, 4, 5, 6...|\n",
      "|    P01833|[MET,  LEU,  LEU,...|[52.94, 50.97, 50...|[1, 2, 3, 4, 5, 6...|\n",
      "|    P02545|[MET,  GLU,  THR,...|[35.94, 32.07, 36...|[1, 2, 3, 4, 5, 6...|\n",
      "|    P02656|[MET,  GLN,  PRO,...|[53.9, 69.83, 77....|[1, 2, 3, 4, 5, 6...|\n",
      "|    P02679|[MET,  SER,  TRP,...|[36.93, 34.45, 38...|[1, 2, 3, 4, 5, 6...|\n",
      "|    P02765|[MET,  LYS,  SER,...|[59.39, 65.13, 70...|[1, 2, 3, 4, 5, 6...|\n",
      "|    P02771|[MET,  LYS,  TRP,...|[33.35, 34.98, 34...|[1, 2, 3, 4, 5, 6...|\n",
      "|    P03886|[MET,  PRO,  MET,...|[67.59, 82.83, 90...|[1, 2, 3, 4, 5, 6...|\n",
      "|    P03891|[MET,  ASN,  PRO,...|[81.27, 90.75, 92...|[1, 2, 3, 4, 5, 6...|\n",
      "|    P03951|[MET,  ILE,  PHE,...|[35.03, 31.6, 30....|[1, 2, 3, 4, 5, 6...|\n",
      "|    P04066|[MET,  ARG,  ALA,...|[48.63, 41.14, 52...|[1, 2, 3, 4, 5, 6...|\n",
      "|    P04156|[MET,  ALA,  ASN,...|[53.23, 57.65, 62...|[1, 2, 3, 4, 5, 6...|\n",
      "|    P04181|[MET,  PHE,  SER,...|[44.58, 37.93, 42...|[1, 2, 3, 4, 5, 6...|\n",
      "|    P04196|[MET,  LYS,  ALA,...|[61.59, 70.09, 72...|[1, 2, 3, 4, 5, 6...|\n",
      "|    P04430|[MET,  ASP,  MET,...|[43.67, 41.79, 49...|[1, 2, 3, 4, 5, 6...|\n",
      "|    P04433|[MET,  GLU,  ALA,...|[46.15, 46.15, 58...|[1, 2, 3, 4, 5, 6...|\n",
      "|    P04629|[MET,  LEU,  ARG,...|[38.81, 34.21, 34...|[1, 2, 3, 4, 5, 6...|\n",
      "|    P04798|[MET,  LEU,  PHE,...|[39.44, 40.84, 42...|[1, 2, 3, 4, 5, 6...|\n",
      "|    P04843|[MET,  GLU,  ALA,...|[37.64, 36.31, 30...|[1, 2, 3, 4, 5, 6...|\n",
      "|    P05067|[MET,  LEU,  PRO,...|[44.08, 37.56, 52...|[1, 2, 3, 4, 5, 6...|\n",
      "+----------+--------------------+--------------------+--------------------+\n",
      "only showing top 20 rows\n",
      "\n"
     ]
    },
    {
     "name": "stderr",
     "output_type": "stream",
     "text": [
      "                                                                                \r"
     ]
    }
   ],
   "source": [
    "# Remove leading and trailing brackets and convert to appropriate array types\n",
    "df_final = df_final \\\n",
    "    .withColumn(\"comp_id_list\", split(regexp_replace(col(\"comp_id_list\"), r\"[\\[\\]]\", \"\"), \",\").cast(ArrayType(StringType()))) \\\n",
    "    .withColumn(\"metric_value_list\", split(regexp_replace(col(\"metric_value_list\"), r\"[\\[\\]]\", \"\"), \",\").cast(ArrayType(FloatType()))) \\\n",
    "    .withColumn(\"ordinal_id_list\", split(regexp_replace(col(\"ordinal_id_list\"), r\"[\\[\\]]\", \"\"), \",\").cast(ArrayType(IntegerType())))\n",
    "\n",
    "# Show the adjusted DataFrame\n",
    "df_final.show()"
   ]
  },
  {
   "cell_type": "code",
   "execution_count": 18,
   "id": "e41b90c3-1ebf-425b-a68c-a8b517be5f17",
   "metadata": {},
   "outputs": [
    {
     "name": "stdout",
     "output_type": "stream",
     "text": [
      "root\n",
      " |-- protein_id: string (nullable = true)\n",
      " |-- comp_id_list: array (nullable = true)\n",
      " |    |-- element: string (containsNull = true)\n",
      " |-- metric_value_list: array (nullable = true)\n",
      " |    |-- element: float (containsNull = true)\n",
      " |-- ordinal_id_list: array (nullable = true)\n",
      " |    |-- element: integer (containsNull = true)\n",
      "\n"
     ]
    }
   ],
   "source": [
    "df_final.printSchema()\n"
   ]
  },
  {
   "cell_type": "markdown",
   "id": "e81a278c-42fb-4205-a1ec-8564637b690d",
   "metadata": {},
   "source": [
    "Compute some basic descriptive stats"
   ]
  },
  {
   "cell_type": "code",
   "execution_count": 19,
   "id": "671b0f27-7cce-48b9-8941-dbbfebcbeb8f",
   "metadata": {},
   "outputs": [
    {
     "name": "stderr",
     "output_type": "stream",
     "text": [
      "[Stage 36:>                                                         (0 + 1) / 1]\r"
     ]
    },
    {
     "name": "stdout",
     "output_type": "stream",
     "text": [
      "+----------+--------------------+--------------------+--------------------+---------------+\n",
      "|protein_id|        comp_id_list|   metric_value_list|     ordinal_id_list|protein_seq_len|\n",
      "+----------+--------------------+--------------------+--------------------+---------------+\n",
      "|    P01764|[MET,  GLU,  PHE,...|[41.82, 45.26, 54...|[1, 2, 3, 4, 5, 6...|            117|\n",
      "|    P01833|[MET,  LEU,  LEU,...|[52.94, 50.97, 50...|[1, 2, 3, 4, 5, 6...|            764|\n",
      "|    P02545|[MET,  GLU,  THR,...|[35.94, 32.07, 36...|[1, 2, 3, 4, 5, 6...|            664|\n",
      "|    P02656|[MET,  GLN,  PRO,...|[53.9, 69.83, 77....|[1, 2, 3, 4, 5, 6...|             99|\n",
      "|    P02679|[MET,  SER,  TRP,...|[36.93, 34.45, 38...|[1, 2, 3, 4, 5, 6...|            453|\n",
      "|    P02765|[MET,  LYS,  SER,...|[59.39, 65.13, 70...|[1, 2, 3, 4, 5, 6...|            367|\n",
      "|    P02771|[MET,  LYS,  TRP,...|[33.35, 34.98, 34...|[1, 2, 3, 4, 5, 6...|            609|\n",
      "|    P03886|[MET,  PRO,  MET,...|[67.59, 82.83, 90...|[1, 2, 3, 4, 5, 6...|            318|\n",
      "|    P03891|[MET,  ASN,  PRO,...|[81.27, 90.75, 92...|[1, 2, 3, 4, 5, 6...|            347|\n",
      "|    P03951|[MET,  ILE,  PHE,...|[35.03, 31.6, 30....|[1, 2, 3, 4, 5, 6...|            625|\n",
      "|    P04066|[MET,  ARG,  ALA,...|[48.63, 41.14, 52...|[1, 2, 3, 4, 5, 6...|            466|\n",
      "|    P04156|[MET,  ALA,  ASN,...|[53.23, 57.65, 62...|[1, 2, 3, 4, 5, 6...|            253|\n",
      "|    P04181|[MET,  PHE,  SER,...|[44.58, 37.93, 42...|[1, 2, 3, 4, 5, 6...|            439|\n",
      "|    P04196|[MET,  LYS,  ALA,...|[61.59, 70.09, 72...|[1, 2, 3, 4, 5, 6...|            525|\n",
      "|    P04430|[MET,  ASP,  MET,...|[43.67, 41.79, 49...|[1, 2, 3, 4, 5, 6...|            117|\n",
      "|    P04433|[MET,  GLU,  ALA,...|[46.15, 46.15, 58...|[1, 2, 3, 4, 5, 6...|            115|\n",
      "|    P04629|[MET,  LEU,  ARG,...|[38.81, 34.21, 34...|[1, 2, 3, 4, 5, 6...|            796|\n",
      "|    P04798|[MET,  LEU,  PHE,...|[39.44, 40.84, 42...|[1, 2, 3, 4, 5, 6...|            512|\n",
      "|    P04843|[MET,  GLU,  ALA,...|[37.64, 36.31, 30...|[1, 2, 3, 4, 5, 6...|            607|\n",
      "|    P05067|[MET,  LEU,  PRO,...|[44.08, 37.56, 52...|[1, 2, 3, 4, 5, 6...|            770|\n",
      "+----------+--------------------+--------------------+--------------------+---------------+\n",
      "only showing top 20 rows\n",
      "\n"
     ]
    },
    {
     "name": "stderr",
     "output_type": "stream",
     "text": [
      "                                                                                \r"
     ]
    }
   ],
   "source": [
    "from pyspark.sql.functions import size\n",
    "\n",
    "# Compute the length of the 'ordinal_id_list' column and create a new column called 'protein length'\n",
    "df_final = df_final.withColumn(\"protein_seq_len\", size(col(\"ordinal_id_list\")))\n",
    "\n",
    "# Show the final DataFrame with the new column\n",
    "df_final.show()"
   ]
  },
  {
   "cell_type": "code",
   "execution_count": 20,
   "id": "4d1c9725-1bcc-4292-8342-2062b26eb823",
   "metadata": {},
   "outputs": [
    {
     "name": "stderr",
     "output_type": "stream",
     "text": [
      "[Stage 42:>                                                         (0 + 1) / 1]\r"
     ]
    },
    {
     "name": "stdout",
     "output_type": "stream",
     "text": [
      "+----------+--------------------+--------------------+--------------------+---------------+-----------+\n",
      "|protein_id|        comp_id_list|   metric_value_list|     ordinal_id_list|protein_seq_len|mean_metric|\n",
      "+----------+--------------------+--------------------+--------------------+---------------+-----------+\n",
      "|    P01764|[MET,  GLU,  PHE,...|[41.82, 45.26, 54...|[1, 2, 3, 4, 5, 6...|            117|   91.02701|\n",
      "|    P01833|[MET,  LEU,  LEU,...|[52.94, 50.97, 50...|[1, 2, 3, 4, 5, 6...|            764|   76.67788|\n",
      "|    P02545|[MET,  GLU,  THR,...|[35.94, 32.07, 36...|[1, 2, 3, 4, 5, 6...|            664|  76.273735|\n",
      "|    P02656|[MET,  GLN,  PRO,...|[53.9, 69.83, 77....|[1, 2, 3, 4, 5, 6...|             99|   68.22879|\n",
      "|    P02679|[MET,  SER,  TRP,...|[36.93, 34.45, 38...|[1, 2, 3, 4, 5, 6...|            453|   85.61137|\n",
      "|    P02765|[MET,  LYS,  SER,...|[59.39, 65.13, 70...|[1, 2, 3, 4, 5, 6...|            367|  76.515884|\n",
      "|    P02771|[MET,  LYS,  TRP,...|[33.35, 34.98, 34...|[1, 2, 3, 4, 5, 6...|            609|   89.07504|\n",
      "|    P03886|[MET,  PRO,  MET,...|[67.59, 82.83, 90...|[1, 2, 3, 4, 5, 6...|            318|  91.677864|\n",
      "|    P03891|[MET,  ASN,  PRO,...|[81.27, 90.75, 92...|[1, 2, 3, 4, 5, 6...|            347|   95.12824|\n",
      "|    P03951|[MET,  ILE,  PHE,...|[35.03, 31.6, 30....|[1, 2, 3, 4, 5, 6...|            625|   86.04632|\n",
      "|    P04066|[MET,  ARG,  ALA,...|[48.63, 41.14, 52...|[1, 2, 3, 4, 5, 6...|            466|   93.29925|\n",
      "|    P04156|[MET,  ALA,  ASN,...|[53.23, 57.65, 62...|[1, 2, 3, 4, 5, 6...|            253|  64.258064|\n",
      "|    P04181|[MET,  PHE,  SER,...|[44.58, 37.93, 42...|[1, 2, 3, 4, 5, 6...|            439|   94.01428|\n",
      "|    P04196|[MET,  LYS,  ALA,...|[61.59, 70.09, 72...|[1, 2, 3, 4, 5, 6...|            525|   64.76844|\n",
      "|    P04430|[MET,  ASP,  MET,...|[43.67, 41.79, 49...|[1, 2, 3, 4, 5, 6...|            117|   89.36539|\n",
      "|    P04433|[MET,  GLU,  ALA,...|[46.15, 46.15, 58...|[1, 2, 3, 4, 5, 6...|            115|   89.78183|\n",
      "|    P04629|[MET,  LEU,  ARG,...|[38.81, 34.21, 34...|[1, 2, 3, 4, 5, 6...|            796|  78.247665|\n",
      "|    P04798|[MET,  LEU,  PHE,...|[39.44, 40.84, 42...|[1, 2, 3, 4, 5, 6...|            512|   95.49762|\n",
      "|    P04843|[MET,  GLU,  ALA,...|[37.64, 36.31, 30...|[1, 2, 3, 4, 5, 6...|            607|   90.17494|\n",
      "|    P05067|[MET,  LEU,  PRO,...|[44.08, 37.56, 52...|[1, 2, 3, 4, 5, 6...|            770|   67.44644|\n",
      "+----------+--------------------+--------------------+--------------------+---------------+-----------+\n",
      "only showing top 20 rows\n",
      "\n"
     ]
    },
    {
     "name": "stderr",
     "output_type": "stream",
     "text": [
      "                                                                                \r"
     ]
    }
   ],
   "source": [
    "#e a UDF to compute the mean of the metric_value_list\n",
    "def compute_mean(values):\n",
    "    return float(np.mean(values))\n",
    "\n",
    "# Register the UDF with a return type of FloatType\n",
    "mean_metric_udf = udf(compute_mean, FloatType())\n",
    "\n",
    "# Add a new column called 'mean_metric' to the DataFrame using the UDF\n",
    "df_final = df_final.withColumn(\"mean_metric\", mean_metric_udf(col(\"metric_value_list\")))\n",
    "\n",
    "# Show the final DataFrame with the new column\n",
    "df_final.show()"
   ]
  },
  {
   "cell_type": "code",
   "execution_count": 21,
   "id": "2f0a8935-9499-43b1-b723-f1d856aae658",
   "metadata": {},
   "outputs": [
    {
     "name": "stderr",
     "output_type": "stream",
     "text": [
      "[Stage 48:>                                                         (0 + 1) / 1]\r"
     ]
    },
    {
     "name": "stdout",
     "output_type": "stream",
     "text": [
      "+----------+--------------------+--------------------+--------------------+---------------+-----------+--------------+\n",
      "|protein_id|        comp_id_list|   metric_value_list|     ordinal_id_list|protein_seq_len|mean_metric|most_common_aa|\n",
      "+----------+--------------------+--------------------+--------------------+---------------+-----------+--------------+\n",
      "|    P01764|[MET,  GLU,  PHE,...|[41.82, 45.26, 54...|[1, 2, 3, 4, 5, 6...|            117|   91.02701|           SER|\n",
      "|    P01833|[MET,  LEU,  LEU,...|[52.94, 50.97, 50...|[1, 2, 3, 4, 5, 6...|            764|   76.67788|           SER|\n",
      "|    P02545|[MET,  GLU,  THR,...|[35.94, 32.07, 36...|[1, 2, 3, 4, 5, 6...|            664|  76.273735|           LEU|\n",
      "|    P02656|[MET,  GLN,  PRO,...|[53.9, 69.83, 77....|[1, 2, 3, 4, 5, 6...|             99|   68.22879|           ALA|\n",
      "|    P02679|[MET,  SER,  TRP,...|[36.93, 34.45, 38...|[1, 2, 3, 4, 5, 6...|            453|   85.61137|           LEU|\n",
      "|    P02765|[MET,  LYS,  SER,...|[59.39, 65.13, 70...|[1, 2, 3, 4, 5, 6...|            367|  76.515884|           PRO|\n",
      "|    P02771|[MET,  LYS,  TRP,...|[33.35, 34.98, 34...|[1, 2, 3, 4, 5, 6...|            609|   89.07504|           LEU|\n",
      "|    P03886|[MET,  PRO,  MET,...|[67.59, 82.83, 90...|[1, 2, 3, 4, 5, 6...|            318|  91.677864|           LEU|\n",
      "|    P03891|[MET,  ASN,  PRO,...|[81.27, 90.75, 92...|[1, 2, 3, 4, 5, 6...|            347|   95.12824|           LEU|\n",
      "|    P03951|[MET,  ILE,  PHE,...|[35.03, 31.6, 30....|[1, 2, 3, 4, 5, 6...|            625|   86.04632|           THR|\n",
      "|    P04066|[MET,  ARG,  ALA,...|[48.63, 41.14, 52...|[1, 2, 3, 4, 5, 6...|            466|   93.29925|           LEU|\n",
      "|    P04156|[MET,  ALA,  ASN,...|[53.23, 57.65, 62...|[1, 2, 3, 4, 5, 6...|            253|  64.258064|           GLY|\n",
      "|    P04181|[MET,  PHE,  SER,...|[44.58, 37.93, 42...|[1, 2, 3, 4, 5, 6...|            439|   94.01428|           LEU|\n",
      "|    P04196|[MET,  LYS,  ALA,...|[61.59, 70.09, 72...|[1, 2, 3, 4, 5, 6...|            525|   64.76844|           HIS|\n",
      "|    P04430|[MET,  ASP,  MET,...|[43.67, 41.79, 49...|[1, 2, 3, 4, 5, 6...|            117|   89.36539|           SER|\n",
      "|    P04433|[MET,  GLU,  ALA,...|[46.15, 46.15, 58...|[1, 2, 3, 4, 5, 6...|            115|   89.78183|           LEU|\n",
      "|    P04629|[MET,  LEU,  ARG,...|[38.81, 34.21, 34...|[1, 2, 3, 4, 5, 6...|            796|  78.247665|           LEU|\n",
      "|    P04798|[MET,  LEU,  PHE,...|[39.44, 40.84, 42...|[1, 2, 3, 4, 5, 6...|            512|   95.49762|           LEU|\n",
      "|    P04843|[MET,  GLU,  ALA,...|[37.64, 36.31, 30...|[1, 2, 3, 4, 5, 6...|            607|   90.17494|           LEU|\n",
      "|    P05067|[MET,  LEU,  PRO,...|[44.08, 37.56, 52...|[1, 2, 3, 4, 5, 6...|            770|   67.44644|           GLU|\n",
      "+----------+--------------------+--------------------+--------------------+---------------+-----------+--------------+\n",
      "only showing top 20 rows\n",
      "\n"
     ]
    },
    {
     "name": "stderr",
     "output_type": "stream",
     "text": [
      "                                                                                \r"
     ]
    }
   ],
   "source": [
    "from collections import Counter\n",
    "\n",
    "# Define a UDF to compute the most common value in the comp_id_list\n",
    "def most_common_value(comp_id_list):\n",
    "    # Use Counter to calculate frequencies of each value in the list\n",
    "    frequency = Counter(comp_id_list)\n",
    "    # Find the most common value and return it\n",
    "    most_common_aa = frequency.most_common(1)[0][0]\n",
    "    return most_common_aa\n",
    "\n",
    "# Register the UDF with a return type of StringType\n",
    "most_common_aa_udf = udf(most_common_value, StringType())\n",
    "\n",
    "# Add a new column called 'most_common_aa' to the DataFrame using the UDF\n",
    "df_final = df_final.withColumn(\"most_common_aa\", most_common_aa_udf(col(\"comp_id_list\")))\n",
    "\n",
    "# Show the final DataFrame with the new column\n",
    "df_final.show()"
   ]
  },
  {
   "cell_type": "markdown",
   "id": "5bd7abe8-a516-40c3-9e6c-3d73578b96ef",
   "metadata": {},
   "source": [
    "Clean df for further processing"
   ]
  },
  {
   "cell_type": "code",
   "execution_count": 22,
   "id": "ab4c8411-6839-4003-9425-b372dd5c42be",
   "metadata": {},
   "outputs": [
    {
     "name": "stderr",
     "output_type": "stream",
     "text": [
      "[Stage 54:>                                                         (0 + 1) / 1]\r"
     ]
    },
    {
     "name": "stdout",
     "output_type": "stream",
     "text": [
      "+----------+--------------------+---------------+--------------+--------------------+---------+\n",
      "|protein_id|         protein_seq|protein_seq_len|most_common_aa|       aa_pLDDT_list|avg_pLDDT|\n",
      "+----------+--------------------+---------------+--------------+--------------------+---------+\n",
      "|    P01764|[MET,  GLU,  PHE,...|            117|           SER|[41.82, 45.26, 54...| 91.02701|\n",
      "|    P01833|[MET,  LEU,  LEU,...|            764|           SER|[52.94, 50.97, 50...| 76.67788|\n",
      "|    P02545|[MET,  GLU,  THR,...|            664|           LEU|[35.94, 32.07, 36...|76.273735|\n",
      "|    P02656|[MET,  GLN,  PRO,...|             99|           ALA|[53.9, 69.83, 77....| 68.22879|\n",
      "|    P02679|[MET,  SER,  TRP,...|            453|           LEU|[36.93, 34.45, 38...| 85.61137|\n",
      "|    P02765|[MET,  LYS,  SER,...|            367|           PRO|[59.39, 65.13, 70...|76.515884|\n",
      "|    P02771|[MET,  LYS,  TRP,...|            609|           LEU|[33.35, 34.98, 34...| 89.07504|\n",
      "|    P03886|[MET,  PRO,  MET,...|            318|           LEU|[67.59, 82.83, 90...|91.677864|\n",
      "|    P03891|[MET,  ASN,  PRO,...|            347|           LEU|[81.27, 90.75, 92...| 95.12824|\n",
      "|    P03951|[MET,  ILE,  PHE,...|            625|           THR|[35.03, 31.6, 30....| 86.04632|\n",
      "|    P04066|[MET,  ARG,  ALA,...|            466|           LEU|[48.63, 41.14, 52...| 93.29925|\n",
      "|    P04156|[MET,  ALA,  ASN,...|            253|           GLY|[53.23, 57.65, 62...|64.258064|\n",
      "|    P04181|[MET,  PHE,  SER,...|            439|           LEU|[44.58, 37.93, 42...| 94.01428|\n",
      "|    P04196|[MET,  LYS,  ALA,...|            525|           HIS|[61.59, 70.09, 72...| 64.76844|\n",
      "|    P04430|[MET,  ASP,  MET,...|            117|           SER|[43.67, 41.79, 49...| 89.36539|\n",
      "|    P04433|[MET,  GLU,  ALA,...|            115|           LEU|[46.15, 46.15, 58...| 89.78183|\n",
      "|    P04629|[MET,  LEU,  ARG,...|            796|           LEU|[38.81, 34.21, 34...|78.247665|\n",
      "|    P04798|[MET,  LEU,  PHE,...|            512|           LEU|[39.44, 40.84, 42...| 95.49762|\n",
      "|    P04843|[MET,  GLU,  ALA,...|            607|           LEU|[37.64, 36.31, 30...| 90.17494|\n",
      "|    P05067|[MET,  LEU,  PRO,...|            770|           GLU|[44.08, 37.56, 52...| 67.44644|\n",
      "+----------+--------------------+---------------+--------------+--------------------+---------+\n",
      "only showing top 20 rows\n",
      "\n"
     ]
    },
    {
     "name": "stderr",
     "output_type": "stream",
     "text": [
      "                                                                                \r"
     ]
    }
   ],
   "source": [
    "# Rename columns\n",
    "df_final = df_final \\\n",
    "    .withColumnRenamed(\"comp_id_list\", \"protein_seq\") \\\n",
    "    .withColumnRenamed(\"metric_value_list\", \"aa_pLDDT_list\") \\\n",
    "    .withColumnRenamed(\"mean_metric\", \"avg_pLDDT\")\n",
    "\n",
    "# Drop the 'ordinal_id_list' column\n",
    "df_final = df_final.drop(\"ordinal_id_list\")\n",
    "\n",
    "# Reorder columns to the specified order\n",
    "df_final = df_final.select(\n",
    "    \"protein_id\",\n",
    "    \"protein_seq\",\n",
    "    \"protein_seq_len\",\n",
    "    \"most_common_aa\",\n",
    "    \"aa_pLDDT_list\",\n",
    "    \"avg_pLDDT\"\n",
    ")\n",
    "\n",
    "# Show the final DataFrame\n",
    "df_final.show()"
   ]
  },
  {
   "cell_type": "code",
   "execution_count": 23,
   "id": "5361332a-070f-489b-9d7d-ac7f3274ab16",
   "metadata": {},
   "outputs": [
    {
     "name": "stderr",
     "output_type": "stream",
     "text": [
      "[Stage 60:>                                                         (0 + 1) / 1]\r"
     ]
    },
    {
     "name": "stdout",
     "output_type": "stream",
     "text": [
      "+----------+--------------------+---------------+--------------+--------------------+---------+\n",
      "|protein_id|         protein_seq|protein_seq_len|most_common_aa|       aa_pLDDT_list|avg_pLDDT|\n",
      "+----------+--------------------+---------------+--------------+--------------------+---------+\n",
      "|    P01764|[MET, GLU, PHE, G...|            117|           SER|[41.82, 45.26, 54...| 91.02701|\n",
      "|    P01833|[MET, LEU, LEU, P...|            764|           SER|[52.94, 50.97, 50...| 76.67788|\n",
      "|    P02545|[MET, GLU, THR, P...|            664|           LEU|[35.94, 32.07, 36...|76.273735|\n",
      "|    P02656|[MET, GLN, PRO, A...|             99|           ALA|[53.9, 69.83, 77....| 68.22879|\n",
      "|    P02679|[MET, SER, TRP, S...|            453|           LEU|[36.93, 34.45, 38...| 85.61137|\n",
      "|    P02765|[MET, LYS, SER, L...|            367|           PRO|[59.39, 65.13, 70...|76.515884|\n",
      "|    P02771|[MET, LYS, TRP, V...|            609|           LEU|[33.35, 34.98, 34...| 89.07504|\n",
      "|    P03886|[MET, PRO, MET, A...|            318|           LEU|[67.59, 82.83, 90...|91.677864|\n",
      "|    P03891|[MET, ASN, PRO, L...|            347|           LEU|[81.27, 90.75, 92...| 95.12824|\n",
      "|    P03951|[MET, ILE, PHE, L...|            625|           THR|[35.03, 31.6, 30....| 86.04632|\n",
      "|    P04066|[MET, ARG, ALA, P...|            466|           LEU|[48.63, 41.14, 52...| 93.29925|\n",
      "|    P04156|[MET, ALA, ASN, L...|            253|           GLY|[53.23, 57.65, 62...|64.258064|\n",
      "|    P04181|[MET, PHE, SER, L...|            439|           LEU|[44.58, 37.93, 42...| 94.01428|\n",
      "|    P04196|[MET, LYS, ALA, L...|            525|           HIS|[61.59, 70.09, 72...| 64.76844|\n",
      "|    P04430|[MET, ASP, MET, A...|            117|           SER|[43.67, 41.79, 49...| 89.36539|\n",
      "|    P04433|[MET, GLU, ALA, P...|            115|           LEU|[46.15, 46.15, 58...| 89.78183|\n",
      "|    P04629|[MET, LEU, ARG, G...|            796|           LEU|[38.81, 34.21, 34...|78.247665|\n",
      "|    P04798|[MET, LEU, PHE, P...|            512|           LEU|[39.44, 40.84, 42...| 95.49762|\n",
      "|    P04843|[MET, GLU, ALA, P...|            607|           LEU|[37.64, 36.31, 30...| 90.17494|\n",
      "|    P05067|[MET, LEU, PRO, G...|            770|           GLU|[44.08, 37.56, 52...| 67.44644|\n",
      "+----------+--------------------+---------------+--------------+--------------------+---------+\n",
      "only showing top 20 rows\n",
      "\n"
     ]
    },
    {
     "name": "stderr",
     "output_type": "stream",
     "text": [
      "                                                                                \r"
     ]
    }
   ],
   "source": [
    "from pyspark.sql.types import ArrayType, StringType\n",
    "\n",
    "# Define a UDF to remove leading spaces from each amino acid in the protein_seq array\n",
    "def remove_spaces(arr):\n",
    "    return [element.strip() for element in arr]\n",
    "\n",
    "# Register the UDF with a return type of ArrayType(StringType())\n",
    "remove_spaces_udf = udf(remove_spaces, ArrayType(StringType()))\n",
    "\n",
    "# Apply the UDF to the protein_seq column to remove leading spaces from each element\n",
    "df_cleaned = df_final.withColumn(\"protein_seq\", remove_spaces_udf(col(\"protein_seq\")))\n",
    "\n",
    "# Show the cleaned DataFrame\n",
    "df_cleaned.show()"
   ]
  },
  {
   "cell_type": "markdown",
   "id": "5dfb5f06-36c8-46a4-a73f-4ae436bcca7d",
   "metadata": {},
   "source": [
    "Compute ratios"
   ]
  },
  {
   "cell_type": "code",
   "execution_count": 24,
   "id": "db2c2dec-57a8-4bd7-a6fc-5be5ada1e197",
   "metadata": {},
   "outputs": [
    {
     "name": "stderr",
     "output_type": "stream",
     "text": [
      "                                                                                \r"
     ]
    },
    {
     "data": {
      "text/plain": [
       "[Row(protein_id='P01764', protein_seq=['MET', 'GLU', 'PHE', 'GLY', 'LEU', 'SER', 'TRP', 'LEU', 'PHE', 'LEU', 'VAL', 'ALA', 'ILE', 'LEU', 'LYS', 'GLY', 'VAL', 'GLN', 'CYS', 'GLU', 'VAL', 'GLN', 'LEU', 'VAL', 'GLU', 'SER', 'GLY', 'GLY', 'GLY', 'LEU', 'VAL', 'GLN', 'PRO', 'GLY', 'GLY', 'SER', 'LEU', 'ARG', 'LEU', 'SER', 'CYS', 'ALA', 'ALA', 'SER', 'GLY', 'PHE', 'THR', 'PHE', 'SER', 'SER', 'TYR', 'ALA', 'MET', 'SER', 'TRP', 'VAL', 'ARG', 'GLN', 'ALA', 'PRO', 'GLY', 'LYS', 'GLY', 'LEU', 'GLU', 'TRP', 'VAL', 'SER', 'ALA', 'ILE', 'SER', 'GLY', 'SER', 'GLY', 'GLY', 'SER', 'THR', 'TYR', 'TYR', 'ALA', 'ASP', 'SER', 'VAL', 'LYS', 'GLY', 'ARG', 'PHE', 'THR', 'ILE', 'SER', 'ARG', 'ASP', 'ASN', 'SER', 'LYS', 'ASN', 'THR', 'LEU', 'TYR', 'LEU', 'GLN', 'MET', 'ASN', 'SER', 'LEU', 'ARG', 'ALA', 'GLU', 'ASP', 'THR', 'ALA', 'VAL', 'TYR', 'TYR', 'CYS', 'ALA', 'LYS'], protein_seq_len=117, most_common_aa=' SER', aa_pLDDT_list=[41.81999969482422, 45.2599983215332, 54.709999084472656, 56.939998626708984, 57.040000915527344, 54.880001068115234, 57.72999954223633, 61.470001220703125, 57.77000045776367, 65.37000274658203, 64.95999908447266, 64.98999786376953, 64.47000122070312, 61.959999084472656, 57.25, 53.779998779296875, 60.630001068115234, 54.11000061035156, 68.95999908447266, 89.55000305175781, 92.29000091552734, 96.30000305175781, 97.81999969482422, 98.05999755859375, 98.55000305175781, 98.37999725341797, 97.54000091552734, 96.30000305175781, 95.98999786376953, 95.86000061035156, 95.41000366210938, 94.68000030517578, 94.97000122070312, 96.7300033569336, 97.66000366210938, 97.7300033569336, 97.44000244140625, 98.37999725341797, 98.69999694824219, 98.75, 98.73999786376953, 98.37000274658203, 97.95999908447266, 96.44000244140625, 95.12999725341797, 94.55000305175781, 95.54000091552734, 96.87000274658203, 96.94999694824219, 96.69999694824219, 97.23999786376953, 98.30000305175781, 98.5, 98.68000030517578, 98.79000091552734, 98.56999969482422, 98.12999725341797, 98.2300033569336, 97.62000274658203, 96.83000183105469, 97.12000274658203, 96.25, 96.37999725341797, 97.5199966430664, 98.1500015258789, 98.31999969482422, 98.55000305175781, 98.66000366210938, 98.72000122070312, 98.7699966430664, 98.23999786376953, 97.3499984741211, 94.37999725341797, 96.56999969482422, 96.2699966430664, 98.18000030517578, 98.69000244140625, 98.54000091552734, 98.66000366210938, 98.30000305175781, 98.01000213623047, 96.70999908447266, 97.88999938964844, 97.4800033569336, 97.7300033569336, 98.12999725341797, 98.41999816894531, 98.58999633789062, 98.77999877929688, 98.56999969482422, 98.37000274658203, 97.98999786376953, 97.30999755859375, 96.87999725341797, 97.47000122070312, 97.61000061035156, 98.54000091552734, 98.79000091552734, 98.75, 98.81999969482422, 98.5999984741211, 98.43000030517578, 98.08999633789062, 97.70999908447266, 97.9800033569336, 96.94999694824219, 95.83000183105469, 95.61000061035156, 97.33999633789062, 97.3499984741211, 97.93000030517578, 97.98999786376953, 98.48999786376953, 98.51000213623047, 98.25, 97.79000091552734, 93.5199966430664], avg_pLDDT=91.02700805664062, aa_ratios={'VAL': 0.07692307978868484, 'SER': 0.1367521435022354, 'ILE': 0.025641025975346565, 'LYS': 0.04273504391312599, 'GLN': 0.04273504391312599, 'TYR': 0.05128205195069313, 'PRO': 0.017094017937779427, 'PHE': 0.04273504391312599, 'GLU': 0.04273504391312599, 'TRP': 0.025641025975346565, 'HIS': 0.0, 'GLY': 0.11965811997652054, 'ARG': 0.04273504391312599, 'ALA': 0.08547008782625198, 'CYS': 0.025641025975346565, 'ASN': 0.025641025975346565, 'MET': 0.025641025975346565, 'LEU': 0.10256410390138626, 'ASP': 0.025641025975346565, 'THR': 0.04273504391312599}),\n",
       " Row(protein_id='P01833', protein_seq=['MET', 'LEU', 'LEU', 'PHE', 'VAL', 'LEU', 'THR', 'CYS', 'LEU', 'LEU', 'ALA', 'VAL', 'PHE', 'PRO', 'ALA', 'ILE', 'SER', 'THR', 'LYS', 'SER', 'PRO', 'ILE', 'PHE', 'GLY', 'PRO', 'GLU', 'GLU', 'VAL', 'ASN', 'SER', 'VAL', 'GLU', 'GLY', 'ASN', 'SER', 'VAL', 'SER', 'ILE', 'THR', 'CYS', 'TYR', 'TYR', 'PRO', 'PRO', 'THR', 'SER', 'VAL', 'ASN', 'ARG', 'HIS', 'THR', 'ARG', 'LYS', 'TYR', 'TRP', 'CYS', 'ARG', 'GLN', 'GLY', 'ALA', 'ARG', 'GLY', 'GLY', 'CYS', 'ILE', 'THR', 'LEU', 'ILE', 'SER', 'SER', 'GLU', 'GLY', 'TYR', 'VAL', 'SER', 'SER', 'LYS', 'TYR', 'ALA', 'GLY', 'ARG', 'ALA', 'ASN', 'LEU', 'THR', 'ASN', 'PHE', 'PRO', 'GLU', 'ASN', 'GLY', 'THR', 'PHE', 'VAL', 'VAL', 'ASN', 'ILE', 'ALA', 'GLN', 'LEU', 'SER', 'GLN', 'ASP', 'ASP', 'SER', 'GLY', 'ARG', 'TYR', 'LYS', 'CYS', 'GLY', 'LEU', 'GLY', 'ILE', 'ASN', 'SER', 'ARG', 'GLY', 'LEU', 'SER', 'PHE', 'ASP', 'VAL', 'SER', 'LEU', 'GLU', 'VAL', 'SER', 'GLN', 'GLY', 'PRO', 'GLY', 'LEU', 'LEU', 'ASN', 'ASP', 'THR', 'LYS', 'VAL', 'TYR', 'THR', 'VAL', 'ASP', 'LEU', 'GLY', 'ARG', 'THR', 'VAL', 'THR', 'ILE', 'ASN', 'CYS', 'PRO', 'PHE', 'LYS', 'THR', 'GLU', 'ASN', 'ALA', 'GLN', 'LYS', 'ARG', 'LYS', 'SER', 'LEU', 'TYR', 'LYS', 'GLN', 'ILE', 'GLY', 'LEU', 'TYR', 'PRO', 'VAL', 'LEU', 'VAL', 'ILE', 'ASP', 'SER', 'SER', 'GLY', 'TYR', 'VAL', 'ASN', 'PRO', 'ASN', 'TYR', 'THR', 'GLY', 'ARG', 'ILE', 'ARG', 'LEU', 'ASP', 'ILE', 'GLN', 'GLY', 'THR', 'GLY', 'GLN', 'LEU', 'LEU', 'PHE', 'SER', 'VAL', 'VAL', 'ILE', 'ASN', 'GLN', 'LEU', 'ARG', 'LEU', 'SER', 'ASP', 'ALA', 'GLY', 'GLN', 'TYR', 'LEU', 'CYS', 'GLN', 'ALA', 'GLY', 'ASP', 'ASP', 'SER', 'ASN', 'SER', 'ASN', 'LYS', 'LYS', 'ASN', 'ALA', 'ASP', 'LEU', 'GLN', 'VAL', 'LEU', 'LYS', 'PRO', 'GLU', 'PRO', 'GLU', 'LEU', 'VAL', 'TYR', 'GLU', 'ASP', 'LEU', 'ARG', 'GLY', 'SER', 'VAL', 'THR', 'PHE', 'HIS', 'CYS', 'ALA', 'LEU', 'GLY', 'PRO', 'GLU', 'VAL', 'ALA', 'ASN', 'VAL', 'ALA', 'LYS', 'PHE', 'LEU', 'CYS', 'ARG', 'GLN', 'SER', 'SER', 'GLY', 'GLU', 'ASN', 'CYS', 'ASP', 'VAL', 'VAL', 'VAL', 'ASN', 'THR', 'LEU', 'GLY', 'LYS', 'ARG', 'ALA', 'PRO', 'ALA', 'PHE', 'GLU', 'GLY', 'ARG', 'ILE', 'LEU', 'LEU', 'ASN', 'PRO', 'GLN', 'ASP', 'LYS', 'ASP', 'GLY', 'SER', 'PHE', 'SER', 'VAL', 'VAL', 'ILE', 'THR', 'GLY', 'LEU', 'ARG', 'LYS', 'GLU', 'ASP', 'ALA', 'GLY', 'ARG', 'TYR', 'LEU', 'CYS', 'GLY', 'ALA', 'HIS', 'SER', 'ASP', 'GLY', 'GLN', 'LEU', 'GLN', 'GLU', 'GLY', 'SER', 'PRO', 'ILE', 'GLN', 'ALA', 'TRP', 'GLN', 'LEU', 'PHE', 'VAL', 'ASN', 'GLU', 'GLU', 'SER', 'THR', 'ILE', 'PRO', 'ARG', 'SER', 'PRO', 'THR', 'VAL', 'VAL', 'LYS', 'GLY', 'VAL', 'ALA', 'GLY', 'GLY', 'SER', 'VAL', 'ALA', 'VAL', 'LEU', 'CYS', 'PRO', 'TYR', 'ASN', 'ARG', 'LYS', 'GLU', 'SER', 'LYS', 'SER', 'ILE', 'LYS', 'TYR', 'TRP', 'CYS', 'LEU', 'TRP', 'GLU', 'GLY', 'ALA', 'GLN', 'ASN', 'GLY', 'ARG', 'CYS', 'PRO', 'LEU', 'LEU', 'VAL', 'ASP', 'SER', 'GLU', 'GLY', 'TRP', 'VAL', 'LYS', 'ALA', 'GLN', 'TYR', 'GLU', 'GLY', 'ARG', 'LEU', 'SER', 'LEU', 'LEU', 'GLU', 'GLU', 'PRO', 'GLY', 'ASN', 'GLY', 'THR', 'PHE', 'THR', 'VAL', 'ILE', 'LEU', 'ASN', 'GLN', 'LEU', 'THR', 'SER', 'ARG', 'ASP', 'ALA', 'GLY', 'PHE', 'TYR', 'TRP', 'CYS', 'LEU', 'THR', 'ASN', 'GLY', 'ASP', 'THR', 'LEU', 'TRP', 'ARG', 'THR', 'THR', 'VAL', 'GLU', 'ILE', 'LYS', 'ILE', 'ILE', 'GLU', 'GLY', 'GLU', 'PRO', 'ASN', 'LEU', 'LYS', 'VAL', 'PRO', 'GLY', 'ASN', 'VAL', 'THR', 'ALA', 'VAL', 'LEU', 'GLY', 'GLU', 'THR', 'LEU', 'LYS', 'VAL', 'PRO', 'CYS', 'HIS', 'PHE', 'PRO', 'CYS', 'LYS', 'PHE', 'SER', 'SER', 'TYR', 'GLU', 'LYS', 'TYR', 'TRP', 'CYS', 'LYS', 'TRP', 'ASN', 'ASN', 'THR', 'GLY', 'CYS', 'GLN', 'ALA', 'LEU', 'PRO', 'SER', 'GLN', 'ASP', 'GLU', 'GLY', 'PRO', 'SER', 'LYS', 'ALA', 'PHE', 'VAL', 'ASN', 'CYS', 'ASP', 'GLU', 'ASN', 'SER', 'ARG', 'LEU', 'VAL', 'SER', 'LEU', 'THR', 'LEU', 'ASN', 'LEU', 'VAL', 'THR', 'ARG', 'ALA', 'ASP', 'GLU', 'GLY', 'TRP', 'TYR', 'TRP', 'CYS', 'GLY', 'VAL', 'LYS', 'GLN', 'GLY', 'HIS', 'PHE', 'TYR', 'GLY', 'GLU', 'THR', 'ALA', 'ALA', 'VAL', 'TYR', 'VAL', 'ALA', 'VAL', 'GLU', 'GLU', 'ARG', 'LYS', 'ALA', 'ALA', 'GLY', 'SER', 'ARG', 'ASP', 'VAL', 'SER', 'LEU', 'ALA', 'LYS', 'ALA', 'ASP', 'ALA', 'ALA', 'PRO', 'ASP', 'GLU', 'LYS', 'VAL', 'LEU', 'ASP', 'SER', 'GLY', 'PHE', 'ARG', 'GLU', 'ILE', 'GLU', 'ASN', 'LYS', 'ALA', 'ILE', 'GLN', 'ASP', 'PRO', 'ARG', 'LEU', 'PHE', 'ALA', 'GLU', 'GLU', 'LYS', 'ALA', 'VAL', 'ALA', 'ASP', 'THR', 'ARG', 'ASP', 'GLN', 'ALA', 'ASP', 'GLY', 'SER', 'ARG', 'ALA', 'SER', 'VAL', 'ASP', 'SER', 'GLY', 'SER', 'SER', 'GLU', 'GLU', 'GLN', 'GLY', 'GLY', 'SER', 'SER', 'ARG', 'ALA', 'LEU', 'VAL', 'SER', 'THR', 'LEU', 'VAL', 'PRO', 'LEU', 'GLY', 'LEU', 'VAL', 'LEU', 'ALA', 'VAL', 'GLY', 'ALA', 'VAL', 'ALA', 'VAL', 'GLY', 'VAL', 'ALA', 'ARG', 'ALA', 'ARG', 'HIS', 'ARG', 'LYS', 'ASN', 'VAL', 'ASP', 'ARG', 'VAL', 'SER', 'ILE', 'ARG', 'SER', 'TYR', 'ARG', 'THR', 'ASP', 'ILE', 'SER', 'MET', 'SER', 'ASP', 'PHE', 'GLU', 'ASN', 'SER', 'ARG', 'GLU', 'PHE', 'GLY', 'ALA', 'ASN', 'ASP', 'ASN', 'MET', 'GLY', 'ALA', 'SER', 'SER', 'ILE', 'THR', 'GLN', 'GLU', 'THR', 'SER', 'LEU', 'GLY', 'GLY', 'LYS', 'GLU', 'GLU', 'PHE', 'VAL', 'ALA', 'THR', 'THR', 'GLU', 'SER', 'THR', 'THR', 'GLU', 'THR', 'LYS', 'GLU', 'PRO', 'LYS', 'LYS', 'ALA', 'LYS', 'ARG', 'SER', 'SER', 'LYS', 'GLU', 'GLU', 'ALA', 'GLU', 'MET', 'ALA', 'TYR', 'LYS', 'ASP', 'PHE', 'LEU', 'LEU', 'GLN', 'SER', 'SER', 'THR', 'VAL', 'ALA', 'ALA', 'GLU', 'ALA', 'GLN', 'ASP', 'GLY', 'PRO', 'GLN', 'GLU', 'ALA'], protein_seq_len=764, most_common_aa=' SER', aa_pLDDT_list=[52.939998626708984, 50.970001220703125, 50.18000030517578, 53.25, 54.36000061035156, 48.72999954223633, 51.470001220703125, 51.189998626708984, 48.84000015258789, 48.59000015258789, 50.34000015258789, 48.84000015258789, 43.529998779296875, 37.86000061035156, 33.97999954223633, 32.849998474121094, 34.34000015258789, 46.810001373291016, 62.099998474121094, 75.58000183105469, 83.12999725341797, 88.7300033569336, 87.33000183105469, 87.93000030517578, 88.23999786376953, 86.43000030517578, 85.81999969482422, 88.29000091552734, 85.37000274658203, 85.68000030517578, 83.47000122070312, 86.25, 84.45999908447266, 87.87000274658203, 91.69999694824219, 92.5199966430664, 94.0199966430664, 94.31999969482422, 93.95999908447266, 93.7300033569336, 91.38999938964844, 89.54000091552734, 85.9800033569336, 83.9800033569336, 84.5199966430664, 85.36000061035156, 88.18000030517578, 89.79000091552734, 90.30999755859375, 88.95999908447266, 92.87999725341797, 95.0, 96.2300033569336, 95.80000305175781, 96.88999938964844, 94.94000244140625, 94.54000091552734, 90.05000305175781, 81.91000366210938, 77.12000274658203, 76.5999984741211, 74.52999877929688, 84.66000366210938, 90.55000305175781, 92.19999694824219, 94.47000122070312, 95.98999786376953, 96.9000015258789, 96.27999877929688, 94.83999633789062, 92.33000183105469, 90.91000366210938, 94.76000213623047, 96.29000091552734, 95.8499984741211, 94.7699966430664, 93.79000091552734, 95.44000244140625, 92.79000091552734, 92.23999786376953, 95.3499984741211, 96.0199966430664, 96.56999969482422, 96.81999969482422, 95.86000061035156, 95.47000122070312, 93.33000183105469, 89.26000213623047, 83.5199966430664, 82.02999877929688, 87.8499984741211, 93.27999877929688, 95.63999938964844, 96.5999984741211, 96.9800033569336, 97.02999877929688, 96.73999786376953, 95.20999908447266, 92.6500015258789, 92.94000244140625, 91.73999786376953, 88.76000213623047, 91.56999969482422, 93.58000183105469, 91.33000183105469, 90.5199966430664, 93.51000213623047, 95.08999633789062, 94.61000061035156, 94.68000030517578, 94.62999725341797, 94.08999633789062, 91.77999877929688, 88.11000061035156, 84.75, 75.38999938964844, 72.19000244140625, 76.62000274658203, 87.37999725341797, 92.25, 91.54000091552734, 92.16000366210938, 92.80000305175781, 92.3499984741211, 92.51000213623047, 90.05000305175781, 88.6500015258789, 82.44999694824219, 77.02999877929688, 64.44000244140625, 59.27000045776367, 52.970001220703125, 50.709999084472656, 52.709999084472656, 53.279998779296875, 67.94000244140625, 72.88999938964844, 82.58999633789062, 81.94999694824219, 85.37000274658203, 83.37000274658203, 85.91999816894531, 83.91000366210938, 84.69000244140625, 84.08000183105469, 86.75, 90.13999938964844, 93.05999755859375, 94.22000122070312, 93.33000183105469, 91.68000030517578, 91.4000015258789, 90.12000274658203, 89.88999938964844, 88.29000091552734, 87.54000091552734, 88.05000305175781, 89.0999984741211, 86.27999877929688, 86.18000030517578, 90.63999938964844, 93.19000244140625, 94.02999877929688, 95.30000305175781, 96.11000061035156, 94.73999786376953, 94.66000366210938, 90.63999938964844, 88.0999984741211, 85.81999969482422, 85.48999786376953, 88.04000091552734, 92.11000061035156, 95.01000213623047, 95.75, 96.13999938964844, 96.73999786376953, 94.45999908447266, 93.20999908447266, 90.38999938964844, 90.7300033569336, 95.08999633789062, 96.1500015258789, 95.37999725341797, 94.38999938964844, 92.81999969482422, 94.2300033569336, 91.62000274658203, 90.69000244140625, 92.83000183105469, 95.80999755859375, 95.19000244140625, 93.8499984741211, 91.37999725341797, 84.52999877929688, 73.52999877929688, 64.87999725341797, 55.84000015258789, 64.47000122070312, 68.41000366210938, 86.68000030517578, 90.75, 91.9800033569336, 93.5999984741211, 95.19000244140625, 95.94000244140625, 95.0, 91.55999755859375, 86.9800033569336, 91.05999755859375, 91.83999633789062, 87.23999786376953, 90.77999877929688, 92.98999786376953, 90.66000366210938, 90.70999908447266, 90.91000366210938, 93.11000061035156, 93.12999725341797, 91.9000015258789, 92.9000015258789, 92.55000305175781, 91.61000061035156, 88.4000015258789, 86.80000305175781, 84.12999725341797, 85.19000244140625, 87.02999877929688, 89.31999969482422, 89.94999694824219, 88.80999755859375, 88.47000122070312, 89.37000274658203, 87.08000183105469, 89.73999786376953, 87.31999969482422, 86.2699966430664, 82.31999969482422, 81.70999908447266, 81.77999877929688, 79.05000305175781, 86.01000213623047, 88.91000366210938, 85.38999938964844, 87.37000274658203, 83.69000244140625, 88.4800033569336, 86.16000366210938, 88.55999755859375, 89.44000244140625, 88.68000030517578, 91.95999908447266, 92.75, 92.27999877929688, 93.02999877929688, 92.44000244140625, 92.73999786376953, 90.62999725341797, 85.54000091552734, 83.4800033569336, 85.63999938964844, 82.94999694824219, 84.8499984741211, 85.2699966430664, 85.55999755859375, 88.5199966430664, 91.08000183105469, 91.5, 93.08000183105469, 95.30000305175781, 95.33999633789062, 94.98999786376953, 90.12999725341797, 80.97000122070312, 66.41000366210938, 68.31999969482422, 68.37999725341797, 84.8499984741211, 91.19000244140625, 93.2699966430664, 94.12000274658203, 94.43000030517578, 92.98999786376953, 91.56999969482422, 88.72000122070312, 87.58999633789062, 85.16000366210938, 89.16000366210938, 90.30000305175781, 92.83000183105469, 92.0199966430664, 92.26000213623047, 92.2699966430664, 90.19000244140625, 88.98999786376953, 92.11000061035156, 92.27999877929688, 89.33999633789062, 88.66999816894531, 83.62999725341797, 70.70999908447266, 70.63999938964844, 71.37999725341797, 70.5199966430664, 75.1500015258789, 76.0, 86.41999816894531, 89.4000015258789, 90.23999786376953, 92.31999969482422, 91.87000274658203, 93.5, 91.88999938964844, 89.08999633789062, 92.58999633789062, 92.33000183105469, 90.58000183105469, 91.93000030517578, 93.97000122070312, 92.56999969482422, 92.19000244140625, 92.80000305175781, 95.19000244140625, 94.48999786376953, 94.4800033569336, 92.29000091552734, 90.95999908447266, 91.37999725341797, 89.66000366210938, 90.44999694824219, 90.37000274658203, 92.25, 91.08000183105469, 88.19999694824219, 83.66999816894531, 80.36000061035156, 86.66999816894531, 89.5199966430664, 91.33999633789062, 91.93000030517578, 92.63999938964844, 94.0199966430664, 92.30000305175781, 92.94999694824219, 89.29000091552734, 90.16000366210938, 84.12000274658203, 85.87999725341797, 79.37000274658203, 80.6500015258789, 79.80999755859375, 82.26000213623047, 81.66000366210938, 81.47000122070312, 77.3499984741211, 84.98999786376953, 85.9000015258789, 93.27999877929688, 94.2699966430664, 94.5999984741211, 94.08999633789062, 95.88999938964844, 94.80999755859375, 92.91999816894531, 94.7300033569336, 97.01000213623047, 96.69000244140625, 95.63999938964844, 95.6500015258789, 94.31999969482422, 93.6500015258789, 92.3499984741211, 90.73999786376953, 88.05999755859375, 87.05000305175781, 84.51000213623047, 85.08000183105469, 87.04000091552734, 88.44000244140625, 91.05000305175781, 93.04000091552734, 94.0999984741211, 94.48999786376953, 95.83000183105469, 94.44000244140625, 93.56999969482422, 91.72000122070312, 84.80000305175781, 69.80000305175781, 55.86000061035156, 54.08000183105469, 57.029998779296875, 62.369998931884766, 80.4800033569336, 86.77999877929688, 89.69000244140625, 93.68000030517578, 95.72000122070312, 95.7699966430664, 95.08999633789062, 93.41999816894531, 92.94000244140625, 89.80000305175781, 94.61000061035156, 95.0, 94.31999969482422, 93.45999908447266, 92.44000244140625, 94.6500015258789, 93.2699966430664, 92.0199966430664, 95.2300033569336, 96.05000305175781, 95.06999969482422, 95.0, 92.98999786376953, 91.30000305175781, 89.33000183105469, 90.02999877929688, 87.08999633789062, 85.72000122070312, 88.23999786376953, 92.36000061035156, 93.33999633789062, 94.87999725341797, 95.76000213623047, 96.2699966430664, 96.97000122070312, 95.5999984741211, 95.08999633789062, 97.0199966430664, 96.30000305175781, 94.5, 93.9000015258789, 95.13999938964844, 95.04000091552734, 93.30000305175781, 94.3499984741211, 95.06999969482422, 94.29000091552734, 93.66000366210938, 92.08000183105469, 89.98999786376953, 86.18000030517578, 79.13999938964844, 76.83999633789062, 78.9800033569336, 80.05999755859375, 84.6500015258789, 89.79000091552734, 90.52999877929688, 92.81999969482422, 94.25, 95.31999969482422, 96.31999969482422, 96.30999755859375, 96.02999877929688, 95.66000366210938, 92.91999816894531, 91.1500015258789, 91.83999633789062, 93.48999786376953, 93.5, 94.70999908447266, 94.27999877929688, 94.61000061035156, 92.0199966430664, 82.25, 85.1500015258789, 93.23999786376953, 92.77999877929688, 91.9800033569336, 92.56999969482422, 92.0999984741211, 89.6500015258789, 92.13999938964844, 92.91000366210938, 92.83999633789062, 94.12999725341797, 95.11000061035156, 96.08999633789062, 96.66999816894531, 96.08999633789062, 95.16999816894531, 94.75, 92.55999755859375, 91.41999816894531, 93.44999694824219, 90.01000213623047, 91.91999816894531, 94.72000122070312, 94.54000091552734, 95.2699966430664, 95.33999633789062, 96.9800033569336, 95.55999755859375, 94.7699966430664, 95.2699966430664, 91.58999633789062, 88.4000015258789, 85.79000091552734, 84.26000213623047, 87.94000244140625, 82.58000183105469, 89.94999694824219, 93.16999816894531, 90.18000030517578, 91.98999786376953, 91.43000030517578, 92.11000061035156, 91.37999725341797, 90.1500015258789, 90.83999633789062, 88.44999694824219, 87.70999908447266, 87.16999816894531, 89.5, 84.97000122070312, 83.31999969482422, 85.1500015258789, 81.63999938964844, 83.77999877929688, 87.87000274658203, 91.9800033569336, 91.7300033569336, 94.0199966430664, 94.73999786376953, 94.63999938964844, 95.01000213623047, 94.13999938964844, 91.68000030517578, 89.77999877929688, 90.27999877929688, 92.73999786376953, 94.05999755859375, 91.68000030517578, 91.80999755859375, 92.43000030517578, 93.38999938964844, 93.33000183105469, 94.41999816894531, 95.5, 96.5999984741211, 96.73999786376953, 96.5999984741211, 96.36000061035156, 94.62999725341797, 93.58999633789062, 91.69000244140625, 91.02999877929688, 92.83999633789062, 93.94000244140625, 94.12999725341797, 95.83999633789062, 96.95999908447266, 96.62000274658203, 95.26000213623047, 95.66999816894531, 95.16000366210938, 94.8499984741211, 94.66000366210938, 93.5199966430664, 91.38999938964844, 86.61000061035156, 75.2300033569336, 61.02000045776367, 48.88999938964844, 43.310001373291016, 38.59000015258789, 35.97999954223633, 40.83000183105469, 35.79999923706055, 43.599998474121094, 36.7400016784668, 41.95000076293945, 38.369998931884766, 34.7400016784668, 39.20000076293945, 36.38999938964844, 37.2400016784668, 40.81999969482422, 40.0, 37.7599983215332, 37.900001525878906, 38.31999969482422, 36.27000045776367, 36.93000030517578, 32.63999938964844, 36.11000061035156, 33.099998474121094, 28.469999313354492, 31.600000381469727, 28.84000015258789, 32.18000030517578, 27.520000457763672, 26.219999313354492, 30.309999465942383, 25.979999542236328, 30.670000076293945, 28.40999984741211, 30.350000381469727, 33.7599983215332, 31.709999084472656, 31.18000030517578, 35.369998931884766, 33.68000030517578, 34.91999816894531, 30.219999313354492, 33.45000076293945, 30.1299991607666, 37.02000045776367, 32.099998474121094, 31.079999923706055, 34.290000915527344, 30.510000228881836, 34.810001373291016, 33.72999954223633, 35.59000015258789, 34.709999084472656, 35.9900016784668, 37.13999938964844, 33.790000915527344, 33.189998626708984, 36.20000076293945, 36.650001525878906, 35.70000076293945, 33.810001373291016, 34.66999816894531, 36.04999923706055, 36.20000076293945, 36.5099983215332, 32.15999984741211, 35.630001068115234, 30.639999389648438, 34.470001220703125, 35.16999816894531, 36.119998931884766, 38.27000045776367, 41.09000015258789, 46.22999954223633, 48.63999938964844, 53.380001068115234, 53.349998474121094, 57.13999938964844, 62.790000915527344, 67.43000030517578, 70.79000091552734, 74.73999786376953, 75.94000244140625, 78.19999694824219, 78.55999755859375, 78.0199966430664, 81.76000213623047, 79.52999877929688, 81.31999969482422, 82.91000366210938, 80.66000366210938, 79.55000305175781, 78.86000061035156, 81.33000183105469, 74.5199966430664, 74.45999908447266, 70.48999786376953, 71.73999786376953, 63.349998474121094, 59.81999969482422, 55.58000183105469, 53.459999084472656, 50.619998931884766, 41.31999969482422, 41.45000076293945, 40.31999969482422, 37.04999923706055, 36.060001373291016, 33.68000030517578, 40.40999984741211, 34.689998626708984, 33.810001373291016, 42.29999923706055, 37.880001068115234, 40.40999984741211, 38.68000030517578, 40.099998474121094, 44.45000076293945, 47.869998931884766, 45.58000183105469, 40.720001220703125, 40.619998931884766, 35.189998626708984, 38.45000076293945, 40.209999084472656, 41.65999984741211, 31.8799991607666, 31.639999389648438, 36.81999969482422, 33.34000015258789, 38.18000030517578, 31.190000534057617, 31.899999618530273, 28.729999542236328, 31.90999984741211, 29.81999969482422, 31.459999084472656, 28.65999984741211, 31.56999969482422, 30.760000228881836, 34.66999816894531, 32.459999084472656, 35.83000183105469, 29.1299991607666, 31.09000015258789, 34.38999938964844, 32.0099983215332, 32.7599983215332, 32.849998474121094, 28.690000534057617, 31.950000762939453, 31.260000228881836, 27.540000915527344, 35.189998626708984, 27.079999923706055, 33.33000183105469, 32.689998626708984, 35.13999938964844, 31.239999771118164, 38.209999084472656, 34.650001525878906, 32.939998626708984, 38.060001373291016, 35.119998931884766, 36.5, 41.75, 38.709999084472656, 47.86000061035156, 62.04999923706055, 64.08000183105469, 68.05000305175781, 67.27999877929688, 70.69999694824219, 70.3499984741211, 75.01000213623047, 76.87000274658203, 74.66000366210938, 76.75, 76.54000091552734, 77.69000244140625, 70.0199966430664, 70.33999633789062, 70.87999725341797, 66.56999969482422, 60.22999954223633, 63.2599983215332, 63.22999954223633, 56.5, 54.439998626708984, 53.86000061035156, 53.099998474121094, 52.029998779296875, 46.16999816894531, 38.880001068115234, 43.880001068115234, 39.709999084472656, 47.2400016784668, 43.08000183105469], avg_pLDDT=76.6778793334961, aa_ratios={'VAL': 0.08507853746414185, 'SER': 0.0890052393078804, 'ILE': 0.035340312868356705, 'LYS': 0.054973822087049484, 'GLN': 0.040575917810201645, 'TYR': 0.03272251412272453, 'PRO': 0.04188481718301773, 'PHE': 0.03272251412272453, 'GLU': 0.07068062573671341, 'TRP': 0.014397906139492989, 'HIS': 0.007853402756154537, 'GLY': 0.08769633620977402, 'ARG': 0.0536649227142334, 'ALA': 0.07591623067855835, 'CYS': 0.027486911043524742, 'ASN': 0.05104712024331093, 'MET': 0.005235602147877216, 'LEU': 0.08638743311166763, 'ASP': 0.04973822087049484, 'THR': 0.057591624557971954}),\n",
       " Row(protein_id='P02545', protein_seq=['MET', 'GLU', 'THR', 'PRO', 'SER', 'GLN', 'ARG', 'ARG', 'ALA', 'THR', 'ARG', 'SER', 'GLY', 'ALA', 'GLN', 'ALA', 'SER', 'SER', 'THR', 'PRO', 'LEU', 'SER', 'PRO', 'THR', 'ARG', 'ILE', 'THR', 'ARG', 'LEU', 'GLN', 'GLU', 'LYS', 'GLU', 'ASP', 'LEU', 'GLN', 'GLU', 'LEU', 'ASN', 'ASP', 'ARG', 'LEU', 'ALA', 'VAL', 'TYR', 'ILE', 'ASP', 'ARG', 'VAL', 'ARG', 'SER', 'LEU', 'GLU', 'THR', 'GLU', 'ASN', 'ALA', 'GLY', 'LEU', 'ARG', 'LEU', 'ARG', 'ILE', 'THR', 'GLU', 'SER', 'GLU', 'GLU', 'VAL', 'VAL', 'SER', 'ARG', 'GLU', 'VAL', 'SER', 'GLY', 'ILE', 'LYS', 'ALA', 'ALA', 'TYR', 'GLU', 'ALA', 'GLU', 'LEU', 'GLY', 'ASP', 'ALA', 'ARG', 'LYS', 'THR', 'LEU', 'ASP', 'SER', 'VAL', 'ALA', 'LYS', 'GLU', 'ARG', 'ALA', 'ARG', 'LEU', 'GLN', 'LEU', 'GLU', 'LEU', 'SER', 'LYS', 'VAL', 'ARG', 'GLU', 'GLU', 'PHE', 'LYS', 'GLU', 'LEU', 'LYS', 'ALA', 'ARG', 'ASN', 'THR', 'LYS', 'LYS', 'GLU', 'GLY', 'ASP', 'LEU', 'ILE', 'ALA', 'ALA', 'GLN', 'ALA', 'ARG', 'LEU', 'LYS', 'ASP', 'LEU', 'GLU', 'ALA', 'LEU', 'LEU', 'ASN', 'SER', 'LYS', 'GLU', 'ALA', 'ALA', 'LEU', 'SER', 'THR', 'ALA', 'LEU', 'SER', 'GLU', 'LYS', 'ARG', 'THR', 'LEU', 'GLU', 'GLY', 'GLU', 'LEU', 'HIS', 'ASP', 'LEU', 'ARG', 'GLY', 'GLN', 'VAL', 'ALA', 'LYS', 'LEU', 'GLU', 'ALA', 'ALA', 'LEU', 'GLY', 'GLU', 'ALA', 'LYS', 'LYS', 'GLN', 'LEU', 'GLN', 'ASP', 'GLU', 'MET', 'LEU', 'ARG', 'ARG', 'VAL', 'ASP', 'ALA', 'GLU', 'ASN', 'ARG', 'LEU', 'GLN', 'THR', 'MET', 'LYS', 'GLU', 'GLU', 'LEU', 'ASP', 'PHE', 'GLN', 'LYS', 'ASN', 'ILE', 'TYR', 'SER', 'GLU', 'GLU', 'LEU', 'ARG', 'GLU', 'THR', 'LYS', 'ARG', 'ARG', 'HIS', 'GLU', 'THR', 'ARG', 'LEU', 'VAL', 'GLU', 'ILE', 'ASP', 'ASN', 'GLY', 'LYS', 'GLN', 'ARG', 'GLU', 'PHE', 'GLU', 'SER', 'ARG', 'LEU', 'ALA', 'ASP', 'ALA', 'LEU', 'GLN', 'GLU', 'LEU', 'ARG', 'ALA', 'GLN', 'HIS', 'GLU', 'ASP', 'GLN', 'VAL', 'GLU', 'GLN', 'TYR', 'LYS', 'LYS', 'GLU', 'LEU', 'GLU', 'LYS', 'THR', 'TYR', 'SER', 'ALA', 'LYS', 'LEU', 'ASP', 'ASN', 'ALA', 'ARG', 'GLN', 'SER', 'ALA', 'GLU', 'ARG', 'ASN', 'SER', 'ASN', 'LEU', 'VAL', 'GLY', 'ALA', 'ALA', 'HIS', 'GLU', 'GLU', 'LEU', 'GLN', 'GLN', 'SER', 'ARG', 'ILE', 'ARG', 'ILE', 'ASP', 'SER', 'LEU', 'SER', 'ALA', 'GLN', 'LEU', 'SER', 'GLN', 'LEU', 'GLN', 'LYS', 'GLN', 'LEU', 'ALA', 'ALA', 'LYS', 'GLU', 'ALA', 'LYS', 'LEU', 'ARG', 'ASP', 'LEU', 'GLU', 'ASP', 'SER', 'LEU', 'ALA', 'ARG', 'GLU', 'ARG', 'ASP', 'THR', 'SER', 'ARG', 'ARG', 'LEU', 'LEU', 'ALA', 'GLU', 'LYS', 'GLU', 'ARG', 'GLU', 'MET', 'ALA', 'GLU', 'MET', 'ARG', 'ALA', 'ARG', 'MET', 'GLN', 'GLN', 'GLN', 'LEU', 'ASP', 'GLU', 'TYR', 'GLN', 'GLU', 'LEU', 'LEU', 'ASP', 'ILE', 'LYS', 'LEU', 'ALA', 'LEU', 'ASP', 'MET', 'GLU', 'ILE', 'HIS', 'ALA', 'TYR', 'ARG', 'LYS', 'LEU', 'LEU', 'GLU', 'GLY', 'GLU', 'GLU', 'GLU', 'ARG', 'LEU', 'ARG', 'LEU', 'SER', 'PRO', 'SER', 'PRO', 'THR', 'SER', 'GLN', 'ARG', 'SER', 'ARG', 'GLY', 'ARG', 'ALA', 'SER', 'SER', 'HIS', 'SER', 'SER', 'GLN', 'THR', 'GLN', 'GLY', 'GLY', 'GLY', 'SER', 'VAL', 'THR', 'LYS', 'LYS', 'ARG', 'LYS', 'LEU', 'GLU', 'SER', 'THR', 'GLU', 'SER', 'ARG', 'SER', 'SER', 'PHE', 'SER', 'GLN', 'HIS', 'ALA', 'ARG', 'THR', 'SER', 'GLY', 'ARG', 'VAL', 'ALA', 'VAL', 'GLU', 'GLU', 'VAL', 'ASP', 'GLU', 'GLU', 'GLY', 'LYS', 'PHE', 'VAL', 'ARG', 'LEU', 'ARG', 'ASN', 'LYS', 'SER', 'ASN', 'GLU', 'ASP', 'GLN', 'SER', 'MET', 'GLY', 'ASN', 'TRP', 'GLN', 'ILE', 'LYS', 'ARG', 'GLN', 'ASN', 'GLY', 'ASP', 'ASP', 'PRO', 'LEU', 'LEU', 'THR', 'TYR', 'ARG', 'PHE', 'PRO', 'PRO', 'LYS', 'PHE', 'THR', 'LEU', 'LYS', 'ALA', 'GLY', 'GLN', 'VAL', 'VAL', 'THR', 'ILE', 'TRP', 'ALA', 'ALA', 'GLY', 'ALA', 'GLY', 'ALA', 'THR', 'HIS', 'SER', 'PRO', 'PRO', 'THR', 'ASP', 'LEU', 'VAL', 'TRP', 'LYS', 'ALA', 'GLN', 'ASN', 'THR', 'TRP', 'GLY', 'CYS', 'GLY', 'ASN', 'SER', 'LEU', 'ARG', 'THR', 'ALA', 'LEU', 'ILE', 'ASN', 'SER', 'THR', 'GLY', 'GLU', 'GLU', 'VAL', 'ALA', 'MET', 'ARG', 'LYS', 'LEU', 'VAL', 'ARG', 'SER', 'VAL', 'THR', 'VAL', 'VAL', 'GLU', 'ASP', 'ASP', 'GLU', 'ASP', 'GLU', 'ASP', 'GLY', 'ASP', 'ASP', 'LEU', 'LEU', 'HIS', 'HIS', 'HIS', 'HIS', 'GLY', 'SER', 'HIS', 'CYS', 'SER', 'SER', 'SER', 'GLY', 'ASP', 'PRO', 'ALA', 'GLU', 'TYR', 'ASN', 'LEU', 'ARG', 'SER', 'ARG', 'THR', 'VAL', 'LEU', 'CYS', 'GLY', 'THR', 'CYS', 'GLY', 'GLN', 'PRO', 'ALA', 'ASP', 'LYS', 'ALA', 'SER', 'ALA', 'SER', 'GLY', 'SER', 'GLY', 'ALA', 'GLN', 'VAL', 'GLY', 'GLY', 'PRO', 'ILE', 'SER', 'SER', 'GLY', 'SER', 'SER', 'ALA', 'SER', 'SER', 'VAL', 'THR', 'VAL', 'THR', 'ARG', 'SER', 'TYR', 'ARG', 'SER', 'VAL', 'GLY', 'GLY', 'SER', 'GLY', 'GLY', 'GLY', 'SER', 'PHE', 'GLY', 'ASP', 'ASN', 'LEU', 'VAL', 'THR', 'ARG', 'SER', 'TYR', 'LEU', 'LEU', 'GLY', 'ASN', 'SER', 'SER', 'PRO', 'ARG', 'THR', 'GLN', 'SER', 'PRO', 'GLN', 'ASN', 'CYS', 'SER', 'ILE', 'MET'], protein_seq_len=664, most_common_aa=' LEU', aa_pLDDT_list=[35.939998626708984, 32.06999969482422, 36.529998779296875, 48.61000061035156, 28.610000610351562, 30.780000686645508, 27.1299991607666, 27.520000457763672, 30.350000381469727, 34.650001525878906, 26.350000381469727, 32.790000915527344, 27.18000030517578, 29.020000457763672, 30.200000762939453, 29.239999771118164, 30.3799991607666, 31.280000686645508, 29.760000228881836, 41.7400016784668, 31.709999084472656, 36.7599983215332, 51.68000030517578, 51.06999969482422, 55.83000183105469, 57.540000915527344, 65.79000091552734, 65.19000244140625, 71.6500015258789, 73.29000091552734, 74.37999725341797, 81.91000366210938, 79.43000030517578, 80.4000015258789, 81.95999908447266, 82.97000122070312, 84.91999816894531, 85.41999816894531, 88.2699966430664, 84.87000274658203, 87.29000091552734, 88.4800033569336, 89.31999969482422, 91.91000366210938, 92.16999816894531, 91.01000213623047, 93.1500015258789, 93.62000274658203, 96.16999816894531, 93.58000183105469, 94.88999938964844, 94.94000244140625, 94.4000015258789, 94.7699966430664, 95.97000122070312, 94.13999938964844, 95.45999908447266, 96.20999908447266, 95.70999908447266, 95.2699966430664, 94.94000244140625, 94.83999633789062, 94.9800033569336, 95.08999633789062, 95.58000183105469, 94.2699966430664, 96.08999633789062, 95.69000244140625, 95.44000244140625, 95.7699966430664, 95.88999938964844, 95.83000183105469, 96.37000274658203, 96.27999877929688, 96.1500015258789, 96.83000183105469, 96.2300033569336, 97.16999816894531, 97.08999633789062, 96.19000244140625, 96.37000274658203, 97.30000305175781, 97.27999877929688, 97.05999755859375, 96.47000122070312, 97.3499984741211, 97.38999938964844, 96.95999908447266, 97.44000244140625, 97.70999908447266, 97.36000061035156, 97.12000274658203, 97.70999908447266, 97.81999969482422, 97.48999786376953, 97.62999725341797, 97.86000061035156, 97.9000015258789, 97.41999816894531, 97.95999908447266, 98.0, 97.69000244140625, 97.9800033569336, 97.54000091552734, 97.94000244140625, 96.94999694824219, 97.94999694824219, 97.94999694824219, 97.62999725341797, 97.75, 97.7699966430664, 97.91000366210938, 97.8499984741211, 98.0, 97.41999816894531, 97.16000366210938, 97.45999908447266, 97.61000061035156, 96.93000030517578, 97.37999725341797, 97.62999725341797, 97.79000091552734, 97.62999725341797, 96.9000015258789, 97.5, 97.76000213623047, 97.52999877929688, 97.66000366210938, 97.30000305175781, 96.76000213623047, 97.55000305175781, 97.1500015258789, 97.37999725341797, 97.01000213623047, 97.31999969482422, 97.2300033569336, 96.87000274658203, 97.2699966430664, 96.25, 97.19000244140625, 96.77999877929688, 96.9800033569336, 96.94999694824219, 96.7699966430664, 97.75, 95.87999725341797, 96.87999725341797, 97.37999725341797, 97.33999633789062, 96.48999786376953, 96.27999877929688, 97.63999938964844, 96.9000015258789, 97.5, 97.55000305175781, 98.05999755859375, 97.12000274658203, 96.58999633789062, 97.54000091552734, 97.18000030517578, 97.47000122070312, 96.20999908447266, 97.06999969482422, 96.58999633789062, 96.20999908447266, 97.12000274658203, 97.05000305175781, 96.54000091552734, 95.7699966430664, 97.25, 96.20999908447266, 96.33000183105469, 97.62000274658203, 97.11000061035156, 96.22000122070312, 97.02999877929688, 97.58999633789062, 96.62999725341797, 94.83999633789062, 97.20999908447266, 97.66000366210938, 96.44000244140625, 96.98999786376953, 97.54000091552734, 97.05000305175781, 95.36000061035156, 95.7699966430664, 96.18000030517578, 95.26000213623047, 94.87000274658203, 97.2699966430664, 95.12000274658203, 94.05000305175781, 96.16000366210938, 95.44999694824219, 95.73999786376953, 94.11000061035156, 96.76000213623047, 96.19000244140625, 94.5199966430664, 94.62000274658203, 93.91000366210938, 94.51000213623047, 93.04000091552734, 94.33999633789062, 94.30000305175781, 95.20999908447266, 92.9000015258789, 91.91000366210938, 94.48999786376953, 89.91999816894531, 91.5999984741211, 85.73999786376953, 86.05000305175781, 81.87000274658203, 82.88999938964844, 78.56999969482422, 80.19999694824219, 78.08999633789062, 69.9000015258789, 61.540000915527344, 60.560001373291016, 57.33000183105469, 52.33000183105469, 46.25, 44.04999923706055, 48.220001220703125, 41.04999923706055, 39.290000915527344, 41.630001068115234, 49.91999816894531, 54.40999984741211, 58.959999084472656, 60.209999084472656, 57.400001525878906, 63.59000015258789, 70.11000061035156, 79.37000274658203, 79.25, 84.31999969482422, 84.1500015258789, 88.08999633789062, 89.1500015258789, 90.79000091552734, 91.25, 92.25, 93.47000122070312, 93.68000030517578, 94.41999816894531, 93.97000122070312, 95.16999816894531, 94.11000061035156, 95.7699966430664, 96.11000061035156, 95.7300033569336, 95.80999755859375, 96.37999725341797, 95.87000274658203, 92.20999908447266, 96.5199966430664, 96.97000122070312, 95.95999908447266, 94.94999694824219, 96.80999755859375, 96.68000030517578, 95.5, 93.87000274658203, 96.55999755859375, 96.05000305175781, 96.12999725341797, 95.33000183105469, 96.0999984741211, 94.61000061035156, 94.08999633789062, 94.43000030517578, 95.73999786376953, 92.6500015258789, 93.41999816894531, 95.0, 93.61000061035156, 93.12999725341797, 93.8499984741211, 94.27999877929688, 93.73999786376953, 93.18000030517578, 93.91999816894531, 93.2300033569336, 92.6500015258789, 93.27999877929688, 94.29000091552734, 93.76000213623047, 93.87000274658203, 96.12999725341797, 96.4000015258789, 93.37999725341797, 96.44999694824219, 96.75, 96.94999694824219, 95.83000183105469, 96.80999755859375, 96.43000030517578, 96.45999908447266, 96.61000061035156, 95.33000183105469, 96.63999938964844, 94.43000030517578, 95.91000366210938, 95.19999694824219, 95.06999969482422, 95.66999816894531, 95.30999755859375, 96.56999969482422, 92.3499984741211, 94.56999969482422, 95.12000274658203, 94.79000091552734, 96.87999725341797, 94.44999694824219, 95.69000244140625, 92.9800033569336, 94.94999694824219, 95.4000015258789, 94.22000122070312, 96.02999877929688, 95.5, 94.81999969482422, 94.55000305175781, 94.7699966430664, 95.68000030517578, 94.31999969482422, 94.95999908447266, 95.23999786376953, 95.80999755859375, 92.44000244140625, 95.77999877929688, 95.86000061035156, 95.87000274658203, 93.5999984741211, 95.3499984741211, 96.77999877929688, 94.43000030517578, 95.44999694824219, 96.12000274658203, 96.31999969482422, 90.7699966430664, 94.33999633789062, 96.58999633789062, 93.72000122070312, 94.81999969482422, 95.83000183105469, 96.58000183105469, 94.79000091552734, 96.36000061035156, 96.9000015258789, 95.98999786376953, 95.70999908447266, 96.45999908447266, 96.62999725341797, 94.16999816894531, 94.45999908447266, 95.27999877929688, 96.69000244140625, 93.62999725341797, 94.98999786376953, 96.27999877929688, 96.3499984741211, 93.98999786376953, 94.41000366210938, 92.86000061035156, 93.18000030517578, 87.44999694824219, 93.52999877929688, 90.06999969482422, 92.19999694824219, 89.1500015258789, 90.2300033569336, 84.58999633789062, 87.16000366210938, 87.12999725341797, 81.9800033569336, 80.19999694824219, 80.13999938964844, 77.91000366210938, 73.62999725341797, 70.25, 79.51000213623047, 70.83999633789062, 53.13999938964844, 45.22999954223633, 41.29999923706055, 46.68000030517578, 33.119998931884766, 39.06999969482422, 34.15999984741211, 28.540000915527344, 29.190000534057617, 30.010000228881836, 29.559999465942383, 30.639999389648438, 25.520000457763672, 27.510000228881836, 30.229999542236328, 27.739999771118164, 27.5, 32.40999984741211, 30.309999465942383, 31.760000228881836, 30.860000610351562, 30.15999984741211, 27.850000381469727, 27.610000610351562, 28.1299991607666, 28.0, 30.90999984741211, 34.97999954223633, 31.81999969482422, 25.780000686645508, 27.010000228881836, 29.06999969482422, 28.68000030517578, 34.91999816894531, 30.989999771118164, 35.52000045776367, 38.79999923706055, 37.810001373291016, 39.279998779296875, 46.79999923706055, 56.650001525878906, 71.81999969482422, 77.06999969482422, 82.38999938964844, 86.48999786376953, 87.69000244140625, 91.41999816894531, 90.62999725341797, 90.70999908447266, 86.0, 86.55000305175781, 92.1500015258789, 95.30000305175781, 95.83999633789062, 95.55000305175781, 93.22000122070312, 93.97000122070312, 92.44000244140625, 91.44000244140625, 86.47000122070312, 86.37000274658203, 91.04000091552734, 93.16000366210938, 96.1500015258789, 96.94000244140625, 97.11000061035156, 97.37999725341797, 96.33000183105469, 96.29000091552734, 94.2699966430664, 91.9800033569336, 92.97000122070312, 94.08000183105469, 95.45999908447266, 95.31999969482422, 94.75, 94.0, 91.9000015258789, 92.63999938964844, 97.22000122070312, 96.94999694824219, 97.23999786376953, 95.83999633789062, 94.11000061035156, 91.80999755859375, 87.66999816894531, 81.69999694824219, 77.94999694824219, 83.83999633789062, 84.61000061035156, 90.31999969482422, 93.48999786376953, 95.86000061035156, 96.38999938964844, 95.5, 95.81999969482422, 92.86000061035156, 91.5999984741211, 90.12000274658203, 95.05999755859375, 94.43000030517578, 95.56999969482422, 95.73999786376953, 94.51000213623047, 92.83999633789062, 95.94999694824219, 96.43000030517578, 97.20999908447266, 97.58000183105469, 97.37999725341797, 97.44999694824219, 95.87000274658203, 93.02999877929688, 91.01000213623047, 90.72000122070312, 89.51000213623047, 90.41999816894531, 91.11000061035156, 93.2699966430664, 92.55999755859375, 88.91000366210938, 88.38999938964844, 92.66999816894531, 96.12999725341797, 96.19000244140625, 95.91999816894531, 95.66999816894531, 91.94999694824219, 92.01000213623047, 90.69000244140625, 92.52999877929688, 92.54000091552734, 92.98999786376953, 86.80999755859375, 81.80000305175781, 83.30000305175781, 83.94000244140625, 87.1500015258789, 90.4800033569336, 94.16000366210938, 95.66000366210938, 96.56999969482422, 97.3499984741211, 96.1500015258789, 93.83000183105469, 90.18000030517578, 89.12999725341797, 89.0199966430664, 91.33999633789062, 94.66999816894531, 95.08999633789062, 95.63999938964844, 95.19999694824219, 94.52999877929688, 93.08999633789062, 89.63999938964844, 87.08999633789062, 81.27999877929688, 75.5199966430664, 63.45000076293945, 58.0, 52.040000915527344, 48.970001220703125, 50.939998626708984, 38.880001068115234, 45.880001068115234, 40.029998779296875, 40.810001373291016, 40.36000061035156, 37.40999984741211, 33.81999969482422, 32.02000045776367, 32.06999969482422, 32.5, 29.209999084472656, 30.1200008392334, 31.31999969482422, 28.75, 31.110000610351562, 25.6200008392334, 28.690000534057617, 25.649999618530273, 25.299999237060547, 27.68000030517578, 29.219999313354492, 30.149999618530273, 30.780000686645508, 31.270000457763672, 39.939998626708984, 29.540000915527344, 33.7599983215332, 35.209999084472656, 33.38999938964844, 35.849998474121094, 35.060001373291016, 42.70000076293945, 42.2599983215332, 52.68000030517578, 51.5, 52.41999816894531, 57.9900016784668, 50.86000061035156, 57.380001068115234, 67.1500015258789, 50.470001220703125, 57.779998779296875, 44.91999816894531, 48.150001525878906, 41.08000183105469, 34.2400016784668, 34.45000076293945, 29.8799991607666, 30.549999237060547, 28.6200008392334, 27.600000381469727, 29.389999389648438, 27.520000457763672, 31.610000610351562, 27.309999465942383, 32.959999084472656, 26.700000762939453, 30.559999465942383, 38.0099983215332, 34.2400016784668, 27.700000762939453, 34.5, 26.729999542236328, 35.20000076293945, 32.59000015258789, 37.790000915527344, 33.47999954223633, 34.84000015258789, 33.59000015258789, 35.66999816894531, 31.68000030517578, 32.47999954223633, 31.31999969482422, 31.1200008392334, 35.79999923706055, 31.389999389648438, 36.290000915527344, 35.400001525878906, 33.41999816894531, 34.810001373291016, 35.81999969482422, 34.529998779296875, 30.1200008392334, 33.91999816894531, 36.34000015258789, 36.099998474121094, 37.56999969482422, 37.900001525878906, 38.33000183105469, 38.959999084472656, 36.58000183105469, 36.66999816894531, 33.52000045776367, 35.08000183105469, 38.20000076293945, 35.459999084472656, 35.36000061035156, 33.880001068115234, 35.70000076293945, 37.029998779296875, 35.02000045776367, 40.47999954223633, 34.27000045776367, 37.900001525878906, 32.650001525878906, 38.11000061035156, 42.16999816894531, 35.599998474121094, 37.4900016784668, 34.4900016784668, 35.5099983215332, 29.989999771118164, 34.959999084472656], avg_pLDDT=76.27373504638672, aa_ratios={'VAL': 0.046686746180057526, 'SER': 0.10391566157341003, 'ILE': 0.024096384644508362, 'LYS': 0.0602409653365612, 'GLN': 0.0602409653365612, 'TYR': 0.016566265374422073, 'PRO': 0.022590361535549164, 'PHE': 0.012048192322254181, 'GLU': 0.10692770779132843, 'TRP': 0.0060240961611270905, 'HIS': 0.01957831345498562, 'GLY': 0.0632530152797699, 'ARG': 0.09638553857803345, 'ALA': 0.08885542303323746, 'CYS': 0.00753012066707015, 'ASN': 0.03162650763988495, 'MET': 0.0150602413341403, 'LEU': 0.10993976145982742, 'ASP': 0.05421686917543411, 'THR': 0.05421686917543411}),\n",
       " Row(protein_id='P02656', protein_seq=['MET', 'GLN', 'PRO', 'ARG', 'VAL', 'LEU', 'LEU', 'VAL', 'VAL', 'ALA', 'LEU', 'LEU', 'ALA', 'LEU', 'LEU', 'ALA', 'SER', 'ALA', 'ARG', 'ALA', 'SER', 'GLU', 'ALA', 'GLU', 'ASP', 'ALA', 'SER', 'LEU', 'LEU', 'SER', 'PHE', 'MET', 'GLN', 'GLY', 'TYR', 'MET', 'LYS', 'HIS', 'ALA', 'THR', 'LYS', 'THR', 'ALA', 'LYS', 'ASP', 'ALA', 'LEU', 'SER', 'SER', 'VAL', 'GLN', 'GLU', 'SER', 'GLN', 'VAL', 'ALA', 'GLN', 'GLN', 'ALA', 'ARG', 'GLY', 'TRP', 'VAL', 'THR', 'ASP', 'GLY', 'PHE', 'SER', 'SER', 'LEU', 'LYS', 'ASP', 'TYR', 'TRP', 'SER', 'THR', 'VAL', 'LYS', 'ASP', 'LYS', 'PHE', 'SER', 'GLU', 'PHE', 'TRP', 'ASP', 'LEU', 'ASP', 'PRO', 'GLU', 'VAL', 'ARG', 'PRO', 'THR', 'SER', 'ALA', 'VAL', 'ALA', 'ALA'], protein_seq_len=99, most_common_aa=' ALA', aa_pLDDT_list=[53.900001525878906, 69.83000183105469, 77.41000366210938, 77.62999725341797, 81.19000244140625, 83.02999877929688, 83.54000091552734, 86.55000305175781, 88.12999725341797, 87.22000122070312, 85.4800033569336, 86.83000183105469, 86.73999786376953, 84.16000366210938, 81.66000366210938, 79.04000091552734, 74.7300033569336, 73.52999877929688, 67.2699966430664, 65.19999694824219, 59.72999954223633, 58.84000015258789, 59.0099983215332, 59.130001068115234, 58.31999969482422, 60.34000015258789, 61.45000076293945, 61.70000076293945, 63.630001068115234, 65.94999694824219, 64.68000030517578, 65.45999908447266, 62.91999816894531, 67.04000091552734, 63.040000915527344, 62.849998474121094, 63.65999984741211, 60.83000183105469, 64.38999938964844, 61.900001525878906, 63.880001068115234, 66.31999969482422, 68.30999755859375, 66.38999938964844, 68.25, 65.7300033569336, 65.69999694824219, 63.369998931884766, 60.209999084472656, 60.650001525878906, 61.13999938964844, 59.18000030517578, 57.18000030517578, 59.060001373291016, 62.7400016784668, 61.29999923706055, 64.55000305175781, 64.77999877929688, 68.02999877929688, 64.45999908447266, 67.37999725341797, 68.19000244140625, 68.87000274658203, 67.05999755859375, 66.56999969482422, 67.83000183105469, 68.30000305175781, 66.69999694824219, 69.43000030517578, 76.4000015258789, 76.7699966430664, 78.54000091552734, 78.87000274658203, 81.97000122070312, 78.87000274658203, 83.18000030517578, 84.98999786376953, 85.11000061035156, 82.0199966430664, 82.70999908447266, 84.02999877929688, 80.43000030517578, 76.01000213623047, 78.2699966430664, 75.80999755859375, 67.8499984741211, 59.310001373291016, 54.38999938964844, 57.61000061035156, 52.58000183105469, 52.959999084472656, 48.90999984741211, 56.81999969482422, 47.56999969482422, 53.77000045776367, 54.04999923706055, 61.439998626708984, 55.400001525878906, 48.5099983215332], avg_pLDDT=68.22879028320312, aa_ratios={'VAL': 0.09090909361839294, 'SER': 0.12121212482452393, 'ILE': 0.0, 'LYS': 0.06060606241226196, 'GLN': 0.06060606241226196, 'TYR': 0.020202020183205605, 'PRO': 0.03030303120613098, 'PHE': 0.04040404036641121, 'GLU': 0.05050504952669144, 'TRP': 0.03030303120613098, 'HIS': 0.010101010091602802, 'GLY': 0.03030303120613098, 'ARG': 0.04040404036641121, 'ALA': 0.1515151560306549, 'CYS': 0.0, 'ASN': 0.0, 'MET': 0.03030303120613098, 'LEU': 0.1111111119389534, 'ASP': 0.07070706784725189, 'THR': 0.05050504952669144}),\n",
       " Row(protein_id='P02679', protein_seq=['MET', 'SER', 'TRP', 'SER', 'LEU', 'HIS', 'PRO', 'ARG', 'ASN', 'LEU', 'ILE', 'LEU', 'TYR', 'PHE', 'TYR', 'ALA', 'LEU', 'LEU', 'PHE', 'LEU', 'SER', 'SER', 'THR', 'CYS', 'VAL', 'ALA', 'TYR', 'VAL', 'ALA', 'THR', 'ARG', 'ASP', 'ASN', 'CYS', 'CYS', 'ILE', 'LEU', 'ASP', 'GLU', 'ARG', 'PHE', 'GLY', 'SER', 'TYR', 'CYS', 'PRO', 'THR', 'THR', 'CYS', 'GLY', 'ILE', 'ALA', 'ASP', 'PHE', 'LEU', 'SER', 'THR', 'TYR', 'GLN', 'THR', 'LYS', 'VAL', 'ASP', 'LYS', 'ASP', 'LEU', 'GLN', 'SER', 'LEU', 'GLU', 'ASP', 'ILE', 'LEU', 'HIS', 'GLN', 'VAL', 'GLU', 'ASN', 'LYS', 'THR', 'SER', 'GLU', 'VAL', 'LYS', 'GLN', 'LEU', 'ILE', 'LYS', 'ALA', 'ILE', 'GLN', 'LEU', 'THR', 'TYR', 'ASN', 'PRO', 'ASP', 'GLU', 'SER', 'SER', 'LYS', 'PRO', 'ASN', 'MET', 'ILE', 'ASP', 'ALA', 'ALA', 'THR', 'LEU', 'LYS', 'SER', 'ARG', 'LYS', 'MET', 'LEU', 'GLU', 'GLU', 'ILE', 'MET', 'LYS', 'TYR', 'GLU', 'ALA', 'SER', 'ILE', 'LEU', 'THR', 'HIS', 'ASP', 'SER', 'SER', 'ILE', 'ARG', 'TYR', 'LEU', 'GLN', 'GLU', 'ILE', 'TYR', 'ASN', 'SER', 'ASN', 'ASN', 'GLN', 'LYS', 'ILE', 'VAL', 'ASN', 'LEU', 'LYS', 'GLU', 'LYS', 'VAL', 'ALA', 'GLN', 'LEU', 'GLU', 'ALA', 'GLN', 'CYS', 'GLN', 'GLU', 'PRO', 'CYS', 'LYS', 'ASP', 'THR', 'VAL', 'GLN', 'ILE', 'HIS', 'ASP', 'ILE', 'THR', 'GLY', 'LYS', 'ASP', 'CYS', 'GLN', 'ASP', 'ILE', 'ALA', 'ASN', 'LYS', 'GLY', 'ALA', 'LYS', 'GLN', 'SER', 'GLY', 'LEU', 'TYR', 'PHE', 'ILE', 'LYS', 'PRO', 'LEU', 'LYS', 'ALA', 'ASN', 'GLN', 'GLN', 'PHE', 'LEU', 'VAL', 'TYR', 'CYS', 'GLU', 'ILE', 'ASP', 'GLY', 'SER', 'GLY', 'ASN', 'GLY', 'TRP', 'THR', 'VAL', 'PHE', 'GLN', 'LYS', 'ARG', 'LEU', 'ASP', 'GLY', 'SER', 'VAL', 'ASP', 'PHE', 'LYS', 'LYS', 'ASN', 'TRP', 'ILE', 'GLN', 'TYR', 'LYS', 'GLU', 'GLY', 'PHE', 'GLY', 'HIS', 'LEU', 'SER', 'PRO', 'THR', 'GLY', 'THR', 'THR', 'GLU', 'PHE', 'TRP', 'LEU', 'GLY', 'ASN', 'GLU', 'LYS', 'ILE', 'HIS', 'LEU', 'ILE', 'SER', 'THR', 'GLN', 'SER', 'ALA', 'ILE', 'PRO', 'TYR', 'ALA', 'LEU', 'ARG', 'VAL', 'GLU', 'LEU', 'GLU', 'ASP', 'TRP', 'ASN', 'GLY', 'ARG', 'THR', 'SER', 'THR', 'ALA', 'ASP', 'TYR', 'ALA', 'MET', 'PHE', 'LYS', 'VAL', 'GLY', 'PRO', 'GLU', 'ALA', 'ASP', 'LYS', 'TYR', 'ARG', 'LEU', 'THR', 'TYR', 'ALA', 'TYR', 'PHE', 'ALA', 'GLY', 'GLY', 'ASP', 'ALA', 'GLY', 'ASP', 'ALA', 'PHE', 'ASP', 'GLY', 'PHE', 'ASP', 'PHE', 'GLY', 'ASP', 'ASP', 'PRO', 'SER', 'ASP', 'LYS', 'PHE', 'PHE', 'THR', 'SER', 'HIS', 'ASN', 'GLY', 'MET', 'GLN', 'PHE', 'SER', 'THR', 'TRP', 'ASP', 'ASN', 'ASP', 'ASN', 'ASP', 'LYS', 'PHE', 'GLU', 'GLY', 'ASN', 'CYS', 'ALA', 'GLU', 'GLN', 'ASP', 'GLY', 'SER', 'GLY', 'TRP', 'TRP', 'MET', 'ASN', 'LYS', 'CYS', 'HIS', 'ALA', 'GLY', 'HIS', 'LEU', 'ASN', 'GLY', 'VAL', 'TYR', 'TYR', 'GLN', 'GLY', 'GLY', 'THR', 'TYR', 'SER', 'LYS', 'ALA', 'SER', 'THR', 'PRO', 'ASN', 'GLY', 'TYR', 'ASP', 'ASN', 'GLY', 'ILE', 'ILE', 'TRP', 'ALA', 'THR', 'TRP', 'LYS', 'THR', 'ARG', 'TRP', 'TYR', 'SER', 'MET', 'LYS', 'LYS', 'THR', 'THR', 'MET', 'LYS', 'ILE', 'ILE', 'PRO', 'PHE', 'ASN', 'ARG', 'LEU', 'THR', 'ILE', 'GLY', 'GLU', 'GLY', 'GLN', 'GLN', 'HIS', 'HIS', 'LEU', 'GLY', 'GLY', 'ALA', 'LYS', 'GLN', 'VAL', 'ARG', 'PRO', 'GLU', 'HIS', 'PRO', 'ALA', 'GLU', 'THR', 'GLU', 'TYR', 'ASP', 'SER', 'LEU', 'TYR', 'PRO', 'GLU', 'ASP', 'ASP', 'LEU'], protein_seq_len=453, most_common_aa=' LEU', aa_pLDDT_list=[36.93000030517578, 34.45000076293945, 38.400001525878906, 37.91999816894531, 42.81999969482422, 43.84000015258789, 40.70000076293945, 46.040000915527344, 45.7400016784668, 46.029998779296875, 52.2400016784668, 48.54999923706055, 45.20000076293945, 46.58000183105469, 46.47999954223633, 46.97999954223633, 46.16999816894531, 48.56999969482422, 45.36000061035156, 39.599998474121094, 41.650001525878906, 44.150001525878906, 37.02000045776367, 40.619998931884766, 44.209999084472656, 46.52000045776367, 54.79999923706055, 59.560001373291016, 58.90999984741211, 61.880001068115234, 62.56999969482422, 66.63999938964844, 68.7699966430664, 64.80000305175781, 69.27999877929688, 65.41000366210938, 62.41999816894531, 63.58000183105469, 68.37999725341797, 76.2300033569336, 72.1500015258789, 75.30999755859375, 70.5999984741211, 74.18000030517578, 72.55999755859375, 73.6500015258789, 79.68000030517578, 80.23999786376953, 77.69000244140625, 80.86000061035156, 78.0999984741211, 77.94999694824219, 82.33999633789062, 82.61000061035156, 81.0999984741211, 80.95999908447266, 80.36000061035156, 81.41999816894531, 82.79000091552734, 83.0, 83.19000244140625, 81.56999969482422, 82.58000183105469, 84.37999725341797, 83.87999725341797, 83.41999816894531, 86.63999938964844, 86.26000213623047, 82.72000122070312, 85.05999755859375, 86.5199966430664, 86.51000213623047, 84.5, 86.4800033569336, 84.91000366210938, 82.75, 86.04000091552734, 85.16000366210938, 85.56999969482422, 81.58000183105469, 80.80999755859375, 83.02999877929688, 80.91000366210938, 83.80999755859375, 83.87999725341797, 83.55000305175781, 78.26000213623047, 79.91000366210938, 79.75, 73.47000122070312, 71.75, 68.1500015258789, 65.94000244140625, 60.33000183105469, 61.43000030517578, 60.029998779296875, 56.650001525878906, 53.93000030517578, 51.599998474121094, 54.97999954223633, 57.959999084472656, 59.779998779296875, 63.47999954223633, 66.94999694824219, 75.41999816894531, 78.27999877929688, 79.70999908447266, 82.58999633789062, 86.22000122070312, 87.66999816894531, 90.26000213623047, 90.16000366210938, 91.7300033569336, 93.0999984741211, 93.26000213623047, 93.38999938964844, 92.9000015258789, 93.45999908447266, 94.33999633789062, 90.63999938964844, 93.54000091552734, 94.70999908447266, 93.68000030517578, 92.76000213623047, 94.91000366210938, 95.63999938964844, 93.91999816894531, 94.47000122070312, 95.86000061035156, 95.83999633789062, 94.94999694824219, 96.22000122070312, 96.54000091552734, 95.87000274658203, 96.5999984741211, 97.19999694824219, 97.19999694824219, 96.91000366210938, 97.55000305175781, 97.63999938964844, 97.22000122070312, 97.73999786376953, 97.69000244140625, 97.4800033569336, 96.94999694824219, 97.80000305175781, 97.9000015258789, 97.5, 97.29000091552734, 97.9000015258789, 97.88999938964844, 97.26000213623047, 97.41999816894531, 98.01000213623047, 97.62000274658203, 97.06999969482422, 97.4000015258789, 97.56999969482422, 96.54000091552734, 95.26000213623047, 95.62000274658203, 95.8499984741211, 94.56999969482422, 95.83999633789062, 95.56999969482422, 94.69999694824219, 94.6500015258789, 94.55000305175781, 94.7300033569336, 93.16000366210938, 97.30000305175781, 97.23999786376953, 96.86000061035156, 97.08999633789062, 98.12999725341797, 97.45999908447266, 97.5, 98.06999969482422, 98.38999938964844, 97.93000030517578, 97.5999984741211, 98.44999694824219, 98.04000091552734, 97.37999725341797, 97.91000366210938, 97.16000366210938, 97.7300033569336, 96.81999969482422, 97.04000091552734, 98.12999725341797, 98.25, 98.66999816894531, 98.75, 98.69000244140625, 98.5999984741211, 98.12999725341797, 97.27999877929688, 94.56999969482422, 92.4800033569336, 95.4000015258789, 95.3499984741211, 97.06999969482422, 97.83000183105469, 98.55999755859375, 98.58999633789062, 98.76000213623047, 98.76000213623047, 98.75, 98.43000030517578, 97.75, 95.30999755859375, 94.5, 94.37000274658203, 95.37000274658203, 97.27999877929688, 97.95999908447266, 98.55000305175781, 98.72000122070312, 98.8499984741211, 98.77999877929688, 98.75, 98.69999694824219, 98.56999969482422, 97.95999908447266, 97.6500015258789, 97.4000015258789, 97.9000015258789, 98.25, 98.0199966430664, 98.47000122070312, 97.94000244140625, 98.51000213623047, 98.72000122070312, 98.77999877929688, 98.80000305175781, 98.81999969482422, 98.87000274658203, 98.80999755859375, 98.55000305175781, 98.75, 98.8499984741211, 98.29000091552734, 98.02999877929688, 98.16000366210938, 97.41000366210938, 96.91999816894531, 96.2699966430664, 95.54000091552734, 96.77999877929688, 98.0, 98.76000213623047, 98.8499984741211, 98.87999725341797, 98.83000183105469, 98.79000091552734, 98.83999633789062, 98.63999938964844, 98.62999725341797, 98.5999984741211, 98.33999633789062, 98.08000183105469, 98.25, 97.55999755859375, 96.12999725341797, 93.2300033569336, 84.37999725341797, 84.36000061035156, 88.6500015258789, 93.43000030517578, 97.51000213623047, 97.77999877929688, 98.47000122070312, 98.58999633789062, 98.76000213623047, 98.68000030517578, 98.69000244140625, 98.69999694824219, 98.23999786376953, 98.05999755859375, 97.5999984741211, 96.93000030517578, 98.19000244140625, 98.1500015258789, 98.0, 98.38999938964844, 98.3499984741211, 98.33000183105469, 98.29000091552734, 97.22000122070312, 96.61000061035156, 98.12999725341797, 98.0, 98.56999969482422, 98.12000274658203, 98.19999694824219, 98.55000305175781, 98.4800033569336, 98.68000030517578, 98.75, 98.83999633789062, 98.80999755859375, 98.80000305175781, 98.55000305175781, 98.0999984741211, 97.37000274658203, 97.58999633789062, 98.01000213623047, 96.55000305175781, 95.58999633789062, 96.47000122070312, 97.62999725341797, 97.88999938964844, 97.68000030517578, 98.37000274658203, 98.4800033569336, 98.5199966430664, 98.23999786376953, 97.9800033569336, 98.20999908447266, 97.4000015258789, 95.95999908447266, 95.43000030517578, 92.9000015258789, 93.72000122070312, 95.05000305175781, 95.54000091552734, 96.06999969482422, 97.61000061035156, 97.36000061035156, 97.23999786376953, 98.08000183105469, 98.31999969482422, 98.66000366210938, 98.48999786376953, 98.4000015258789, 98.69000244140625, 98.81999969482422, 98.83999633789062, 98.75, 98.69999694824219, 98.02999877929688, 98.5199966430664, 98.37999725341797, 98.52999877929688, 98.41000366210938, 97.69999694824219, 97.30999755859375, 95.31999969482422, 95.52999877929688, 94.66999816894531, 96.98999786376953, 97.80999755859375, 97.72000122070312, 97.47000122070312, 95.83999633789062, 96.41000366210938, 96.2300033569336, 98.19000244140625, 98.68000030517578, 98.73999786376953, 98.75, 98.41999816894531, 97.9800033569336, 97.16000366210938, 95.91000366210938, 98.13999938964844, 98.11000061035156, 98.36000061035156, 98.58999633789062, 98.75, 98.73999786376953, 97.93000030517578, 97.7699966430664, 98.11000061035156, 97.83000183105469, 96.70999908447266, 96.51000213623047, 96.80000305175781, 97.12999725341797, 97.36000061035156, 95.98999786376953, 94.16999816894531, 94.41999816894531, 92.72000122070312, 94.79000091552734, 88.7699966430664, 88.30000305175781, 89.76000213623047, 93.08999633789062, 96.08000183105469, 97.5, 97.94000244140625, 98.58999633789062, 98.33000183105469, 98.61000061035156, 98.01000213623047, 98.12999725341797, 98.16999816894531, 97.66000366210938, 96.77999877929688, 96.55000305175781, 97.2699966430664, 98.2300033569336, 98.26000213623047, 98.66000366210938, 98.58000183105469, 98.68000030517578, 98.55999755859375, 98.80000305175781, 98.8499984741211, 98.73999786376953, 98.47000122070312, 97.83000183105469, 97.11000061035156, 95.3499984741211, 93.33999633789062, 93.19999694824219, 82.62000274658203, 69.05000305175781, 61.58000183105469, 53.43000030517578, 47.689998626708984, 34.43000030517578, 33.43000030517578, 30.790000915527344, 29.959999084472656, 26.40999984741211, 33.290000915527344, 28.719999313354492, 32.63999938964844, 34.380001068115234, 35.959999084472656, 37.189998626708984, 36.04999923706055, 34.70000076293945, 41.2599983215332, 39.72999954223633, 39.439998626708984, 39.9900016784668, 38.31999969482422, 40.130001068115234, 39.560001373291016, 40.709999084472656, 45.31999969482422, 42.880001068115234, 47.2400016784668, 46.63999938964844, 51.599998474121094, 53.45000076293945, 53.13999938964844, 51.38999938964844, 55.04999923706055, 53.43000030517578], avg_pLDDT=85.61136627197266, aa_ratios={'VAL': 0.03311258181929588, 'SER': 0.06622516363859177, 'ILE': 0.057395145297050476, 'LYS': 0.07505518943071365, 'GLN': 0.05298013240098953, 'TYR': 0.05298013240098953, 'PRO': 0.03311258181929588, 'PHE': 0.044150110334157944, 'GLU': 0.057395145297050476, 'TRP': 0.024282561615109444, 'HIS': 0.026490066200494766, 'GLY': 0.07505518943071365, 'ARG': 0.026490066200494766, 'ALA': 0.06181015446782112, 'CYS': 0.024282561615109444, 'ASN': 0.05298013240098953, 'MET': 0.01986755058169365, 'LEU': 0.07505518943071365, 'ASP': 0.07505518943071365, 'THR': 0.06622516363859177})]"
      ]
     },
     "execution_count": 24,
     "metadata": {},
     "output_type": "execute_result"
    }
   ],
   "source": [
    "\n",
    "# Define a list of all unique amino acids (considering standard amino acids)\n",
    "amino_acids = [\"ALA\", \"ARG\", \"ASN\", \"ASP\", \"CYS\", \"GLN\", \"GLU\", \"GLY\", \"HIS\",\n",
    "               \"ILE\", \"LEU\", \"LYS\", \"MET\", \"PHE\", \"PRO\", \"SER\", \"THR\", \"TRP\", \"TYR\", \"VAL\"]\n",
    "\n",
    "# Define a UDF to compute the ratio of each amino acid in the protein_seq column\n",
    "def calculate_aa_ratios(protein_seq):\n",
    "    \n",
    "    # Initialize a dictionary with each amino acid and a count of 0\n",
    "    aa_counts = {aa: 0 for aa in amino_acids}\n",
    "    # Count occurrences of each amino acid in the protein_seq\n",
    "    for aa in protein_seq:\n",
    "        if aa in aa_counts:\n",
    "            aa_counts[aa] += 1\n",
    "    # Calculate the total length of the protein sequence\n",
    "    total_length = len(protein_seq)\n",
    "    # Calculate the ratio of each amino acid\n",
    "    aa_ratios = {aa: aa_counts[aa] / total_length if total_length > 0 else 0 for aa in amino_acids}\n",
    "    return aa_ratios\n",
    "\n",
    "# Register the UDF with a return type of MapType(StringType(), FloatType())\n",
    "calculate_aa_ratios_udf = udf(calculate_aa_ratios, MapType(StringType(), FloatType()))\n",
    "\n",
    "# Add a new column 'aa_ratios' to the DataFrame using the UDF\n",
    "df_with_ratios = df_cleaned.withColumn(\"aa_ratios\", calculate_aa_ratios_udf(col(\"protein_seq\")))\n",
    "df_with_ratios.head(5)"
   ]
  },
  {
   "cell_type": "code",
   "execution_count": 25,
   "id": "a8afc9fc-02cb-4bba-9376-788ea6646f06",
   "metadata": {},
   "outputs": [
    {
     "name": "stderr",
     "output_type": "stream",
     "text": [
      "24/05/04 22:06:23 WARN SparkStringUtils: Truncated the string representation of a plan since it was too large. This behavior can be adjusted by setting 'spark.sql.debug.maxToStringFields'.\n",
      "[Stage 72:>                                                         (0 + 1) / 1]\r"
     ]
    },
    {
     "name": "stdout",
     "output_type": "stream",
     "text": [
      "+----------+--------------------+---------------+--------------+--------------------+---------+-----------+-----------+-----------+-----------+------------+-----------+-----------+-----------+-----------+-----------+-----------+-----------+------------+-----------+-----------+-----------+-----------+------------+-----------+-----------+\n",
      "|protein_id|         protein_seq|protein_seq_len|most_common_aa|       aa_pLDDT_list|avg_pLDDT|  ALA_ratio|  ARG_ratio|  ASN_ratio|  ASP_ratio|   CYS_ratio|  GLN_ratio|  GLU_ratio|  GLY_ratio|  HIS_ratio|  ILE_ratio|  LEU_ratio|  LYS_ratio|   MET_ratio|  PHE_ratio|  PRO_ratio|  SER_ratio|  THR_ratio|   TRP_ratio|  TYR_ratio|  VAL_ratio|\n",
      "+----------+--------------------+---------------+--------------+--------------------+---------+-----------+-----------+-----------+-----------+------------+-----------+-----------+-----------+-----------+-----------+-----------+-----------+------------+-----------+-----------+-----------+-----------+------------+-----------+-----------+\n",
      "|    P01764|[MET, GLU, PHE, G...|            117|           SER|[41.82, 45.26, 54...| 91.02701| 0.08547009|0.042735044|0.025641026|0.025641026| 0.025641026|0.042735044|0.042735044| 0.11965812|        0.0|0.025641026|0.102564104|0.042735044| 0.025641026|0.042735044|0.017094018| 0.13675214|0.042735044| 0.025641026|0.051282052| 0.07692308|\n",
      "|    P01833|[MET, LEU, LEU, P...|            764|           SER|[52.94, 50.97, 50...| 76.67788| 0.07591623|0.053664923| 0.05104712| 0.04973822| 0.027486911|0.040575918|0.070680626|0.087696336|0.007853403|0.035340313| 0.08638743|0.054973822| 0.005235602|0.032722514|0.041884817| 0.08900524|0.057591625| 0.014397906|0.032722514| 0.08507854|\n",
      "|    P02545|[MET, GLU, THR, P...|            664|           LEU|[35.94, 32.07, 36...|76.273735| 0.08885542| 0.09638554|0.031626508| 0.05421687|0.0075301207|0.060240965| 0.10692771|0.063253015|0.019578313|0.024096385| 0.10993976|0.060240965| 0.015060241|0.012048192|0.022590362| 0.10391566| 0.05421687| 0.006024096|0.016566265|0.046686746|\n",
      "|    P02656|[MET, GLN, PRO, A...|             99|           ALA|[53.9, 69.83, 77....| 68.22879| 0.15151516| 0.04040404|        0.0| 0.07070707|         0.0|0.060606062| 0.05050505|0.030303031| 0.01010101|        0.0| 0.11111111|0.060606062| 0.030303031| 0.04040404|0.030303031|0.121212125| 0.05050505| 0.030303031| 0.02020202| 0.09090909|\n",
      "|    P02679|[MET, SER, TRP, S...|            453|           LEU|[36.93, 34.45, 38...| 85.61137|0.061810154|0.026490066|0.052980132| 0.07505519| 0.024282562|0.052980132|0.057395145| 0.07505519|0.026490066|0.057395145| 0.07505519| 0.07505519|  0.01986755| 0.04415011| 0.03311258| 0.06622516| 0.06622516| 0.024282562|0.052980132| 0.03311258|\n",
      "|    P02765|[MET, LYS, SER, L...|            367|           PRO|[59.39, 65.13, 70...|76.515884| 0.10081744|0.032697547|0.029972753|0.051771116|  0.03814714|0.051771116|0.059945505|  0.0626703|0.035422344|0.021798365| 0.09536785| 0.04359673| 0.008174387|0.027247956| 0.10626703|  0.0626703|0.049046323| 0.008174387| 0.01907357| 0.09536785|\n",
      "|    P02771|[MET, LYS, TRP, V...|            609|           LEU|[33.35, 34.98, 34...| 89.07504| 0.08210181|0.036124796| 0.03284072| 0.03776683| 0.052545156| 0.06568144| 0.09688013| 0.04269294|0.026272578|0.055829227|0.098522164| 0.06896552| 0.014778325|0.052545156| 0.03448276|0.062397372|  0.0591133|0.0032840723|0.027914613|0.049261082|\n",
      "|    P03886|[MET, PRO, MET, A...|            318|           LEU|[67.59, 82.83, 90...|91.677864| 0.08490566|0.022012578|0.040880505|0.012578616|         0.0|0.018867925|0.034591194| 0.03773585|0.006289308| 0.07232705|  0.1981132|0.022012578| 0.050314464|0.050314464| 0.06918239| 0.06603774| 0.11006289| 0.028301887|0.044025157|0.031446543|\n",
      "|    P03891|[MET, ASN, PRO, L...|            347|           LEU|[81.27, 90.75, 92...| 95.12824|0.057636887|0.011527377|0.057636887|        0.0|         0.0|0.028818443|0.017291067|0.037463978|0.011527377| 0.08933718| 0.18443803|0.034582134|  0.07204611|0.043227665| 0.06628242| 0.08069164| 0.12391931| 0.031700287|0.028818443|0.023054754|\n",
      "|    P03951|[MET, ILE, PHE, L...|            625|           THR|[35.03, 31.6, 30....| 86.04632|      0.048|     0.0464|     0.0336|     0.0448|      0.0576|     0.0432|     0.0496|     0.0688|     0.0352|     0.0608|     0.0736|     0.0656|      0.0096|     0.0464|     0.0384|     0.0816|     0.0848|       0.016|     0.0352|     0.0608|\n",
      "|    P04066|[MET, ARG, ALA, P...|            466|           LEU|[48.63, 41.14, 52...| 93.29925|0.055793993| 0.04506438| 0.04077253| 0.05364807| 0.010729614|0.030042918| 0.05364807|0.072961375|0.027896997|0.036480688|0.094420604| 0.05364807| 0.015021459|0.051502146|  0.0751073|  0.0751073| 0.05364807| 0.057939913| 0.04077253|0.055793993|\n",
      "|    P04156|[MET, ALA, ASN, L...|            253|           GLY|[53.23, 57.65, 62...|64.258064| 0.03952569| 0.04347826| 0.04743083|0.023715414| 0.015810277| 0.05928854| 0.03557312| 0.17786561| 0.03952569| 0.03557312| 0.04743083| 0.03952569|  0.04743083|0.027667984| 0.06719368| 0.05928854|  0.0513834|  0.03557312|  0.0513834| 0.05533597|\n",
      "|    P04181|[MET, PHE, SER, L...|            439|           LEU|[44.58, 37.93, 42...| 94.01428| 0.08428246| 0.04783599|0.041002277|0.054669704| 0.013667426|0.020501139|0.061503418|0.082004555|0.022779044|0.061503418|  0.1047836| 0.06378132|  0.01594533| 0.03644647|  0.0523918|  0.0523918|0.050113894| 0.013667426|0.041002277| 0.07972665|\n",
      "|    P04196|[MET, LYS, ALA, L...|            525|           HIS|[61.59, 70.09, 72...| 64.76844|0.041904762| 0.06285714| 0.03809524| 0.05904762| 0.032380953|0.034285713|0.053333335| 0.06666667| 0.12571429|0.024761904| 0.06476191|0.041904762|0.0057142857|0.049523808|0.123809524|0.068571426|0.032380953|0.0038095238|0.020952381|0.049523808|\n",
      "|    P04430|[MET, ASP, MET, A...|            117|           SER|[43.67, 41.79, 49...| 89.36539| 0.07692308|0.034188036|0.017094018|0.042735044| 0.034188036| 0.08547009|0.008547009| 0.07692308|        0.0|0.042735044| 0.11111111|0.034188036| 0.025641026|0.042735044| 0.05982906| 0.15384616| 0.05982906| 0.008547009|0.051282052|0.034188036|\n",
      "|    P04433|[MET, GLU, ALA, P...|            115|           LEU|[46.15, 46.15, 58...| 89.78183| 0.09565217|0.052173913|0.017391304|0.034782607| 0.017391304|0.069565214| 0.04347826|0.060869563|        0.0|0.034782607| 0.13913043|0.008695652| 0.008695652|0.034782607| 0.07826087| 0.13043478| 0.07826087| 0.026086956| 0.04347826|0.026086956|\n",
      "|    P04629|[MET, LEU, ARG, G...|            796|           LEU|[38.81, 34.21, 34...|78.247665| 0.07914573|0.057788946|0.040201005|0.040201005|  0.02638191| 0.04648241| 0.06030151| 0.09045226| 0.03517588|0.028894473|  0.1281407|0.027638191| 0.021356784|0.041457288|0.059045225| 0.06532663|0.041457288| 0.020100502|0.016331658|  0.0741206|\n",
      "|    P04798|[MET, LEU, PHE, P...|            512|           LEU|[39.44, 40.84, 42...| 95.49762|0.044921875| 0.05859375| 0.04296875|0.044921875| 0.017578125| 0.04296875| 0.05078125|0.060546875|0.029296875| 0.06640625|0.103515625|   0.046875| 0.029296875|0.060546875| 0.05859375|0.080078125|   0.046875|    0.015625|0.025390625| 0.07421875|\n",
      "|    P04843|[MET, GLU, ALA, P...|            607|           LEU|[37.64, 36.31, 30...| 90.17494| 0.06589786|0.047775947| 0.03294893| 0.05436573|0.0032948928| 0.03294893| 0.07742998|0.049423393|0.029654035| 0.05930807| 0.11037891| 0.06589786| 0.013179571| 0.03789127|  0.0461285| 0.06919275| 0.06425041|0.0049423394|0.047775947|0.087314665|\n",
      "|    P05067|[MET, LEU, PRO, G...|            770|           GLU|[44.08, 37.56, 52...| 67.44644| 0.08181818| 0.04805195| 0.04025974|0.064935066| 0.023376623|0.046753246| 0.11948052| 0.04935065|0.032467533|0.031168832| 0.07272727| 0.05324675| 0.031168832|0.027272727|0.045454547|0.045454547|0.064935066| 0.011688312|0.025974026|0.084415585|\n",
      "+----------+--------------------+---------------+--------------+--------------------+---------+-----------+-----------+-----------+-----------+------------+-----------+-----------+-----------+-----------+-----------+-----------+-----------+------------+-----------+-----------+-----------+-----------+------------+-----------+-----------+\n",
      "only showing top 20 rows\n",
      "\n"
     ]
    },
    {
     "name": "stderr",
     "output_type": "stream",
     "text": [
      "                                                                                \r"
     ]
    }
   ],
   "source": [
    "# Split the 'aa_ratios' map column into separate columns for each amino acid\n",
    "for aa in amino_acids:\n",
    "    df_with_ratios = df_with_ratios.withColumn(aa + \"_ratio\", col(\"aa_ratios\")[aa])\n",
    "\n",
    "# Drop the intermediate 'aa_ratios' column\n",
    "df_with_ratios = df_with_ratios.drop(\"aa_ratios\")\n",
    "\n",
    "# Show the final DataFrame\n",
    "df_with_ratios.show()"
   ]
  },
  {
   "cell_type": "code",
   "execution_count": 26,
   "id": "866db782-cdd7-4090-8be9-cd7ef6d6b7eb",
   "metadata": {},
   "outputs": [
    {
     "name": "stderr",
     "output_type": "stream",
     "text": [
      "                                                                                \r"
     ]
    }
   ],
   "source": [
    "alpha_df = df_with_ratios.toPandas()"
   ]
  },
  {
   "cell_type": "code",
   "execution_count": 27,
   "id": "025205cc-1c08-4dcf-8bda-fc3882577b14",
   "metadata": {},
   "outputs": [
    {
     "data": {
      "text/html": [
       "<div>\n",
       "<style scoped>\n",
       "    .dataframe tbody tr th:only-of-type {\n",
       "        vertical-align: middle;\n",
       "    }\n",
       "\n",
       "    .dataframe tbody tr th {\n",
       "        vertical-align: top;\n",
       "    }\n",
       "\n",
       "    .dataframe thead th {\n",
       "        text-align: right;\n",
       "    }\n",
       "</style>\n",
       "<table border=\"1\" class=\"dataframe\">\n",
       "  <thead>\n",
       "    <tr style=\"text-align: right;\">\n",
       "      <th></th>\n",
       "      <th>protein_id</th>\n",
       "      <th>protein_seq</th>\n",
       "      <th>protein_seq_len</th>\n",
       "      <th>most_common_aa</th>\n",
       "      <th>aa_pLDDT_list</th>\n",
       "      <th>avg_pLDDT</th>\n",
       "      <th>ALA_ratio</th>\n",
       "      <th>ARG_ratio</th>\n",
       "      <th>ASN_ratio</th>\n",
       "      <th>ASP_ratio</th>\n",
       "      <th>...</th>\n",
       "      <th>LEU_ratio</th>\n",
       "      <th>LYS_ratio</th>\n",
       "      <th>MET_ratio</th>\n",
       "      <th>PHE_ratio</th>\n",
       "      <th>PRO_ratio</th>\n",
       "      <th>SER_ratio</th>\n",
       "      <th>THR_ratio</th>\n",
       "      <th>TRP_ratio</th>\n",
       "      <th>TYR_ratio</th>\n",
       "      <th>VAL_ratio</th>\n",
       "    </tr>\n",
       "  </thead>\n",
       "  <tbody>\n",
       "    <tr>\n",
       "      <th>0</th>\n",
       "      <td>P01764</td>\n",
       "      <td>[MET, GLU, PHE, GLY, LEU, SER, TRP, LEU, PHE, ...</td>\n",
       "      <td>117</td>\n",
       "      <td>SER</td>\n",
       "      <td>[41.81999969482422, 45.2599983215332, 54.70999...</td>\n",
       "      <td>91.027008</td>\n",
       "      <td>0.085470</td>\n",
       "      <td>0.042735</td>\n",
       "      <td>0.025641</td>\n",
       "      <td>0.025641</td>\n",
       "      <td>...</td>\n",
       "      <td>0.102564</td>\n",
       "      <td>0.042735</td>\n",
       "      <td>0.025641</td>\n",
       "      <td>0.042735</td>\n",
       "      <td>0.017094</td>\n",
       "      <td>0.136752</td>\n",
       "      <td>0.042735</td>\n",
       "      <td>0.025641</td>\n",
       "      <td>0.051282</td>\n",
       "      <td>0.076923</td>\n",
       "    </tr>\n",
       "    <tr>\n",
       "      <th>1</th>\n",
       "      <td>P01833</td>\n",
       "      <td>[MET, LEU, LEU, PHE, VAL, LEU, THR, CYS, LEU, ...</td>\n",
       "      <td>764</td>\n",
       "      <td>SER</td>\n",
       "      <td>[52.939998626708984, 50.970001220703125, 50.18...</td>\n",
       "      <td>76.677879</td>\n",
       "      <td>0.075916</td>\n",
       "      <td>0.053665</td>\n",
       "      <td>0.051047</td>\n",
       "      <td>0.049738</td>\n",
       "      <td>...</td>\n",
       "      <td>0.086387</td>\n",
       "      <td>0.054974</td>\n",
       "      <td>0.005236</td>\n",
       "      <td>0.032723</td>\n",
       "      <td>0.041885</td>\n",
       "      <td>0.089005</td>\n",
       "      <td>0.057592</td>\n",
       "      <td>0.014398</td>\n",
       "      <td>0.032723</td>\n",
       "      <td>0.085079</td>\n",
       "    </tr>\n",
       "    <tr>\n",
       "      <th>2</th>\n",
       "      <td>P02545</td>\n",
       "      <td>[MET, GLU, THR, PRO, SER, GLN, ARG, ARG, ALA, ...</td>\n",
       "      <td>664</td>\n",
       "      <td>LEU</td>\n",
       "      <td>[35.939998626708984, 32.06999969482422, 36.529...</td>\n",
       "      <td>76.273735</td>\n",
       "      <td>0.088855</td>\n",
       "      <td>0.096386</td>\n",
       "      <td>0.031627</td>\n",
       "      <td>0.054217</td>\n",
       "      <td>...</td>\n",
       "      <td>0.109940</td>\n",
       "      <td>0.060241</td>\n",
       "      <td>0.015060</td>\n",
       "      <td>0.012048</td>\n",
       "      <td>0.022590</td>\n",
       "      <td>0.103916</td>\n",
       "      <td>0.054217</td>\n",
       "      <td>0.006024</td>\n",
       "      <td>0.016566</td>\n",
       "      <td>0.046687</td>\n",
       "    </tr>\n",
       "    <tr>\n",
       "      <th>3</th>\n",
       "      <td>P02656</td>\n",
       "      <td>[MET, GLN, PRO, ARG, VAL, LEU, LEU, VAL, VAL, ...</td>\n",
       "      <td>99</td>\n",
       "      <td>ALA</td>\n",
       "      <td>[53.900001525878906, 69.83000183105469, 77.410...</td>\n",
       "      <td>68.228790</td>\n",
       "      <td>0.151515</td>\n",
       "      <td>0.040404</td>\n",
       "      <td>0.000000</td>\n",
       "      <td>0.070707</td>\n",
       "      <td>...</td>\n",
       "      <td>0.111111</td>\n",
       "      <td>0.060606</td>\n",
       "      <td>0.030303</td>\n",
       "      <td>0.040404</td>\n",
       "      <td>0.030303</td>\n",
       "      <td>0.121212</td>\n",
       "      <td>0.050505</td>\n",
       "      <td>0.030303</td>\n",
       "      <td>0.020202</td>\n",
       "      <td>0.090909</td>\n",
       "    </tr>\n",
       "    <tr>\n",
       "      <th>4</th>\n",
       "      <td>P02679</td>\n",
       "      <td>[MET, SER, TRP, SER, LEU, HIS, PRO, ARG, ASN, ...</td>\n",
       "      <td>453</td>\n",
       "      <td>LEU</td>\n",
       "      <td>[36.93000030517578, 34.45000076293945, 38.4000...</td>\n",
       "      <td>85.611366</td>\n",
       "      <td>0.061810</td>\n",
       "      <td>0.026490</td>\n",
       "      <td>0.052980</td>\n",
       "      <td>0.075055</td>\n",
       "      <td>...</td>\n",
       "      <td>0.075055</td>\n",
       "      <td>0.075055</td>\n",
       "      <td>0.019868</td>\n",
       "      <td>0.044150</td>\n",
       "      <td>0.033113</td>\n",
       "      <td>0.066225</td>\n",
       "      <td>0.066225</td>\n",
       "      <td>0.024283</td>\n",
       "      <td>0.052980</td>\n",
       "      <td>0.033113</td>\n",
       "    </tr>\n",
       "  </tbody>\n",
       "</table>\n",
       "<p>5 rows × 26 columns</p>\n",
       "</div>"
      ],
      "text/plain": [
       "  protein_id                                        protein_seq  \\\n",
       "0     P01764  [MET, GLU, PHE, GLY, LEU, SER, TRP, LEU, PHE, ...   \n",
       "1     P01833  [MET, LEU, LEU, PHE, VAL, LEU, THR, CYS, LEU, ...   \n",
       "2     P02545  [MET, GLU, THR, PRO, SER, GLN, ARG, ARG, ALA, ...   \n",
       "3     P02656  [MET, GLN, PRO, ARG, VAL, LEU, LEU, VAL, VAL, ...   \n",
       "4     P02679  [MET, SER, TRP, SER, LEU, HIS, PRO, ARG, ASN, ...   \n",
       "\n",
       "   protein_seq_len most_common_aa  \\\n",
       "0              117            SER   \n",
       "1              764            SER   \n",
       "2              664            LEU   \n",
       "3               99            ALA   \n",
       "4              453            LEU   \n",
       "\n",
       "                                       aa_pLDDT_list  avg_pLDDT  ALA_ratio  \\\n",
       "0  [41.81999969482422, 45.2599983215332, 54.70999...  91.027008   0.085470   \n",
       "1  [52.939998626708984, 50.970001220703125, 50.18...  76.677879   0.075916   \n",
       "2  [35.939998626708984, 32.06999969482422, 36.529...  76.273735   0.088855   \n",
       "3  [53.900001525878906, 69.83000183105469, 77.410...  68.228790   0.151515   \n",
       "4  [36.93000030517578, 34.45000076293945, 38.4000...  85.611366   0.061810   \n",
       "\n",
       "   ARG_ratio  ASN_ratio  ASP_ratio  ...  LEU_ratio  LYS_ratio  MET_ratio  \\\n",
       "0   0.042735   0.025641   0.025641  ...   0.102564   0.042735   0.025641   \n",
       "1   0.053665   0.051047   0.049738  ...   0.086387   0.054974   0.005236   \n",
       "2   0.096386   0.031627   0.054217  ...   0.109940   0.060241   0.015060   \n",
       "3   0.040404   0.000000   0.070707  ...   0.111111   0.060606   0.030303   \n",
       "4   0.026490   0.052980   0.075055  ...   0.075055   0.075055   0.019868   \n",
       "\n",
       "   PHE_ratio  PRO_ratio  SER_ratio  THR_ratio  TRP_ratio  TYR_ratio  VAL_ratio  \n",
       "0   0.042735   0.017094   0.136752   0.042735   0.025641   0.051282   0.076923  \n",
       "1   0.032723   0.041885   0.089005   0.057592   0.014398   0.032723   0.085079  \n",
       "2   0.012048   0.022590   0.103916   0.054217   0.006024   0.016566   0.046687  \n",
       "3   0.040404   0.030303   0.121212   0.050505   0.030303   0.020202   0.090909  \n",
       "4   0.044150   0.033113   0.066225   0.066225   0.024283   0.052980   0.033113  \n",
       "\n",
       "[5 rows x 26 columns]"
      ]
     },
     "execution_count": 27,
     "metadata": {},
     "output_type": "execute_result"
    }
   ],
   "source": [
    "alpha_df.head()"
   ]
  },
  {
   "cell_type": "code",
   "execution_count": 28,
   "id": "a462c5a8-02ac-459e-9cce-ef7b3693e090",
   "metadata": {},
   "outputs": [],
   "source": [
    "alpha_df.to_csv('alpha_df.csv', index=False)"
   ]
  },
  {
   "cell_type": "code",
   "execution_count": null,
   "id": "472b0c59-ca20-4bce-8776-0db0a87d4b08",
   "metadata": {},
   "outputs": [],
   "source": []
  },
  {
   "cell_type": "code",
   "execution_count": null,
   "id": "26ba61f7-255c-4575-a92a-cea54c04d43e",
   "metadata": {},
   "outputs": [],
   "source": []
  },
  {
   "cell_type": "code",
   "execution_count": 33,
   "id": "9f3064dd-72e0-4459-8351-a6e0e567005a",
   "metadata": {},
   "outputs": [
    {
     "name": "stderr",
     "output_type": "stream",
     "text": [
      "ERROR:root:Exception while sending command.                         (0 + 2) / 2]\n",
      "Traceback (most recent call last):\n",
      "  File \"/opt/conda/envs/bigdata/lib/python3.10/site-packages/py4j/clientserver.py\", line 516, in send_command\n",
      "    raise Py4JNetworkError(\"Answer from Java side is empty\")\n",
      "py4j.protocol.Py4JNetworkError: Answer from Java side is empty\n",
      "\n",
      "During handling of the above exception, another exception occurred:\n",
      "\n",
      "Traceback (most recent call last):\n",
      "  File \"/opt/conda/envs/bigdata/lib/python3.10/site-packages/py4j/java_gateway.py\", line 1038, in send_command\n",
      "    response = connection.send_command(command)\n",
      "  File \"/opt/conda/envs/bigdata/lib/python3.10/site-packages/py4j/clientserver.py\", line 539, in send_command\n",
      "    raise Py4JNetworkError(\n",
      "py4j.protocol.Py4JNetworkError: Error while sending or receiving\n",
      "ERROR:root:Exception while sending command.\n",
      "Traceback (most recent call last):\n",
      "  File \"/opt/conda/envs/bigdata/lib/python3.10/site-packages/py4j/clientserver.py\", line 516, in send_command\n",
      "    raise Py4JNetworkError(\"Answer from Java side is empty\")\n",
      "py4j.protocol.Py4JNetworkError: Answer from Java side is empty\n",
      "\n",
      "During handling of the above exception, another exception occurred:\n",
      "\n",
      "Traceback (most recent call last):\n",
      "  File \"/opt/conda/envs/bigdata/lib/python3.10/site-packages/py4j/java_gateway.py\", line 1038, in send_command\n",
      "    response = connection.send_command(command)\n",
      "  File \"/opt/conda/envs/bigdata/lib/python3.10/site-packages/py4j/clientserver.py\", line 539, in send_command\n",
      "    raise Py4JNetworkError(\n",
      "py4j.protocol.Py4JNetworkError: Error while sending or receiving\n"
     ]
    },
    {
     "ename": "ConnectionRefusedError",
     "evalue": "[Errno 111] Connection refused",
     "output_type": "error",
     "traceback": [
      "\u001b[0;31m---------------------------------------------------------------------------\u001b[0m",
      "\u001b[0;31mPy4JError\u001b[0m                                 Traceback (most recent call last)",
      "File \u001b[0;32m/opt/conda/envs/bigdata/lib/python3.10/site-packages/pyspark/sql/dataframe.py:1257\u001b[0m, in \u001b[0;36mDataFrame.collect\u001b[0;34m(self)\u001b[0m\n\u001b[1;32m   1256\u001b[0m \u001b[38;5;28;01mwith\u001b[39;00m SCCallSiteSync(\u001b[38;5;28mself\u001b[39m\u001b[38;5;241m.\u001b[39m_sc):\n\u001b[0;32m-> 1257\u001b[0m     sock_info \u001b[38;5;241m=\u001b[39m \u001b[38;5;28;43mself\u001b[39;49m\u001b[38;5;241;43m.\u001b[39;49m\u001b[43m_jdf\u001b[49m\u001b[38;5;241;43m.\u001b[39;49m\u001b[43mcollectToPython\u001b[49m\u001b[43m(\u001b[49m\u001b[43m)\u001b[49m\n\u001b[1;32m   1258\u001b[0m \u001b[38;5;28;01mreturn\u001b[39;00m \u001b[38;5;28mlist\u001b[39m(_load_from_socket(sock_info, BatchedSerializer(CPickleSerializer())))\n",
      "File \u001b[0;32m/opt/conda/envs/bigdata/lib/python3.10/site-packages/py4j/java_gateway.py:1322\u001b[0m, in \u001b[0;36mJavaMember.__call__\u001b[0;34m(self, *args)\u001b[0m\n\u001b[1;32m   1321\u001b[0m answer \u001b[38;5;241m=\u001b[39m \u001b[38;5;28mself\u001b[39m\u001b[38;5;241m.\u001b[39mgateway_client\u001b[38;5;241m.\u001b[39msend_command(command)\n\u001b[0;32m-> 1322\u001b[0m return_value \u001b[38;5;241m=\u001b[39m \u001b[43mget_return_value\u001b[49m\u001b[43m(\u001b[49m\n\u001b[1;32m   1323\u001b[0m \u001b[43m    \u001b[49m\u001b[43manswer\u001b[49m\u001b[43m,\u001b[49m\u001b[43m \u001b[49m\u001b[38;5;28;43mself\u001b[39;49m\u001b[38;5;241;43m.\u001b[39;49m\u001b[43mgateway_client\u001b[49m\u001b[43m,\u001b[49m\u001b[43m \u001b[49m\u001b[38;5;28;43mself\u001b[39;49m\u001b[38;5;241;43m.\u001b[39;49m\u001b[43mtarget_id\u001b[49m\u001b[43m,\u001b[49m\u001b[43m \u001b[49m\u001b[38;5;28;43mself\u001b[39;49m\u001b[38;5;241;43m.\u001b[39;49m\u001b[43mname\u001b[49m\u001b[43m)\u001b[49m\n\u001b[1;32m   1325\u001b[0m \u001b[38;5;28;01mfor\u001b[39;00m temp_arg \u001b[38;5;129;01min\u001b[39;00m temp_args:\n",
      "File \u001b[0;32m/opt/conda/envs/bigdata/lib/python3.10/site-packages/pyspark/errors/exceptions/captured.py:179\u001b[0m, in \u001b[0;36mcapture_sql_exception.<locals>.deco\u001b[0;34m(*a, **kw)\u001b[0m\n\u001b[1;32m    178\u001b[0m \u001b[38;5;28;01mtry\u001b[39;00m:\n\u001b[0;32m--> 179\u001b[0m     \u001b[38;5;28;01mreturn\u001b[39;00m \u001b[43mf\u001b[49m\u001b[43m(\u001b[49m\u001b[38;5;241;43m*\u001b[39;49m\u001b[43ma\u001b[49m\u001b[43m,\u001b[49m\u001b[43m \u001b[49m\u001b[38;5;241;43m*\u001b[39;49m\u001b[38;5;241;43m*\u001b[39;49m\u001b[43mkw\u001b[49m\u001b[43m)\u001b[49m\n\u001b[1;32m    180\u001b[0m \u001b[38;5;28;01mexcept\u001b[39;00m Py4JJavaError \u001b[38;5;28;01mas\u001b[39;00m e:\n",
      "File \u001b[0;32m/opt/conda/envs/bigdata/lib/python3.10/site-packages/py4j/protocol.py:334\u001b[0m, in \u001b[0;36mget_return_value\u001b[0;34m(answer, gateway_client, target_id, name)\u001b[0m\n\u001b[1;32m    333\u001b[0m     \u001b[38;5;28;01melse\u001b[39;00m:\n\u001b[0;32m--> 334\u001b[0m         \u001b[38;5;28;01mraise\u001b[39;00m Py4JError(\n\u001b[1;32m    335\u001b[0m             \u001b[38;5;124m\"\u001b[39m\u001b[38;5;124mAn error occurred while calling \u001b[39m\u001b[38;5;132;01m{0}\u001b[39;00m\u001b[38;5;132;01m{1}\u001b[39;00m\u001b[38;5;132;01m{2}\u001b[39;00m\u001b[38;5;124m\"\u001b[39m\u001b[38;5;241m.\u001b[39m\n\u001b[1;32m    336\u001b[0m             \u001b[38;5;28mformat\u001b[39m(target_id, \u001b[38;5;124m\"\u001b[39m\u001b[38;5;124m.\u001b[39m\u001b[38;5;124m\"\u001b[39m, name))\n\u001b[1;32m    337\u001b[0m \u001b[38;5;28;01melse\u001b[39;00m:\n",
      "\u001b[0;31mPy4JError\u001b[0m: An error occurred while calling o363.collectToPython",
      "\nDuring handling of the above exception, another exception occurred:\n",
      "\u001b[0;31mConnectionRefusedError\u001b[0m                    Traceback (most recent call last)",
      "Cell \u001b[0;32mIn[33], line 8\u001b[0m\n\u001b[1;32m      5\u001b[0m df_selected \u001b[38;5;241m=\u001b[39m df_with_ratios\u001b[38;5;241m.\u001b[39mselect(columns_to_save)\n\u001b[1;32m      7\u001b[0m \u001b[38;5;66;03m# Convert the selected PySpark DataFrame to a Pandas DataFrame\u001b[39;00m\n\u001b[0;32m----> 8\u001b[0m alpha_df \u001b[38;5;241m=\u001b[39m \u001b[43mdf_selected\u001b[49m\u001b[38;5;241;43m.\u001b[39;49m\u001b[43mtoPandas\u001b[49m\u001b[43m(\u001b[49m\u001b[43m)\u001b[49m\n",
      "File \u001b[0;32m/opt/conda/envs/bigdata/lib/python3.10/site-packages/pyspark/sql/pandas/conversion.py:202\u001b[0m, in \u001b[0;36mPandasConversionMixin.toPandas\u001b[0;34m(self)\u001b[0m\n\u001b[1;32m    199\u001b[0m             \u001b[38;5;28;01mraise\u001b[39;00m\n\u001b[1;32m    201\u001b[0m \u001b[38;5;66;03m# Below is toPandas without Arrow optimization.\u001b[39;00m\n\u001b[0;32m--> 202\u001b[0m rows \u001b[38;5;241m=\u001b[39m \u001b[38;5;28;43mself\u001b[39;49m\u001b[38;5;241;43m.\u001b[39;49m\u001b[43mcollect\u001b[49m\u001b[43m(\u001b[49m\u001b[43m)\u001b[49m\n\u001b[1;32m    203\u001b[0m \u001b[38;5;28;01mif\u001b[39;00m \u001b[38;5;28mlen\u001b[39m(rows) \u001b[38;5;241m>\u001b[39m \u001b[38;5;241m0\u001b[39m:\n\u001b[1;32m    204\u001b[0m     pdf \u001b[38;5;241m=\u001b[39m pd\u001b[38;5;241m.\u001b[39mDataFrame\u001b[38;5;241m.\u001b[39mfrom_records(\n\u001b[1;32m    205\u001b[0m         rows, index\u001b[38;5;241m=\u001b[39m\u001b[38;5;28mrange\u001b[39m(\u001b[38;5;28mlen\u001b[39m(rows)), columns\u001b[38;5;241m=\u001b[39m\u001b[38;5;28mself\u001b[39m\u001b[38;5;241m.\u001b[39mcolumns  \u001b[38;5;66;03m# type: ignore[arg-type]\u001b[39;00m\n\u001b[1;32m    206\u001b[0m     )\n",
      "File \u001b[0;32m/opt/conda/envs/bigdata/lib/python3.10/site-packages/pyspark/sql/dataframe.py:1256\u001b[0m, in \u001b[0;36mDataFrame.collect\u001b[0;34m(self)\u001b[0m\n\u001b[1;32m   1236\u001b[0m \u001b[38;5;28;01mdef\u001b[39;00m \u001b[38;5;21mcollect\u001b[39m(\u001b[38;5;28mself\u001b[39m) \u001b[38;5;241m-\u001b[39m\u001b[38;5;241m>\u001b[39m List[Row]:\n\u001b[1;32m   1237\u001b[0m \u001b[38;5;250m    \u001b[39m\u001b[38;5;124;03m\"\"\"Returns all the records as a list of :class:`Row`.\u001b[39;00m\n\u001b[1;32m   1238\u001b[0m \n\u001b[1;32m   1239\u001b[0m \u001b[38;5;124;03m    .. versionadded:: 1.3.0\u001b[39;00m\n\u001b[0;32m   (...)\u001b[0m\n\u001b[1;32m   1254\u001b[0m \u001b[38;5;124;03m    [Row(age=14, name='Tom'), Row(age=23, name='Alice'), Row(age=16, name='Bob')]\u001b[39;00m\n\u001b[1;32m   1255\u001b[0m \u001b[38;5;124;03m    \"\"\"\u001b[39;00m\n\u001b[0;32m-> 1256\u001b[0m     \u001b[38;5;28;01mwith\u001b[39;00m SCCallSiteSync(\u001b[38;5;28mself\u001b[39m\u001b[38;5;241m.\u001b[39m_sc):\n\u001b[1;32m   1257\u001b[0m         sock_info \u001b[38;5;241m=\u001b[39m \u001b[38;5;28mself\u001b[39m\u001b[38;5;241m.\u001b[39m_jdf\u001b[38;5;241m.\u001b[39mcollectToPython()\n\u001b[1;32m   1258\u001b[0m     \u001b[38;5;28;01mreturn\u001b[39;00m \u001b[38;5;28mlist\u001b[39m(_load_from_socket(sock_info, BatchedSerializer(CPickleSerializer())))\n",
      "File \u001b[0;32m/opt/conda/envs/bigdata/lib/python3.10/site-packages/pyspark/traceback_utils.py:81\u001b[0m, in \u001b[0;36mSCCallSiteSync.__exit__\u001b[0;34m(self, type, value, tb)\u001b[0m\n\u001b[1;32m     79\u001b[0m SCCallSiteSync\u001b[38;5;241m.\u001b[39m_spark_stack_depth \u001b[38;5;241m-\u001b[39m\u001b[38;5;241m=\u001b[39m \u001b[38;5;241m1\u001b[39m\n\u001b[1;32m     80\u001b[0m \u001b[38;5;28;01mif\u001b[39;00m SCCallSiteSync\u001b[38;5;241m.\u001b[39m_spark_stack_depth \u001b[38;5;241m==\u001b[39m \u001b[38;5;241m0\u001b[39m:\n\u001b[0;32m---> 81\u001b[0m     \u001b[38;5;28;43mself\u001b[39;49m\u001b[38;5;241;43m.\u001b[39;49m\u001b[43m_context\u001b[49m\u001b[38;5;241;43m.\u001b[39;49m\u001b[43m_jsc\u001b[49m\u001b[38;5;241;43m.\u001b[39;49m\u001b[43msetCallSite\u001b[49m\u001b[43m(\u001b[49m\u001b[38;5;28;43;01mNone\u001b[39;49;00m\u001b[43m)\u001b[49m\n",
      "File \u001b[0;32m/opt/conda/envs/bigdata/lib/python3.10/site-packages/py4j/java_gateway.py:1321\u001b[0m, in \u001b[0;36mJavaMember.__call__\u001b[0;34m(self, *args)\u001b[0m\n\u001b[1;32m   1314\u001b[0m args_command, temp_args \u001b[38;5;241m=\u001b[39m \u001b[38;5;28mself\u001b[39m\u001b[38;5;241m.\u001b[39m_build_args(\u001b[38;5;241m*\u001b[39margs)\n\u001b[1;32m   1316\u001b[0m command \u001b[38;5;241m=\u001b[39m proto\u001b[38;5;241m.\u001b[39mCALL_COMMAND_NAME \u001b[38;5;241m+\u001b[39m\\\n\u001b[1;32m   1317\u001b[0m     \u001b[38;5;28mself\u001b[39m\u001b[38;5;241m.\u001b[39mcommand_header \u001b[38;5;241m+\u001b[39m\\\n\u001b[1;32m   1318\u001b[0m     args_command \u001b[38;5;241m+\u001b[39m\\\n\u001b[1;32m   1319\u001b[0m     proto\u001b[38;5;241m.\u001b[39mEND_COMMAND_PART\n\u001b[0;32m-> 1321\u001b[0m answer \u001b[38;5;241m=\u001b[39m \u001b[38;5;28;43mself\u001b[39;49m\u001b[38;5;241;43m.\u001b[39;49m\u001b[43mgateway_client\u001b[49m\u001b[38;5;241;43m.\u001b[39;49m\u001b[43msend_command\u001b[49m\u001b[43m(\u001b[49m\u001b[43mcommand\u001b[49m\u001b[43m)\u001b[49m\n\u001b[1;32m   1322\u001b[0m return_value \u001b[38;5;241m=\u001b[39m get_return_value(\n\u001b[1;32m   1323\u001b[0m     answer, \u001b[38;5;28mself\u001b[39m\u001b[38;5;241m.\u001b[39mgateway_client, \u001b[38;5;28mself\u001b[39m\u001b[38;5;241m.\u001b[39mtarget_id, \u001b[38;5;28mself\u001b[39m\u001b[38;5;241m.\u001b[39mname)\n\u001b[1;32m   1325\u001b[0m \u001b[38;5;28;01mfor\u001b[39;00m temp_arg \u001b[38;5;129;01min\u001b[39;00m temp_args:\n",
      "File \u001b[0;32m/opt/conda/envs/bigdata/lib/python3.10/site-packages/py4j/java_gateway.py:1036\u001b[0m, in \u001b[0;36mGatewayClient.send_command\u001b[0;34m(self, command, retry, binary)\u001b[0m\n\u001b[1;32m   1015\u001b[0m \u001b[38;5;28;01mdef\u001b[39;00m \u001b[38;5;21msend_command\u001b[39m(\u001b[38;5;28mself\u001b[39m, command, retry\u001b[38;5;241m=\u001b[39m\u001b[38;5;28;01mTrue\u001b[39;00m, binary\u001b[38;5;241m=\u001b[39m\u001b[38;5;28;01mFalse\u001b[39;00m):\n\u001b[1;32m   1016\u001b[0m \u001b[38;5;250m    \u001b[39m\u001b[38;5;124;03m\"\"\"Sends a command to the JVM. This method is not intended to be\u001b[39;00m\n\u001b[1;32m   1017\u001b[0m \u001b[38;5;124;03m       called directly by Py4J users. It is usually called by\u001b[39;00m\n\u001b[1;32m   1018\u001b[0m \u001b[38;5;124;03m       :class:`JavaMember` instances.\u001b[39;00m\n\u001b[0;32m   (...)\u001b[0m\n\u001b[1;32m   1034\u001b[0m \u001b[38;5;124;03m     if `binary` is `True`.\u001b[39;00m\n\u001b[1;32m   1035\u001b[0m \u001b[38;5;124;03m    \"\"\"\u001b[39;00m\n\u001b[0;32m-> 1036\u001b[0m     connection \u001b[38;5;241m=\u001b[39m \u001b[38;5;28;43mself\u001b[39;49m\u001b[38;5;241;43m.\u001b[39;49m\u001b[43m_get_connection\u001b[49m\u001b[43m(\u001b[49m\u001b[43m)\u001b[49m\n\u001b[1;32m   1037\u001b[0m     \u001b[38;5;28;01mtry\u001b[39;00m:\n\u001b[1;32m   1038\u001b[0m         response \u001b[38;5;241m=\u001b[39m connection\u001b[38;5;241m.\u001b[39msend_command(command)\n",
      "File \u001b[0;32m/opt/conda/envs/bigdata/lib/python3.10/site-packages/py4j/clientserver.py:284\u001b[0m, in \u001b[0;36mJavaClient._get_connection\u001b[0;34m(self)\u001b[0m\n\u001b[1;32m    281\u001b[0m     \u001b[38;5;28;01mpass\u001b[39;00m\n\u001b[1;32m    283\u001b[0m \u001b[38;5;28;01mif\u001b[39;00m connection \u001b[38;5;129;01mis\u001b[39;00m \u001b[38;5;28;01mNone\u001b[39;00m \u001b[38;5;129;01mor\u001b[39;00m connection\u001b[38;5;241m.\u001b[39msocket \u001b[38;5;129;01mis\u001b[39;00m \u001b[38;5;28;01mNone\u001b[39;00m:\n\u001b[0;32m--> 284\u001b[0m     connection \u001b[38;5;241m=\u001b[39m \u001b[38;5;28;43mself\u001b[39;49m\u001b[38;5;241;43m.\u001b[39;49m\u001b[43m_create_new_connection\u001b[49m\u001b[43m(\u001b[49m\u001b[43m)\u001b[49m\n\u001b[1;32m    285\u001b[0m \u001b[38;5;28;01mreturn\u001b[39;00m connection\n",
      "File \u001b[0;32m/opt/conda/envs/bigdata/lib/python3.10/site-packages/py4j/clientserver.py:291\u001b[0m, in \u001b[0;36mJavaClient._create_new_connection\u001b[0;34m(self)\u001b[0m\n\u001b[1;32m    287\u001b[0m \u001b[38;5;28;01mdef\u001b[39;00m \u001b[38;5;21m_create_new_connection\u001b[39m(\u001b[38;5;28mself\u001b[39m):\n\u001b[1;32m    288\u001b[0m     connection \u001b[38;5;241m=\u001b[39m ClientServerConnection(\n\u001b[1;32m    289\u001b[0m         \u001b[38;5;28mself\u001b[39m\u001b[38;5;241m.\u001b[39mjava_parameters, \u001b[38;5;28mself\u001b[39m\u001b[38;5;241m.\u001b[39mpython_parameters,\n\u001b[1;32m    290\u001b[0m         \u001b[38;5;28mself\u001b[39m\u001b[38;5;241m.\u001b[39mgateway_property, \u001b[38;5;28mself\u001b[39m)\n\u001b[0;32m--> 291\u001b[0m     \u001b[43mconnection\u001b[49m\u001b[38;5;241;43m.\u001b[39;49m\u001b[43mconnect_to_java_server\u001b[49m\u001b[43m(\u001b[49m\u001b[43m)\u001b[49m\n\u001b[1;32m    292\u001b[0m     \u001b[38;5;28mself\u001b[39m\u001b[38;5;241m.\u001b[39mset_thread_connection(connection)\n\u001b[1;32m    293\u001b[0m     \u001b[38;5;28;01mreturn\u001b[39;00m connection\n",
      "File \u001b[0;32m/opt/conda/envs/bigdata/lib/python3.10/site-packages/py4j/clientserver.py:438\u001b[0m, in \u001b[0;36mClientServerConnection.connect_to_java_server\u001b[0;34m(self)\u001b[0m\n\u001b[1;32m    435\u001b[0m \u001b[38;5;28;01mif\u001b[39;00m \u001b[38;5;28mself\u001b[39m\u001b[38;5;241m.\u001b[39mssl_context:\n\u001b[1;32m    436\u001b[0m     \u001b[38;5;28mself\u001b[39m\u001b[38;5;241m.\u001b[39msocket \u001b[38;5;241m=\u001b[39m \u001b[38;5;28mself\u001b[39m\u001b[38;5;241m.\u001b[39mssl_context\u001b[38;5;241m.\u001b[39mwrap_socket(\n\u001b[1;32m    437\u001b[0m         \u001b[38;5;28mself\u001b[39m\u001b[38;5;241m.\u001b[39msocket, server_hostname\u001b[38;5;241m=\u001b[39m\u001b[38;5;28mself\u001b[39m\u001b[38;5;241m.\u001b[39mjava_address)\n\u001b[0;32m--> 438\u001b[0m \u001b[38;5;28;43mself\u001b[39;49m\u001b[38;5;241;43m.\u001b[39;49m\u001b[43msocket\u001b[49m\u001b[38;5;241;43m.\u001b[39;49m\u001b[43mconnect\u001b[49m\u001b[43m(\u001b[49m\u001b[43m(\u001b[49m\u001b[38;5;28;43mself\u001b[39;49m\u001b[38;5;241;43m.\u001b[39;49m\u001b[43mjava_address\u001b[49m\u001b[43m,\u001b[49m\u001b[43m \u001b[49m\u001b[38;5;28;43mself\u001b[39;49m\u001b[38;5;241;43m.\u001b[39;49m\u001b[43mjava_port\u001b[49m\u001b[43m)\u001b[49m\u001b[43m)\u001b[49m\n\u001b[1;32m    439\u001b[0m \u001b[38;5;28mself\u001b[39m\u001b[38;5;241m.\u001b[39mstream \u001b[38;5;241m=\u001b[39m \u001b[38;5;28mself\u001b[39m\u001b[38;5;241m.\u001b[39msocket\u001b[38;5;241m.\u001b[39mmakefile(\u001b[38;5;124m\"\u001b[39m\u001b[38;5;124mrb\u001b[39m\u001b[38;5;124m\"\u001b[39m)\n\u001b[1;32m    440\u001b[0m \u001b[38;5;28mself\u001b[39m\u001b[38;5;241m.\u001b[39mis_connected \u001b[38;5;241m=\u001b[39m \u001b[38;5;28;01mTrue\u001b[39;00m\n",
      "\u001b[0;31mConnectionRefusedError\u001b[0m: [Errno 111] Connection refused"
     ]
    }
   ],
   "source": [
    "# Specify the columns you want to save\n",
    "columns_to_save = [\"protein_id\", \"avg_pLDDT\"] + [aa + \"_ratio\" for aa in amino_acids]\n",
    "\n",
    "# Select the columns from the df_with_ratios DataFrame\n",
    "df_selected = df_with_ratios.select(columns_to_save)\n",
    "\n",
    "# Convert the selected PySpark DataFrame to a Pandas DataFrame\n",
    "alpha_df = df_selected.toPandas()"
   ]
  },
  {
   "cell_type": "code",
   "execution_count": null,
   "id": "d351d0f5-125d-4ff0-b179-48508904e839",
   "metadata": {},
   "outputs": [],
   "source": [
    "alpha_df.head()"
   ]
  },
  {
   "cell_type": "code",
   "execution_count": null,
   "id": "11d3eb33-63ce-4b7b-8ed8-981c8f5b5f1f",
   "metadata": {},
   "outputs": [],
   "source": [
    "alpha_df.to_csv('alpha_df.csv', index=False)  "
   ]
  },
  {
   "cell_type": "markdown",
   "id": "0985bb56-6457-41f6-8dcf-c484a09f1c4b",
   "metadata": {},
   "source": [
    "Correlation"
   ]
  },
  {
   "cell_type": "code",
   "execution_count": 30,
   "id": "4483d3e3-2fa3-49ea-9ed3-4f21bda9e95c",
   "metadata": {},
   "outputs": [
    {
     "ename": "ValueError",
     "evalue": "could not convert string to float: 'P01764'",
     "output_type": "error",
     "traceback": [
      "\u001b[0;31m---------------------------------------------------------------------------\u001b[0m",
      "\u001b[0;31mValueError\u001b[0m                                Traceback (most recent call last)",
      "Cell \u001b[0;32mIn[30], line 4\u001b[0m\n\u001b[1;32m      1\u001b[0m \u001b[38;5;66;03m# Compute the correlation between the ratio of each amino acid and the avg_pLDDT\u001b[39;00m\n\u001b[1;32m      2\u001b[0m \n\u001b[1;32m      3\u001b[0m \u001b[38;5;66;03m# Calculate the correlation matrix for the selected columns\u001b[39;00m\n\u001b[0;32m----> 4\u001b[0m correlation_matrix \u001b[38;5;241m=\u001b[39m \u001b[43malpha_df\u001b[49m\u001b[38;5;241;43m.\u001b[39;49m\u001b[43mcorr\u001b[49m\u001b[43m(\u001b[49m\u001b[43m)\u001b[49m\n\u001b[1;32m      6\u001b[0m \u001b[38;5;66;03m# Extract the correlation of avg_pLDDT with each amino acid ratio\u001b[39;00m\n\u001b[1;32m      7\u001b[0m correlation_with_avg_pLDDT \u001b[38;5;241m=\u001b[39m correlation_matrix\u001b[38;5;241m.\u001b[39mloc[\u001b[38;5;124m\"\u001b[39m\u001b[38;5;124mavg_pLDDT\u001b[39m\u001b[38;5;124m\"\u001b[39m, [aa \u001b[38;5;241m+\u001b[39m \u001b[38;5;124m\"\u001b[39m\u001b[38;5;124m_ratio\u001b[39m\u001b[38;5;124m\"\u001b[39m \u001b[38;5;28;01mfor\u001b[39;00m aa \u001b[38;5;129;01min\u001b[39;00m amino_acids]]\n",
      "File \u001b[0;32m/opt/conda/envs/bigdata/lib/python3.10/site-packages/pandas/core/frame.py:11022\u001b[0m, in \u001b[0;36mDataFrame.corr\u001b[0;34m(self, method, min_periods, numeric_only)\u001b[0m\n\u001b[1;32m  11020\u001b[0m cols \u001b[38;5;241m=\u001b[39m data\u001b[38;5;241m.\u001b[39mcolumns\n\u001b[1;32m  11021\u001b[0m idx \u001b[38;5;241m=\u001b[39m cols\u001b[38;5;241m.\u001b[39mcopy()\n\u001b[0;32m> 11022\u001b[0m mat \u001b[38;5;241m=\u001b[39m \u001b[43mdata\u001b[49m\u001b[38;5;241;43m.\u001b[39;49m\u001b[43mto_numpy\u001b[49m\u001b[43m(\u001b[49m\u001b[43mdtype\u001b[49m\u001b[38;5;241;43m=\u001b[39;49m\u001b[38;5;28;43mfloat\u001b[39;49m\u001b[43m,\u001b[49m\u001b[43m \u001b[49m\u001b[43mna_value\u001b[49m\u001b[38;5;241;43m=\u001b[39;49m\u001b[43mnp\u001b[49m\u001b[38;5;241;43m.\u001b[39;49m\u001b[43mnan\u001b[49m\u001b[43m,\u001b[49m\u001b[43m \u001b[49m\u001b[43mcopy\u001b[49m\u001b[38;5;241;43m=\u001b[39;49m\u001b[38;5;28;43;01mFalse\u001b[39;49;00m\u001b[43m)\u001b[49m\n\u001b[1;32m  11024\u001b[0m \u001b[38;5;28;01mif\u001b[39;00m method \u001b[38;5;241m==\u001b[39m \u001b[38;5;124m\"\u001b[39m\u001b[38;5;124mpearson\u001b[39m\u001b[38;5;124m\"\u001b[39m:\n\u001b[1;32m  11025\u001b[0m     correl \u001b[38;5;241m=\u001b[39m libalgos\u001b[38;5;241m.\u001b[39mnancorr(mat, minp\u001b[38;5;241m=\u001b[39mmin_periods)\n",
      "File \u001b[0;32m/opt/conda/envs/bigdata/lib/python3.10/site-packages/pandas/core/frame.py:1981\u001b[0m, in \u001b[0;36mDataFrame.to_numpy\u001b[0;34m(self, dtype, copy, na_value)\u001b[0m\n\u001b[1;32m   1979\u001b[0m \u001b[38;5;28;01mif\u001b[39;00m dtype \u001b[38;5;129;01mis\u001b[39;00m \u001b[38;5;129;01mnot\u001b[39;00m \u001b[38;5;28;01mNone\u001b[39;00m:\n\u001b[1;32m   1980\u001b[0m     dtype \u001b[38;5;241m=\u001b[39m np\u001b[38;5;241m.\u001b[39mdtype(dtype)\n\u001b[0;32m-> 1981\u001b[0m result \u001b[38;5;241m=\u001b[39m \u001b[38;5;28;43mself\u001b[39;49m\u001b[38;5;241;43m.\u001b[39;49m\u001b[43m_mgr\u001b[49m\u001b[38;5;241;43m.\u001b[39;49m\u001b[43mas_array\u001b[49m\u001b[43m(\u001b[49m\u001b[43mdtype\u001b[49m\u001b[38;5;241;43m=\u001b[39;49m\u001b[43mdtype\u001b[49m\u001b[43m,\u001b[49m\u001b[43m \u001b[49m\u001b[43mcopy\u001b[49m\u001b[38;5;241;43m=\u001b[39;49m\u001b[43mcopy\u001b[49m\u001b[43m,\u001b[49m\u001b[43m \u001b[49m\u001b[43mna_value\u001b[49m\u001b[38;5;241;43m=\u001b[39;49m\u001b[43mna_value\u001b[49m\u001b[43m)\u001b[49m\n\u001b[1;32m   1982\u001b[0m \u001b[38;5;28;01mif\u001b[39;00m result\u001b[38;5;241m.\u001b[39mdtype \u001b[38;5;129;01mis\u001b[39;00m \u001b[38;5;129;01mnot\u001b[39;00m dtype:\n\u001b[1;32m   1983\u001b[0m     result \u001b[38;5;241m=\u001b[39m np\u001b[38;5;241m.\u001b[39marray(result, dtype\u001b[38;5;241m=\u001b[39mdtype, copy\u001b[38;5;241m=\u001b[39m\u001b[38;5;28;01mFalse\u001b[39;00m)\n",
      "File \u001b[0;32m/opt/conda/envs/bigdata/lib/python3.10/site-packages/pandas/core/internals/managers.py:1693\u001b[0m, in \u001b[0;36mBlockManager.as_array\u001b[0;34m(self, dtype, copy, na_value)\u001b[0m\n\u001b[1;32m   1691\u001b[0m         arr\u001b[38;5;241m.\u001b[39mflags\u001b[38;5;241m.\u001b[39mwriteable \u001b[38;5;241m=\u001b[39m \u001b[38;5;28;01mFalse\u001b[39;00m\n\u001b[1;32m   1692\u001b[0m \u001b[38;5;28;01melse\u001b[39;00m:\n\u001b[0;32m-> 1693\u001b[0m     arr \u001b[38;5;241m=\u001b[39m \u001b[38;5;28;43mself\u001b[39;49m\u001b[38;5;241;43m.\u001b[39;49m\u001b[43m_interleave\u001b[49m\u001b[43m(\u001b[49m\u001b[43mdtype\u001b[49m\u001b[38;5;241;43m=\u001b[39;49m\u001b[43mdtype\u001b[49m\u001b[43m,\u001b[49m\u001b[43m \u001b[49m\u001b[43mna_value\u001b[49m\u001b[38;5;241;43m=\u001b[39;49m\u001b[43mna_value\u001b[49m\u001b[43m)\u001b[49m\n\u001b[1;32m   1694\u001b[0m     \u001b[38;5;66;03m# The underlying data was copied within _interleave, so no need\u001b[39;00m\n\u001b[1;32m   1695\u001b[0m     \u001b[38;5;66;03m# to further copy if copy=True or setting na_value\u001b[39;00m\n\u001b[1;32m   1697\u001b[0m \u001b[38;5;28;01mif\u001b[39;00m na_value \u001b[38;5;129;01mis\u001b[39;00m lib\u001b[38;5;241m.\u001b[39mno_default:\n",
      "File \u001b[0;32m/opt/conda/envs/bigdata/lib/python3.10/site-packages/pandas/core/internals/managers.py:1752\u001b[0m, in \u001b[0;36mBlockManager._interleave\u001b[0;34m(self, dtype, na_value)\u001b[0m\n\u001b[1;32m   1750\u001b[0m     \u001b[38;5;28;01melse\u001b[39;00m:\n\u001b[1;32m   1751\u001b[0m         arr \u001b[38;5;241m=\u001b[39m blk\u001b[38;5;241m.\u001b[39mget_values(dtype)\n\u001b[0;32m-> 1752\u001b[0m     \u001b[43mresult\u001b[49m\u001b[43m[\u001b[49m\u001b[43mrl\u001b[49m\u001b[38;5;241;43m.\u001b[39;49m\u001b[43mindexer\u001b[49m\u001b[43m]\u001b[49m \u001b[38;5;241m=\u001b[39m arr\n\u001b[1;32m   1753\u001b[0m     itemmask[rl\u001b[38;5;241m.\u001b[39mindexer] \u001b[38;5;241m=\u001b[39m \u001b[38;5;241m1\u001b[39m\n\u001b[1;32m   1755\u001b[0m \u001b[38;5;28;01mif\u001b[39;00m \u001b[38;5;129;01mnot\u001b[39;00m itemmask\u001b[38;5;241m.\u001b[39mall():\n",
      "\u001b[0;31mValueError\u001b[0m: could not convert string to float: 'P01764'"
     ]
    }
   ],
   "source": [
    "# Compute the correlation between the ratio of each amino acid and the avg_pLDDT\n",
    "\n",
    "# Calculate the correlation matrix for the selected columns\n",
    "correlation_matrix = alpha_df.corr()\n",
    "\n",
    "# Extract the correlation of avg_pLDDT with each amino acid ratio\n",
    "correlation_with_avg_pLDDT = correlation_matrix.loc[\"avg_pLDDT\", [aa + \"_ratio\" for aa in amino_acids]]\n",
    "\n",
    "# Display the correlation of avg_pLDDT with each amino acid ratio\n",
    "print(\"Correlation between avg_pLDDT and each amino acid ratio:\")\n",
    "print(correlation_with_avg_pLDDT)\n"
   ]
  },
  {
   "cell_type": "code",
   "execution_count": null,
   "id": "6c1637a9-724c-4c9d-8245-a71c253b4a38",
   "metadata": {},
   "outputs": [],
   "source": [
    "# Compute the correlation between protein length and avg_pLDDT\n",
    "\n",
    "# Calculate the correlation between 'protein_seq_len' and 'avg_pLDDT'\n",
    "correlation_length_avg_pLDDT = alpha_df[[\"protein_seq_len\", \"avg_pLDDT\"]].corr().loc[\"protein_seq_len\", \"avg_pLDDT\"]\n",
    "\n",
    "# Display the correlation\n",
    "print(f\"Correlation between protein length and avg_pLDDT: {correlation_length_avg_pLDDT}\")\n"
   ]
  },
  {
   "cell_type": "code",
   "execution_count": null,
   "id": "6a1c6a6e-f310-4e41-a16c-826e71fca78a",
   "metadata": {},
   "outputs": [],
   "source": [
    "from pyspark.ml.feature import VectorAssembler\n",
    "from pyspark.ml.regression import LinearRegression\n",
    "from pyspark.ml.evaluation import RegressionEvaluator\n",
    "\n",
    "# Select the columns for the model\n",
    "features_columns = [\"protein_seq_len\"] + [aa + \"_ratio\" for aa in amino_acids]\n",
    "label_column = \"avg_pLDDT\"\n",
    "\n",
    "# Convert the selected columns into a single feature vector using VectorAssembler\n",
    "assembler = VectorAssembler(inputCols=features_columns, outputCol=\"features\")\n",
    "\n",
    "# Transform the DataFrame to add the features column\n",
    "df_transformed = assembler.transform(df_with_ratios)\n",
    "\n",
    "# Split the data into training and test sets\n",
    "(train_data, test_data) = df_transformed.randomSplit([0.8, 0.2], seed=42)\n",
    "\n",
    "# Define the LinearRegression model\n",
    "lr = LinearRegression(featuresCol=\"features\", labelCol=label_column)\n",
    "\n",
    "# Fit the model on the training data\n",
    "model = lr.fit(train_data)\n",
    "\n",
    "# Make predictions on the test data\n",
    "predictions = model.transform(test_data)\n",
    "\n",
    "# Evaluate the model's performance using the test data\n",
    "evaluator = RegressionEvaluator(labelCol=label_column, predictionCol=\"prediction\", metricName=\"rmse\")\n",
    "\n",
    "# Compute the root mean squared error (RMSE)\n",
    "rmse = evaluator.evaluate(predictions)\n",
    "print(f\"Root Mean Squared Error (RMSE) on test data: {rmse}\")"
   ]
  },
  {
   "cell_type": "code",
   "execution_count": null,
   "id": "4c9b2148-16d3-40aa-8c4d-68df55d87810",
   "metadata": {},
   "outputs": [],
   "source": []
  }
 ],
 "metadata": {
  "kernelspec": {
   "display_name": "Python [conda env:bigdata]",
   "language": "python",
   "name": "conda-env-bigdata-py"
  },
  "language_info": {
   "codemirror_mode": {
    "name": "ipython",
    "version": 3
   },
   "file_extension": ".py",
   "mimetype": "text/x-python",
   "name": "python",
   "nbconvert_exporter": "python",
   "pygments_lexer": "ipython3",
   "version": "3.10.13"
  }
 },
 "nbformat": 4,
 "nbformat_minor": 5
}
